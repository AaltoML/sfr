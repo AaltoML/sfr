{
 "cells": [
  {
   "cell_type": "code",
   "execution_count": null,
   "id": "0d5d3da4",
   "metadata": {},
   "outputs": [],
   "source": [
    "import torch\n",
    "import numpy as np\n",
    "import matplotlib.pyplot as plt\n",
    "\n",
    "from torch.nn.utils import parameters_to_vector\n",
    "from torch.optim import Adam\n",
    "import preds.models\n",
    "#from preds.models.py import MLPS\n",
    "#from preds.likelihoods import GaussianLh\n",
    "#from preds.datasets import SnelsonGen\n",
    "#from preds.laplace import Laplace"
   ]
  },
  {
   "cell_type": "code",
   "execution_count": 1,
   "id": "182f7b81",
   "metadata": {},
   "outputs": [
    {
     "ename": "NameError",
     "evalue": "name 'MLPS' is not defined",
     "output_type": "error",
     "traceback": [
      "\u001b[0;31m---------------------------------------------------------------------------\u001b[0m",
      "\u001b[0;31mNameError\u001b[0m                                 Traceback (most recent call last)",
      "\u001b[0;32m/var/folders/mb/q209wf797q9b2mggmld8bt8w0000gp/T/ipykernel_16880/746451255.py\u001b[0m in \u001b[0;36m<module>\u001b[0;34m\u001b[0m\n\u001b[0;32m----> 1\u001b[0;31m \u001b[0ma\u001b[0m \u001b[0;34m=\u001b[0m \u001b[0mMLPS\u001b[0m\u001b[0;34m(\u001b[0m\u001b[0;34m)\u001b[0m\u001b[0;34m\u001b[0m\u001b[0m\n\u001b[0m",
      "\u001b[0;31mNameError\u001b[0m: name 'MLPS' is not defined"
     ]
    }
   ],
   "source": [
    "a = MLPS()"
   ]
  }
 ],
 "metadata": {
  "kernelspec": {
   "display_name": "Python 3 (ipykernel)",
   "language": "python",
   "name": "python3"
  },
  "language_info": {
   "codemirror_mode": {
    "name": "ipython",
    "version": 3
   },
   "file_extension": ".py",
   "mimetype": "text/x-python",
   "name": "python",
   "nbconvert_exporter": "python",
   "pygments_lexer": "ipython3",
   "version": "3.7.0"
  }
 },
 "nbformat": 4,
 "nbformat_minor": 5
}
