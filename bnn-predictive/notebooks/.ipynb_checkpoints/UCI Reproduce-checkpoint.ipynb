{
 "cells": [
  {
   "cell_type": "code",
   "execution_count": 48,
   "id": "cce7f49f",
   "metadata": {},
   "outputs": [],
   "source": [
    "import torch\n",
    "import numpy as np\n",
    "import matplotlib.pyplot as plt\n",
    "from torch.nn.utils import parameters_to_vector\n",
    "from torch.optim import Adam\n",
    "from torch.distributions import MultivariateNormal, Normal\n",
    "from preds.models import MLPS\n",
    "\n",
    "from preds.likelihoods import CategoricalLh\n",
    "from preds.datasets import UCIClassificationDatasets\n",
    "from preds.laplace import Laplace"
   ]
  },
  {
   "cell_type": "markdown",
   "id": "5cf8dc32",
   "metadata": {},
   "source": [
    "Includes some playing around with the Immer et al. dataset and model classes and a script for running the UCI experiemnts (with hyperparameters as in the paper appendix)"
   ]
  },
  {
   "cell_type": "markdown",
   "id": "c7bc00ad",
   "metadata": {},
   "source": [
    "Testing the dataset and model classes"
   ]
  },
  {
   "cell_type": "code",
   "execution_count": null,
   "id": "fd036c14",
   "metadata": {},
   "outputs": [],
   "source": [
    "width = 50 # as in Immer et al. \n",
    "depth = 2 # as in Immer et al. \n",
    "prior_prec = np.logspace(-2, 2, num=10)[0] # as in Immer et al. but depends on dataset\n",
    "lr = 1e-3 # as in Immer et al. \n",
    "n_epochs = 10000\n",
    "n_samples = 1000\n",
    "train_size = 0.70 # as in Immer et al. \n",
    "lh = CateoricalLh()  \n",
    "uci_dataset = 'glass'\n",
    "root_dir = '../data/'\n",
    "device = 'cpu'"
   ]
  },
  {
   "cell_type": "markdown",
   "id": "5bbdd49f",
   "metadata": {},
   "source": [
    "Load training data"
   ]
  },
  {
   "cell_type": "code",
   "execution_count": null,
   "id": "c2b75edf",
   "metadata": {},
   "outputs": [],
   "source": [
    "ds_train = UCIClassificationDatasets(train=True, data_set=uci_dataset, split_train_size=train_size, double=False, root=root_dir)\n",
    "X_train, y_train = ds_train.data.to(device), ds_train.targets.to(device).unsqueeze(1)\n",
    "train_loader = [(X_train, y_train)]  "
   ]
  },
  {
   "cell_type": "markdown",
   "id": "d202d34d",
   "metadata": {},
   "source": [
    "Load validation data"
   ]
  },
  {
   "cell_type": "code",
   "execution_count": null,
   "id": "410628e9",
   "metadata": {},
   "outputs": [],
   "source": [
    "ds_val = UCIClassificationDatasets(train=False,valid=True, data_set=uci_dataset, split_train_size=train_size, double=False, root=root_dir)\n",
    "X_val, y_val = ds_val.data.to(device), ds_val.targets.to(device).unsqueeze(1)\n",
    "val_loader = [(X_val, y_val)] "
   ]
  },
  {
   "cell_type": "code",
   "execution_count": null,
   "id": "69f517c9",
   "metadata": {},
   "outputs": [],
   "source": [
    "X_train.shape"
   ]
  },
  {
   "cell_type": "code",
   "execution_count": null,
   "id": "0ae9719f",
   "metadata": {},
   "outputs": [],
   "source": [
    "model = MLPS(X_train.shape[1], [width]*depth, 1, activation='tanh', flatten=False).to(device)\n",
    "optim = Adam(model.parameters(), lr=lr)\n",
    "losses = list()\n",
    "for i in range(n_epochs):\n",
    "    f = model(X_train)\n",
    "    w = parameters_to_vector(model.parameters())\n",
    "    reg = 0.5 * prior_prec * w @ w\n",
    "    loss = - lh.log_likelihood(y_train, f) + reg\n",
    "    loss.backward()\n",
    "    optim.step()\n",
    "    losses.append(loss.item())\n",
    "    model.zero_grad()\n"
   ]
  },
  {
   "cell_type": "code",
   "execution_count": null,
   "id": "bc8bb255",
   "metadata": {},
   "outputs": [],
   "source": [
    "lap = Laplace(model, float(prior_prec), lh)\n",
    "\n",
    "\n",
    "def get_pred_for(x, model_type='glm', cov_type='full'):\n",
    "    #### INFERENCE (Posterior approximation) ####\n",
    "    lap.infer(train_loader, cov_type=cov_type, dampen_kron=model_type=='bnn')\n",
    "    if model_type == 'glm':\n",
    "        #### GLM PREDICTIVE ####\n",
    "        mu, var = lap.predictive_samples_glm(x, n_samples=n_samples)\n",
    "    elif model_type == 'bnn':\n",
    "        #### BNN PREDICTIVE ####\n",
    "        samples = lap.predictive_samples_bnn(x, n_samples=n_samples)\n",
    "        mu = samples.mean(axis=0)\n",
    "        var = samples.cov(axis=0)\n",
    "    else:\n",
    "        raise ValueError('unsupported model_type.')\n",
    "    mu = mu.detach().cpu().squeeze()\n",
    "    var = var.detach().cpu().squeeze()\n",
    "    return mu, var"
   ]
  },
  {
   "cell_type": "code",
   "execution_count": null,
   "id": "7435e9d6",
   "metadata": {},
   "outputs": [],
   "source": [
    "print(X_train.dtype)\n",
    "print(X_val.dtype)\n",
    "print(mu.dtype)"
   ]
  },
  {
   "cell_type": "code",
   "execution_count": null,
   "id": "17bae456",
   "metadata": {},
   "outputs": [],
   "source": [
    "# GLM\n",
    "\n",
    "mu_glm, var_glm = get_pred_for(X_val, 'glm', 'full')# runs\n",
    "# mu_glm_kron, var_glm_kron = get_pred_for(X_val, 'glm', 'kron') # doesn't run\n",
    "#mu, var = get_pred_for(X_val, 'glm', 'diag')# doesn't run\n",
    "\n",
    "# BNN\n",
    "mu_bnn, var_bnn = get_pred_for(X_val, 'bnn', 'full')"
   ]
  },
  {
   "cell_type": "code",
   "execution_count": null,
   "id": "e65f1a3b",
   "metadata": {},
   "outputs": [],
   "source": [
    "y_val.shape"
   ]
  },
  {
   "cell_type": "code",
   "execution_count": null,
   "id": "f9adcae8",
   "metadata": {},
   "outputs": [],
   "source": [
    "lh_glm = Normal(mu_glm, var_glm)\n",
    "print(-torch.mean(lh_glm.log_prob(y_val.squeeze(-1))))"
   ]
  },
  {
   "cell_type": "code",
   "execution_count": null,
   "id": "4935af6e",
   "metadata": {},
   "outputs": [],
   "source": [
    "lh_bnn = Normal(mu_bnn, var_bnn)\n",
    "print(-torch.mean(lh_bnn.log_prob(y_val.squeeze(-1))))"
   ]
  },
  {
   "cell_type": "markdown",
   "id": "601765b1",
   "metadata": {},
   "source": [
    "<h2>Run the classification pipeline for chosen dataset </h2>"
   ]
  },
  {
   "cell_type": "markdown",
   "id": "18fc6093",
   "metadata": {},
   "source": [
    "The classification.py script tests 10 options for the prior precision, with a fixed train/val/test split. The results reported in the paper are over 10 different train/val/test splits"
   ]
  },
  {
   "cell_type": "code",
   "execution_count": 8,
   "id": "4d088e55",
   "metadata": {},
   "outputs": [],
   "source": [
    "datasets = ['australian', 'breast_cancer', 'digits', 'glass',\n",
    "            'ionosphere', 'satellite', 'vehicle', 'waveform']\n",
    "seeds = [711, 1, 75, 359, 17, 420, 129, 666, 69, 36]\n",
    "dataset = 'breast_cancer'"
   ]
  },
  {
   "cell_type": "code",
   "execution_count": null,
   "id": "760da084",
   "metadata": {},
   "outputs": [
    {
     "name": "stdout",
     "output_type": "stream",
     "text": [
      "Writing results to ../experiments/results\n",
      "Reading data from ../data\n",
      "100%|██████████████████████████████████████████| 10/10 [42:12<00:00, 253.22s/it]\n",
      "Writing results to ../experiments/results\n",
      "Reading data from ../data\n",
      "100%|██████████████████████████████████████████| 10/10 [53:43<00:00, 322.32s/it]\n",
      "Writing results to ../experiments/results\n",
      "Reading data from ../data\n",
      "100%|██████████████████████████████████████████| 10/10 [44:43<00:00, 268.37s/it]\n",
      "Writing results to ../experiments/results\n",
      "Reading data from ../data\n",
      " 60%|█████████████████████████▊                 | 6/10 [24:45<16:41, 250.35s/it]"
     ]
    }
   ],
   "source": [
    "for seed in seeds:\n",
    "    if dataset in ['satellite', 'digits']:\n",
    "        logmin = -1.0\n",
    "    else:\n",
    "        logmin = -2.0\n",
    "    !python3 ../experiments/classification.py -d {dataset} --root_dir ../ --seed {seed} --n_layers 2 --activation tanh --name tanh_2 --logd_min {logmin}"
   ]
  },
  {
   "cell_type": "markdown",
   "id": "9320234e",
   "metadata": {},
   "source": [
    "The experiment in experiments/uci_classification_commands.py could otherwise be used, but it does not take into account the different hyperparameter settings required for satellite & digits datasets (different range for prior precision)"
   ]
  },
  {
   "cell_type": "markdown",
   "id": "ab25be1a",
   "metadata": {},
   "source": [
    "<h2> Manual reading of the result pickle</h2>\n",
    "Read the result pickle (for a single experiment with various prior precisions)"
   ]
  },
  {
   "cell_type": "code",
   "execution_count": 53,
   "id": "cc0053d3",
   "metadata": {},
   "outputs": [],
   "source": [
    "import pickle\n",
    "import os\n",
    "dataset = 'digits'\n",
    "name = 'sparse_quarter'\n",
    "datasets = ['australian', 'breast_cancer', 'digits', 'glass',\n",
    "            'ionosphere', 'satellite', 'vehicle', 'waveform']\n",
    "seeds = [711, 1, 75, 359, 17, 420, 129, 666, 69, 36]\n",
    "#seeds = [711, 1, 75, 359, 17, 420, 129, 69]\n"
   ]
  },
  {
   "cell_type": "markdown",
   "id": "6f5fd793",
   "metadata": {},
   "source": [
    "Find  which prior precision gives the best validation NLL for the dataset (based on average NLL performance)"
   ]
  },
  {
   "cell_type": "code",
   "execution_count": 79,
   "id": "bdd6af29",
   "metadata": {},
   "outputs": [],
   "source": [
    "def get_val_best(result_list, model_name='svgp_ntk'):\n",
    "    valid_nlls = np.zeros((len(result_list), len(result_list[0]['deltas'])))\n",
    "    for i, results in enumerate(result_list):\n",
    "        for j, res in enumerate(results['results']):\n",
    "            if 'valid_nll_svgp_ntk' not in res:\n",
    "                print(seeds[i])\n",
    "                continue\n",
    "            valid_nlls[i, j] = res[f'valid_nll_{model_name}']\n",
    "    mean_nlls = np.mean(valid_nlls, axis=0)\n",
    "    min_nll = mean_nlls.min()\n",
    "    min_index = list(mean_nlls).index(min_nll)\n",
    "    return min_index\n",
    "\n",
    "def get_result_list(dataset, name, seeds):   \n",
    "    result_list = []\n",
    "    for seed in seeds:\n",
    "        file_name = f'../experiments/results/uci/classification_{dataset}_{name}_{seed}.pkl'\n",
    "        if os.path.isfile(file_name):\n",
    "            with open(file_name, 'rb') as handle:\n",
    "                result_list.append(pickle.load(handle))\n",
    "        else:\n",
    "            print(f'WARNING: No results for seed {seed}, dataset {dataset}')\n",
    "    return result_list"
   ]
  },
  {
   "cell_type": "code",
   "execution_count": 68,
   "id": "323a8096",
   "metadata": {},
   "outputs": [
    {
     "name": "stdout",
     "output_type": "stream",
     "text": [
      "Min val index is: 3\n",
      "[0.51382776 0.21392277 0.10514022 0.08443202 0.08753315 0.10235547\n",
      " 0.13299315 0.19362284 0.32394792 0.55662944]\n"
     ]
    }
   ],
   "source": [
    "import pickle\n",
    "import os\n",
    "dataset = 'digits'\n",
    "name = 'sparse_quarter'\n",
    "datasets = ['australian', 'breast_cancer', 'digits', 'glass',\n",
    "            'ionosphere', 'satellite', 'vehicle', 'waveform']\n",
    "seeds = [711, 1, 75, 359, 17, 420, 129, 666, 69, 36]\n",
    "#seeds = [711, 1, 75, 359, 17, 420, 129, 69]\n",
    "result_list = get_result_list(dataset, name, seeds)\n",
    "min_idx = get_val_best(result_list, 'svgp_ntk')"
   ]
  },
  {
   "cell_type": "markdown",
   "id": "61b80928",
   "metadata": {},
   "source": [
    "Check the test set performance of the selected prior precision"
   ]
  },
  {
   "cell_type": "code",
   "execution_count": 74,
   "id": "e5bbaaef",
   "metadata": {},
   "outputs": [
    {
     "name": "stdout",
     "output_type": "stream",
     "text": [
      "0.34071155190467833\n",
      "[0.60344779 0.2826767  0.29759541 0.28536081 0.3937538  0.30494028\n",
      " 0.30095807 0.29020005 0.34058592 0.30759668]\n",
      "0.09308195756518785\n"
     ]
    }
   ],
   "source": [
    "test_nlls = np.zeros(len(result_list))\n",
    "for i, results in enumerate(result_list):\n",
    "    test_nlls[i] = results['results'][min_idx]['test_nll_svgp_ntk']\n",
    "print(np.mean(test_nlls))\n",
    "print(test_nlls)\n",
    "print(np.std(test_nlls))\n",
    "\n",
    "def get_test_mean_std(result_list, min_idx, name='svgp_ntk'):\n",
    "    test_nlls = np.zeros(len(result_list))\n",
    "    for i, results in enumerate(result_list):\n",
    "        test_nlls[i] = results['results'][min_idx]['test_nll_svgp_ntk']\n",
    "    mean = np.mean(test_nlls)\n",
    "    std = np.std(test_nlls)\n",
    "    return (mean, std)"
   ]
  },
  {
   "cell_type": "markdown",
   "id": "89b89232",
   "metadata": {},
   "source": [
    "<h2>Automatic table creation </h2>"
   ]
  },
  {
   "cell_type": "code",
   "execution_count": 80,
   "id": "2c8a03ca",
   "metadata": {},
   "outputs": [],
   "source": [
    "method_map = {\n",
    "    'NN MAP':  [(0.31, 0.01), (0.11, 0.02), (0.35, 0.02), (0.95,0.03), (0.420, 0.007), (0.335, 0.004), (0.094, 0.003), (0.230, 0.002)],\n",
    "'MFVI': [(0.34, 0.01), (0.11, 0.01), (0.41, 0.01), (1.06,0.01), (0.504, 0.006), (0.393, 0.003), (0.219, 0.004), (0.307, 0.002)],\n",
    "'BNN' : [(0.42, 0.00), (0.19, 0.00), (0.50, 0.00), (1.41,0.00), (0.885, 0.002), (0.516, 0.002), (0.875, 0.002), (0.482, 0.001)],\n",
    "'GLM' : [(0.32, 0.02), (0.10, 0.01), (0.29, 0.01), (0.86,0.01), (0.428, 0.005), (0.339, 0.004), (0.250, 0.002), (0.241, 0.001)],\n",
    "'GLM diag' : [(0.33, 0.01), (0.11, 0.01), (0.35, 0.01), (0.99,0.01), (0.618, 0.003), (0.388, 0.003), (0.409, 0.002), (0.327, 0.002)],\n",
    "'GLM refine' :[(0.32, 0.02), (0.11, 0.01), (0.35, 0.05), (0.98,0.07), (0.402, 0.007), (0.335, 0.004), (0.150, 0.002), (0.227, 0.002)],\n",
    "'GLM refine d' : [(0.31, 0.01), (0.12, 0.02), (0.32, 0.03), (0.83,0.02), (0.432, 0.005), (0.364, 0.008), (0.149, 0.008), (0.248, 0.002)],\n",
    "'SVGP (quarter)': [(5, 2), (5, 2), (5, 2), (5,2), (5, 2), (5, 3), (5, 4), (5, 5)],\n",
    "'SVGP (half)' : [(5, 2), (5, 2), (5, 2), (5,2), (5, 2), (5, 3), (5, 4), (5, 5)],\n",
    "'GP' :[(5, 2), (5, 2), (5, 2), (5,2), (5, 2), (5, 3), (5, 4), (5, 5)]}\n",
    "\n",
    "datasets = ['australian', 'breast_cancer', 'digits', 'glass',\n",
    "            'ionosphere', 'satellite', 'vehicle', 'waveform']"
   ]
  },
  {
   "cell_type": "code",
   "execution_count": 82,
   "id": "93250ccf",
   "metadata": {},
   "outputs": [],
   "source": [
    "svgp_half = [1]*8\n",
    "svgp_quart = [1]*8\n",
    "gp_data = [1]*8\n",
    "exper_names = ['sparse_half', 'sparse_quarter']\n",
    "pretty_names = {'sparse_half': 'SVGP (half)',\n",
    "               'sparse_quarter': 'SVGP (quarter)',\n",
    "                'sparse_full': 'GP'}\n",
    "for exp_name in exper_names:\n",
    "    table_list = []\n",
    "    for dataset in datasets:\n",
    "        result_list = get_result_list(dataset, exp_name, seeds)\n",
    "        min_idx = get_val_best(result_list, 'svgp_ntk')\n",
    "        (mean, std) = get_test_mean_std(result_list, min_idx, 'svgp_ntk')\n",
    "        table_list.append((mean, std))\n",
    "    method_map[exp_name] = table_list"
   ]
  },
  {
   "cell_type": "code",
   "execution_count": 83,
   "id": "01c67f2c",
   "metadata": {},
   "outputs": [
    {
     "data": {
      "text/plain": [
       "{'NN MAP': [(0.31, 0.01),\n",
       "  (0.11, 0.02),\n",
       "  (0.35, 0.02),\n",
       "  (0.95, 0.03),\n",
       "  (0.42, 0.007),\n",
       "  (0.335, 0.004),\n",
       "  (0.094, 0.003),\n",
       "  (0.23, 0.002)],\n",
       " 'MFVI': [(0.34, 0.01),\n",
       "  (0.11, 0.01),\n",
       "  (0.41, 0.01),\n",
       "  (1.06, 0.01),\n",
       "  (0.504, 0.006),\n",
       "  (0.393, 0.003),\n",
       "  (0.219, 0.004),\n",
       "  (0.307, 0.002)],\n",
       " 'BNN': [(0.42, 0.0),\n",
       "  (0.19, 0.0),\n",
       "  (0.5, 0.0),\n",
       "  (1.41, 0.0),\n",
       "  (0.885, 0.002),\n",
       "  (0.516, 0.002),\n",
       "  (0.875, 0.002),\n",
       "  (0.482, 0.001)],\n",
       " 'GLM': [(0.32, 0.02),\n",
       "  (0.1, 0.01),\n",
       "  (0.29, 0.01),\n",
       "  (0.86, 0.01),\n",
       "  (0.428, 0.005),\n",
       "  (0.339, 0.004),\n",
       "  (0.25, 0.002),\n",
       "  (0.241, 0.001)],\n",
       " 'GLM diag': [(0.33, 0.01),\n",
       "  (0.11, 0.01),\n",
       "  (0.35, 0.01),\n",
       "  (0.99, 0.01),\n",
       "  (0.618, 0.003),\n",
       "  (0.388, 0.003),\n",
       "  (0.409, 0.002),\n",
       "  (0.327, 0.002)],\n",
       " 'GLM refine': [(0.32, 0.02),\n",
       "  (0.11, 0.01),\n",
       "  (0.35, 0.05),\n",
       "  (0.98, 0.07),\n",
       "  (0.402, 0.007),\n",
       "  (0.335, 0.004),\n",
       "  (0.15, 0.002),\n",
       "  (0.227, 0.002)],\n",
       " 'GLM refine d': [(0.31, 0.01),\n",
       "  (0.12, 0.02),\n",
       "  (0.32, 0.03),\n",
       "  (0.83, 0.02),\n",
       "  (0.432, 0.005),\n",
       "  (0.364, 0.008),\n",
       "  (0.149, 0.008),\n",
       "  (0.248, 0.002)],\n",
       " 'SVGP (quarter)': [(5, 2),\n",
       "  (5, 2),\n",
       "  (5, 2),\n",
       "  (5, 2),\n",
       "  (5, 2),\n",
       "  (5, 3),\n",
       "  (5, 4),\n",
       "  (5, 5)],\n",
       " 'SVGP (half)': [(5, 2),\n",
       "  (5, 2),\n",
       "  (5, 2),\n",
       "  (5, 2),\n",
       "  (5, 2),\n",
       "  (5, 3),\n",
       "  (5, 4),\n",
       "  (5, 5)],\n",
       " 'GP': [(5, 2), (5, 2), (5, 2), (5, 2), (5, 2), (5, 3), (5, 4), (5, 5)],\n",
       " 'sparse_half': [(0.34071155190467833, 0.09308195756518785),\n",
       "  (0.09468586780130864, 0.04671672389924719),\n",
       "  (0.0959460124373436, 0.020296919494009018),\n",
       "  (0.8619311869144439, 0.19382831673331574),\n",
       "  (0.30678287148475647, 0.0769500615534431),\n",
       "  (0.25749640315771105, 0.025791279734728913),\n",
       "  (0.431777748465538, 0.0513127502193462),\n",
       "  (0.3349978744983673, 0.031912710652266855)],\n",
       " 'sparse_quarter': [(0.3389107555150986, 0.08811049432322418),\n",
       "  (0.09466898255050182, 0.04672292954906497),\n",
       "  (0.09936939254403114, 0.019563989911233825),\n",
       "  (0.8339058756828308, 0.1444414301037255),\n",
       "  (0.33394846469163897, 0.12718430450129237),\n",
       "  (0.25836351066827773, 0.026917786045862476),\n",
       "  (0.42662830352783204, 0.05038998953791799),\n",
       "  (0.3348963975906372, 0.03195162957273878)]}"
      ]
     },
     "execution_count": 83,
     "metadata": {},
     "output_type": "execute_result"
    }
   ],
   "source": [
    "method_map"
   ]
  },
  {
   "cell_type": "code",
   "execution_count": 45,
   "id": "37488a06",
   "metadata": {},
   "outputs": [
    {
     "name": "stdout",
     "output_type": "stream",
     "text": [
      "['\\\\begin{tabular}{l C{0.5\\\\tblw} C{0.5\\\\tblw} C{0.5\\\\tblw} C{0.5\\\\tblw} C{0.5\\\\tblw} C{0.5\\\\tblw} C{0.5\\\\tblw} C{0.5\\\\tblw} C{0.5\\\\tblw} C{0.5\\\\tblw}}', '\\\\toprule', '& NN MAP & MFVI & BNN & GLM & GLM diag & GLM refine & GLM refine d & SVGP (quarter) & SVGP (half) & GP  \\\\\\\\', '\\\\midrule', '\\\\sc australian & \\\\val{5}{2} & \\\\val{5}{2} & \\\\val{5}{2} & \\\\val{5}{2} & \\\\val{5}{2} & \\\\val{5}{2} & \\\\val{5}{2} & \\\\val{5}{2} & \\\\val{5}{2} & \\\\val{5}{2} \\\\\\\\', '\\\\sc cancer & \\\\val{5}{2} & \\\\val{5}{2} & \\\\val{5}{2} & \\\\val{5}{2} & \\\\val{5}{2} & \\\\val{5}{2} & \\\\val{5}{2} & \\\\val{5}{2} & \\\\val{5}{2} & \\\\val{5}{2} \\\\\\\\', '\\\\sc ionosphere & \\\\val{5}{2} & \\\\val{5}{2} & \\\\val{5}{2} & \\\\val{5}{2} & \\\\val{5}{2} & \\\\val{5}{2} & \\\\val{5}{2} & \\\\val{5}{2} & \\\\val{5}{2} & \\\\val{5}{2} \\\\\\\\', '\\\\sc glass & \\\\val{5}{2} & \\\\val{5}{2} & \\\\val{5}{2} & \\\\val{5}{2} & \\\\val{5}{2} & \\\\val{5}{2} & \\\\val{5}{2} & \\\\val{5}{2} & \\\\val{5}{2} & \\\\val{5}{2} \\\\\\\\', '\\\\sc vehicle & \\\\val{5}{2} & \\\\val{5}{2} & \\\\val{5}{2} & \\\\val{5}{2} & \\\\val{5}{2} & \\\\val{5}{2} & \\\\val{5}{2} & \\\\val{5}{2} & \\\\val{5}{2} & \\\\val{5}{2} \\\\\\\\', '\\\\sc waveform & \\\\val{5}{3} & \\\\val{5}{3} & \\\\val{5}{3} & \\\\val{5}{3} & \\\\val{5}{3} & \\\\val{5}{3} & \\\\val{5}{3} & \\\\val{5}{3} & \\\\val{5}{3} & \\\\val{5}{3} \\\\\\\\', '\\\\sc digits & \\\\val{5}{4} & \\\\val{5}{4} & \\\\val{5}{4} & \\\\val{5}{4} & \\\\val{5}{4} & \\\\val{5}{4} & \\\\val{5}{4} & \\\\val{5}{4} & \\\\val{5}{4} & \\\\val{5}{4} \\\\\\\\', '\\\\sc satellite & \\\\val{5}{5} & \\\\val{5}{5} & \\\\val{5}{5} & \\\\val{5}{5} & \\\\val{5}{5} & \\\\val{5}{5} & \\\\val{5}{5} & \\\\val{5}{5} & \\\\val{5}{5} & \\\\val{5}{5} \\\\\\\\', '\\\\bottomrule', '\\\\end{tabular}']\n"
     ]
    }
   ],
   "source": [
    "import os\n",
    "data_names = ['australian', 'cancer', 'ionosphere', 'glass', 'vehicle', 'waveform', 'digits', 'satellite']\n",
    "\n",
    "table_str ='\\sc australian & \\val{0.00}{0.00} \\\\\\sc cancer & \\val{0.00}{0.00} \\\\'\n",
    "\n",
    "lines = []\n",
    "lines.append(r'\\begin{tabular}{l C{0.5\\tblw} C{0.5\\tblw} C{0.5\\tblw} C{0.5\\tblw} C{0.5\\tblw} C{0.5\\tblw} C{0.5\\tblw} C{0.5\\tblw} C{0.5\\tblw} C{0.5\\tblw}}')\n",
    "lines.append(r'\\toprule')\n",
    "header_str = ''\n",
    "for method_name in method_map:\n",
    "    header_str += f'& {method_name} '\n",
    "header_str += r' \\\\'\n",
    "lines.append(header_str)\n",
    "lines.append(r'\\midrule')\n",
    "for i, data_name in enumerate(data_names):\n",
    "    line_str = f'\\sc {data_name} &'\n",
    "    for method_name in method_map:\n",
    "        (mean, var) = method_map[method_name][i]\n",
    "        mean_var = f'{mean} {var}'\n",
    "        line_str += r' \\val{'\n",
    "        line_str += str(mean)\n",
    "        line_str += '}{'\n",
    "        line_str += str(var)\n",
    "        line_str += '} &'\n",
    "    line_str = line_str[:-2]\n",
    "    line_str += r' \\\\'\n",
    "    lines.append(line_str)\n",
    "lines.append(r'\\bottomrule')\n",
    "lines.append(r'\\end{tabular}')\n",
    "tex_file = 'uci.tex'\n",
    "os.remove(tex_file)\n",
    "with open(tex_file, 'a') as file:\n",
    "    for line in lines:\n",
    "        file.write(line+'\\n')\n",
    "    \n",
    "print(lines)"
   ]
  },
  {
   "cell_type": "code",
   "execution_count": null,
   "id": "9f73bd10",
   "metadata": {},
   "outputs": [],
   "source": [
    "results = result_list[0]\n",
    "n_test = results['N_test']\n",
    "n_train = results['N_train']\n",
    "deltas = results['deltas']\n",
    "print(f'Results keys: {results.keys()}')\n",
    "print(results['K'])\n",
    "print(f'Train set size: {n_train}')\n",
    "print(f'Test set size: {n_test}')\n",
    "for i, res in enumerate(results['results']):\n",
    "    print(f'Prior precision: {deltas[i]}')\n",
    "    print(f'Validation set NLL Map: {res[\"valid_nll_map\"]}')\n",
    "    print(f'Validation set NLL GLM: {res[\"valid_nll_glm\"]}')\n",
    "    print(f'Validation set NLL BNN: {res[\"valid_nll_nn\"]}')\n",
    "    \n",
    "    for key in res:\n",
    "        if 'valid_nll' in key:\n",
    "            print(key)"
   ]
  },
  {
   "cell_type": "markdown",
   "id": "f2cab4f7",
   "metadata": {},
   "source": [
    "<h2>Run Image experiments </h2>"
   ]
  },
  {
   "cell_type": "code",
   "execution_count": 92,
   "id": "c46c905a",
   "metadata": {},
   "outputs": [],
   "source": [
    "ds = 'MNIST'\n",
    "model = 'MLP'\n",
    "seed = 117"
   ]
  },
  {
   "cell_type": "code",
   "execution_count": 96,
   "id": "a10bcad6",
   "metadata": {},
   "outputs": [
    {
     "name": "stdout",
     "output_type": "stream",
     "text": [
      "Writing results to ../experiments/results/MNIST\n",
      "Reading data from ../data\n",
      "Dataset: MNIST\n",
      "Seed: 117\n",
      "Downloading http://yann.lecun.com/exdb/mnist/train-images-idx3-ubyte.gz to ../data/MNIST/raw/train-images-idx3-ubyte.gz\n",
      "9920512it [00:00, 12327924.77it/s]                                              \n",
      "Extracting ../data/MNIST/raw/train-images-idx3-ubyte.gz to ../data/MNIST/raw\n",
      "Downloading http://yann.lecun.com/exdb/mnist/train-labels-idx1-ubyte.gz to ../data/MNIST/raw/train-labels-idx1-ubyte.gz\n",
      "32768it [00:00, 298645.29it/s]\n",
      "Extracting ../data/MNIST/raw/train-labels-idx1-ubyte.gz to ../data/MNIST/raw\n",
      "Downloading http://yann.lecun.com/exdb/mnist/t10k-images-idx3-ubyte.gz to ../data/MNIST/raw/t10k-images-idx3-ubyte.gz\n",
      "1654784it [00:00, 6915425.85it/s]                                               \n",
      "Extracting ../data/MNIST/raw/t10k-images-idx3-ubyte.gz to ../data/MNIST/raw\n",
      "Downloading http://yann.lecun.com/exdb/mnist/t10k-labels-idx1-ubyte.gz to ../data/MNIST/raw/t10k-labels-idx1-ubyte.gz\n",
      "8192it [00:00, 29604.16it/s]                                                    \n",
      "Extracting ../data/MNIST/raw/t10k-labels-idx1-ubyte.gz to ../data/MNIST/raw\n",
      "Processing...\n",
      "/Users/tamire1/miniconda3/envs/bnn-env-3/lib/python3.7/site-packages/torchvision/datasets/mnist.py:469: UserWarning: The given NumPy array is not writeable, and PyTorch does not support non-writeable tensors. This means you can write to the underlying (supposedly non-writeable) NumPy array using the tensor. You may want to copy the array to protect its data or make it writeable before converting it to a tensor. This type of warning will be suppressed for the rest of this program. (Triggered internally at  /Users/distiller/project/conda/conda-bld/pytorch_1595629430416/work/torch/csrc/utils/tensor_numpy.cpp:141.)\n",
      "  return torch.from_numpy(parsed.astype(m[2], copy=False)).view(*s)\n",
      "Done!\n",
      "  3%|█▏                                        | 14/500 [01:12<42:17,  5.22s/it]^C\n",
      "  3%|█▏                                        | 14/500 [01:13<42:32,  5.25s/it]\n",
      "Traceback (most recent call last):\n",
      "  File \"../experiments/imgclassification.py\", line 164, in <module>\n",
      "    main(ds_train, ds_test, model_name, seed, n_epochs, batch_size, lr, deltas, device, fname, res_dir)\n",
      "  File \"../experiments/imgclassification.py\", line 98, in main\n",
      "    loss.backward()\n",
      "  File \"/Users/tamire1/miniconda3/envs/bnn-env-3/lib/python3.7/site-packages/torch/tensor.py\", line 185, in backward\n",
      "    torch.autograd.backward(self, gradient, retain_graph, create_graph)\n",
      "  File \"/Users/tamire1/miniconda3/envs/bnn-env-3/lib/python3.7/site-packages/torch/autograd/__init__.py\", line 127, in backward\n",
      "    allow_unreachable=True)  # allow_unreachable flag\n",
      "KeyboardInterrupt\n"
     ]
    }
   ],
   "source": [
    "!python3 ../experiments/imgclassification.py -d {ds} -m {model} -s {seed}"
   ]
  }
 ],
 "metadata": {
  "kernelspec": {
   "display_name": "Python 3 (ipykernel)",
   "language": "python",
   "name": "python3"
  },
  "language_info": {
   "codemirror_mode": {
    "name": "ipython",
    "version": 3
   },
   "file_extension": ".py",
   "mimetype": "text/x-python",
   "name": "python",
   "nbconvert_exporter": "python",
   "pygments_lexer": "ipython3",
   "version": "3.11.3"
  }
 },
 "nbformat": 4,
 "nbformat_minor": 5
}
