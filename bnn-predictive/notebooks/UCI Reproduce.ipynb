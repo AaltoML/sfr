{
 "cells": [
  {
   "cell_type": "code",
   "execution_count": 116,
   "id": "cce7f49f",
   "metadata": {},
   "outputs": [],
   "source": [
    "import torch\n",
    "import numpy as np\n",
    "import matplotlib.pyplot as plt\n",
    "from torch.nn.utils import parameters_to_vector\n",
    "from torch.optim import Adam\n",
    "from torch.distributions import MultivariateNormal, Normal\n",
    "from preds.models import MLPS\n",
    "\n",
    "from preds.likelihoods import CategoricalLh\n",
    "from preds.datasets import UCIClassificationDatasets\n",
    "from preds.laplace import Laplace"
   ]
  },
  {
   "cell_type": "markdown",
   "id": "5cf8dc32",
   "metadata": {},
   "source": [
    "Includes some playing around with the Immer et al. dataset and model classes and a script for running the UCI experiemnts (with hyperparameters as in the paper appendix)"
   ]
  },
  {
   "cell_type": "markdown",
   "id": "c7bc00ad",
   "metadata": {},
   "source": [
    "Testing the dataset and model classes"
   ]
  },
  {
   "cell_type": "code",
   "execution_count": null,
   "id": "fd036c14",
   "metadata": {},
   "outputs": [],
   "source": [
    "width = 50 # as in Immer et al. \n",
    "depth = 2 # as in Immer et al. \n",
    "prior_prec = np.logspace(-2, 2, num=10)[0] # as in Immer et al. but depends on dataset\n",
    "lr = 1e-3 # as in Immer et al. \n",
    "n_epochs = 10000\n",
    "n_samples = 1000\n",
    "train_size = 0.70 # as in Immer et al. \n",
    "lh = CateoricalLh()  \n",
    "uci_dataset = 'glass'\n",
    "root_dir = '../data/'\n",
    "device = 'cpu'"
   ]
  },
  {
   "cell_type": "markdown",
   "id": "5bbdd49f",
   "metadata": {},
   "source": [
    "Load training data"
   ]
  },
  {
   "cell_type": "code",
   "execution_count": null,
   "id": "c2b75edf",
   "metadata": {},
   "outputs": [],
   "source": [
    "ds_train = UCIClassificationDatasets(train=True, data_set=uci_dataset, split_train_size=train_size, double=False, root=root_dir)\n",
    "X_train, y_train = ds_train.data.to(device), ds_train.targets.to(device).unsqueeze(1)\n",
    "train_loader = [(X_train, y_train)]  "
   ]
  },
  {
   "cell_type": "markdown",
   "id": "d202d34d",
   "metadata": {},
   "source": [
    "Load validation data"
   ]
  },
  {
   "cell_type": "code",
   "execution_count": null,
   "id": "410628e9",
   "metadata": {},
   "outputs": [],
   "source": [
    "ds_val = UCIClassificationDatasets(train=False,valid=True, data_set=uci_dataset, split_train_size=train_size, double=False, root=root_dir)\n",
    "X_val, y_val = ds_val.data.to(device), ds_val.targets.to(device).unsqueeze(1)\n",
    "val_loader = [(X_val, y_val)] "
   ]
  },
  {
   "cell_type": "code",
   "execution_count": null,
   "id": "69f517c9",
   "metadata": {},
   "outputs": [],
   "source": [
    "X_train.shape"
   ]
  },
  {
   "cell_type": "code",
   "execution_count": null,
   "id": "0ae9719f",
   "metadata": {},
   "outputs": [],
   "source": [
    "model = MLPS(X_train.shape[1], [width]*depth, 1, activation='tanh', flatten=False).to(device)\n",
    "optim = Adam(model.parameters(), lr=lr)\n",
    "losses = list()\n",
    "for i in range(n_epochs):\n",
    "    f = model(X_train)\n",
    "    w = parameters_to_vector(model.parameters())\n",
    "    reg = 0.5 * prior_prec * w @ w\n",
    "    loss = - lh.log_likelihood(y_train, f) + reg\n",
    "    loss.backward()\n",
    "    optim.step()\n",
    "    losses.append(loss.item())\n",
    "    model.zero_grad()\n"
   ]
  },
  {
   "cell_type": "code",
   "execution_count": null,
   "id": "bc8bb255",
   "metadata": {},
   "outputs": [],
   "source": [
    "lap = Laplace(model, float(prior_prec), lh)\n",
    "\n",
    "\n",
    "def get_pred_for(x, model_type='glm', cov_type='full'):\n",
    "    #### INFERENCE (Posterior approximation) ####\n",
    "    lap.infer(train_loader, cov_type=cov_type, dampen_kron=model_type=='bnn')\n",
    "    if model_type == 'glm':\n",
    "        #### GLM PREDICTIVE ####\n",
    "        mu, var = lap.predictive_samples_glm(x, n_samples=n_samples)\n",
    "    elif model_type == 'bnn':\n",
    "        #### BNN PREDICTIVE ####\n",
    "        samples = lap.predictive_samples_bnn(x, n_samples=n_samples)\n",
    "        mu = samples.mean(axis=0)\n",
    "        var = samples.cov(axis=0)\n",
    "    else:\n",
    "        raise ValueError('unsupported model_type.')\n",
    "    mu = mu.detach().cpu().squeeze()\n",
    "    var = var.detach().cpu().squeeze()\n",
    "    return mu, var"
   ]
  },
  {
   "cell_type": "code",
   "execution_count": null,
   "id": "7435e9d6",
   "metadata": {},
   "outputs": [],
   "source": [
    "print(X_train.dtype)\n",
    "print(X_val.dtype)\n",
    "print(mu.dtype)"
   ]
  },
  {
   "cell_type": "code",
   "execution_count": null,
   "id": "17bae456",
   "metadata": {},
   "outputs": [],
   "source": [
    "# GLM\n",
    "\n",
    "mu_glm, var_glm = get_pred_for(X_val, 'glm', 'full')# runs\n",
    "# mu_glm_kron, var_glm_kron = get_pred_for(X_val, 'glm', 'kron') # doesn't run\n",
    "#mu, var = get_pred_for(X_val, 'glm', 'diag')# doesn't run\n",
    "\n",
    "# BNN\n",
    "mu_bnn, var_bnn = get_pred_for(X_val, 'bnn', 'full')"
   ]
  },
  {
   "cell_type": "code",
   "execution_count": null,
   "id": "e65f1a3b",
   "metadata": {},
   "outputs": [],
   "source": [
    "y_val.shape"
   ]
  },
  {
   "cell_type": "code",
   "execution_count": null,
   "id": "f9adcae8",
   "metadata": {},
   "outputs": [],
   "source": [
    "lh_glm = Normal(mu_glm, var_glm)\n",
    "print(-torch.mean(lh_glm.log_prob(y_val.squeeze(-1))))"
   ]
  },
  {
   "cell_type": "code",
   "execution_count": null,
   "id": "4935af6e",
   "metadata": {},
   "outputs": [],
   "source": [
    "lh_bnn = Normal(mu_bnn, var_bnn)\n",
    "print(-torch.mean(lh_bnn.log_prob(y_val.squeeze(-1))))"
   ]
  },
  {
   "cell_type": "markdown",
   "id": "601765b1",
   "metadata": {},
   "source": [
    "<h2>Run the classification pipeline for chosen dataset </h2>"
   ]
  },
  {
   "cell_type": "markdown",
   "id": "18fc6093",
   "metadata": {},
   "source": [
    "The classification.py script tests 10 options for the prior precision, with a fixed train/val/test split. The results reported in the paper are over 10 different train/val/test splits"
   ]
  },
  {
   "cell_type": "code",
   "execution_count": 8,
   "id": "4d088e55",
   "metadata": {},
   "outputs": [],
   "source": [
    "datasets = ['australian', 'breast_cancer', 'digits', 'glass',\n",
    "            'ionosphere', 'satellite', 'vehicle', 'waveform']\n",
    "seeds = [711, 1, 75, 359, 17, 420, 129, 666, 69, 36]\n",
    "dataset = 'breast_cancer'"
   ]
  },
  {
   "cell_type": "code",
   "execution_count": null,
   "id": "760da084",
   "metadata": {},
   "outputs": [
    {
     "name": "stdout",
     "output_type": "stream",
     "text": [
      "Writing results to ../experiments/results\n",
      "Reading data from ../data\n",
      "100%|██████████████████████████████████████████| 10/10 [42:12<00:00, 253.22s/it]\n",
      "Writing results to ../experiments/results\n",
      "Reading data from ../data\n",
      "100%|██████████████████████████████████████████| 10/10 [53:43<00:00, 322.32s/it]\n",
      "Writing results to ../experiments/results\n",
      "Reading data from ../data\n",
      "100%|██████████████████████████████████████████| 10/10 [44:43<00:00, 268.37s/it]\n",
      "Writing results to ../experiments/results\n",
      "Reading data from ../data\n",
      " 60%|█████████████████████████▊                 | 6/10 [24:45<16:41, 250.35s/it]"
     ]
    }
   ],
   "source": [
    "for seed in seeds:\n",
    "    if dataset in ['satellite', 'digits']:\n",
    "        logmin = -1.0\n",
    "    else:\n",
    "        logmin = -2.0\n",
    "    !python3 ../experiments/classification.py -d {dataset} --root_dir ../ --seed {seed} --n_layers 2 --activation tanh --name tanh_2 --logd_min {logmin}"
   ]
  },
  {
   "cell_type": "markdown",
   "id": "9320234e",
   "metadata": {},
   "source": [
    "The experiment in experiments/uci_classification_commands.py could otherwise be used, but it does not take into account the different hyperparameter settings required for satellite & digits datasets (different range for prior precision)"
   ]
  },
  {
   "cell_type": "markdown",
   "id": "ab25be1a",
   "metadata": {},
   "source": [
    "<h2> Manual reading of the result pickle</h2>\n",
    "Read the result pickle (for a single experiment with various prior precisions)"
   ]
  },
  {
   "cell_type": "markdown",
   "id": "6f5fd793",
   "metadata": {},
   "source": [
    "Find  which prior precision gives the best validation NLL for the dataset (based on average NLL performance)"
   ]
  },
  {
   "cell_type": "code",
   "execution_count": 193,
   "id": "bdd6af29",
   "metadata": {},
   "outputs": [],
   "source": [
    "def get_val_best(result_list, model_name='svgp_ntk'):\n",
    "    print(model_name)\n",
    "    valid_nlls = np.zeros((len(result_list), len(result_list[0]['deltas'])))\n",
    "    for i, results in enumerate(result_list):\n",
    "        for j, res in enumerate(results['results']):\n",
    "            if f'valid_nll_{model_name}' not in res:\n",
    "                continue\n",
    "            valid_nlls[i, j] = res[f'valid_nll_{model_name}']\n",
    "    mean_nlls = np.mean(valid_nlls, axis=0)\n",
    "    print(mean_nlls)\n",
    "    min_nll = mean_nlls.min()\n",
    "    min_index = list(mean_nlls).index(min_nll)\n",
    "    return min_index\n",
    "\n",
    "def get_result_list(dataset,folder_name,  name, seeds):   \n",
    "    result_list = []\n",
    "    for seed in seeds:\n",
    "        file_name = f'../experiments/results/uci/{folder_name}/classification_{dataset}_{name}_{seed}.pkl'\n",
    "        if os.path.isfile(file_name):\n",
    "            with open(file_name, 'rb') as handle:\n",
    "                result_list.append(pickle.load(handle))\n",
    "        else:\n",
    "            print(f'WARNING: No results for seed {seed}, dataset {dataset}')\n",
    "    return result_list"
   ]
  },
  {
   "cell_type": "markdown",
   "id": "61b80928",
   "metadata": {},
   "source": [
    "Check the test set performance of the selected prior precision"
   ]
  },
  {
   "cell_type": "code",
   "execution_count": 194,
   "id": "e5bbaaef",
   "metadata": {},
   "outputs": [],
   "source": [
    "def get_test_mean_std(result_list, min_idx, name='svgp_ntk'):\n",
    "    test_nlls = np.zeros(len(result_list))\n",
    "    for i, results in enumerate(result_list):\n",
    "        test_nlls[i] = results['results'][min_idx][f'test_nll_{name}']\n",
    "    mean = np.mean(test_nlls)\n",
    "    std = np.std(test_nlls)\n",
    "    return (mean, std)"
   ]
  },
  {
   "cell_type": "markdown",
   "id": "62e301f7",
   "metadata": {},
   "source": [
    "<h2>Automatic table creation </h2>"
   ]
  },
  {
   "cell_type": "code",
   "execution_count": 199,
   "id": "4ab09f24",
   "metadata": {},
   "outputs": [],
   "source": [
    "method_map = {\n",
    "    'NN MAP':  [(0.31, 0.01), (0.11, 0.02), (0.35, 0.02), (0.95,0.03), (0.420, 0.007), (0.335, 0.004), (0.094, 0.003), (0.230, 0.002)],\n",
    "'MFVI': [(0.34, 0.01), (0.11, 0.01), (0.41, 0.01), (1.06,0.01), (0.504, 0.006), (0.393, 0.003), (0.219, 0.004), (0.307, 0.002)],\n",
    "'BNN' : [(0.42, 0.00), (0.19, 0.00), (0.50, 0.00), (1.41,0.00), (0.885, 0.002), (0.516, 0.002), (0.875, 0.002), (0.482, 0.001)],\n",
    "'GLM' : [(0.32, 0.02), (0.10, 0.01), (0.29, 0.01), (0.86,0.01), (0.428, 0.005), (0.339, 0.004), (0.250, 0.002), (0.241, 0.001)],\n",
    "'GLM diag' : [(0.33, 0.01), (0.11, 0.01), (0.35, 0.01), (0.99,0.01), (0.618, 0.003), (0.388, 0.003), (0.409, 0.002), (0.327, 0.002)],\n",
    "'GLM refine' :[(0.32, 0.02), (0.11, 0.01), (0.35, 0.05), (0.98,0.07), (0.402, 0.007), (0.335, 0.004), (0.150, 0.002), (0.227, 0.002)],\n",
    "'GLM refine d' : [(0.31, 0.01), (0.12, 0.02), (0.32, 0.03), (0.83,0.02), (0.432, 0.005), (0.364, 0.008), (0.149, 0.008), (0.248, 0.002)],\n",
    "}\n"
   ]
  },
  {
   "cell_type": "code",
   "execution_count": 161,
   "id": "8b67899b",
   "metadata": {},
   "outputs": [
    {
     "data": {
      "text/plain": [
       "True"
      ]
     },
     "execution_count": 161,
     "metadata": {},
     "output_type": "execute_result"
    }
   ],
   "source": [
    "'valid_nll_svgp_ntk' in result_list[5]['results'][4].keys()"
   ]
  },
  {
   "cell_type": "code",
   "execution_count": 197,
   "id": "f814db14",
   "metadata": {},
   "outputs": [
    {
     "name": "stdout",
     "output_type": "stream",
     "text": [
      "svgp_ntk\n",
      "australian\n",
      "WARNING: No results for seed 1, dataset australian\n",
      "N seeds:\n",
      "9\n",
      "svgp_ntk\n",
      "[0.65591725 0.6334811  0.60809104 0.57279456 0.53335858 0.48354427\n",
      " 0.41446874 0.32556016 0.34754637 0.42611122]\n",
      "breast_cancer\n",
      "WARNING: No results for seed 75, dataset breast_cancer\n",
      "WARNING: No results for seed 359, dataset breast_cancer\n",
      "N seeds:\n",
      "8\n",
      "svgp_ntk\n",
      "[0.25452794 0.21473373 0.18910247 0.16485454 0.14000995 0.11002122\n",
      " 0.08167886 0.08458505 0.10655749 0.17918626]\n",
      "ionosphere\n",
      "N seeds:\n",
      "10\n",
      "svgp_ntk\n",
      "[0.58947544 0.54589691 0.49798007 0.45041892 0.40060972 0.35066439\n",
      " 0.30512494 0.2931774  0.35900276 0.67097959]\n",
      "glass\n",
      "N seeds:\n",
      "10\n",
      "svgp_ntk\n",
      "[1.55521922 1.46568758 1.33636821 1.14729481 0.93783835 0.75819137\n",
      " 0.88196616 1.08113509 1.38041387 1.75561469]\n",
      "vehicle\n",
      "WARNING: No results for seed 711, dataset vehicle\n",
      "WARNING: No results for seed 1, dataset vehicle\n",
      "WARNING: No results for seed 75, dataset vehicle\n",
      "WARNING: No results for seed 359, dataset vehicle\n",
      "WARNING: No results for seed 17, dataset vehicle\n",
      "WARNING: No results for seed 420, dataset vehicle\n",
      "WARNING: No results for seed 129, dataset vehicle\n",
      "WARNING: No results for seed 666, dataset vehicle\n",
      "WARNING: No results for seed 69, dataset vehicle\n",
      "WARNING: No results for seed 36, dataset vehicle\n",
      "N seeds:\n",
      "0\n",
      "waveform\n",
      "WARNING: No results for seed 711, dataset waveform\n",
      "WARNING: No results for seed 1, dataset waveform\n",
      "WARNING: No results for seed 75, dataset waveform\n",
      "WARNING: No results for seed 359, dataset waveform\n",
      "WARNING: No results for seed 17, dataset waveform\n",
      "WARNING: No results for seed 420, dataset waveform\n",
      "WARNING: No results for seed 129, dataset waveform\n",
      "WARNING: No results for seed 666, dataset waveform\n",
      "WARNING: No results for seed 69, dataset waveform\n",
      "WARNING: No results for seed 36, dataset waveform\n",
      "N seeds:\n",
      "0\n",
      "digits\n",
      "N seeds:\n",
      "10\n",
      "svgp_ntk\n",
      "[1.80115765 1.52883145 1.20417133 0.86331636 0.56957469 0.37370257\n",
      " 0.28885763 0.30032793 0.41563212 0.66763104]\n",
      "satellite\n",
      "WARNING: No results for seed 711, dataset satellite\n",
      "WARNING: No results for seed 1, dataset satellite\n",
      "WARNING: No results for seed 75, dataset satellite\n",
      "WARNING: No results for seed 359, dataset satellite\n",
      "WARNING: No results for seed 17, dataset satellite\n",
      "WARNING: No results for seed 420, dataset satellite\n",
      "WARNING: No results for seed 129, dataset satellite\n",
      "WARNING: No results for seed 666, dataset satellite\n",
      "WARNING: No results for seed 69, dataset satellite\n",
      "WARNING: No results for seed 36, dataset satellite\n",
      "N seeds:\n",
      "0\n",
      "gp_subset\n",
      "australian\n",
      "WARNING: No results for seed 1, dataset australian\n",
      "N seeds:\n",
      "9\n",
      "gp_subset\n",
      "[0.67649335 0.66482017 0.64965996 0.63008523 0.60556539 0.57693502\n",
      " 0.52902693 0.35080076 0.36206525 0.43661693]\n",
      "breast_cancer\n",
      "WARNING: No results for seed 75, dataset breast_cancer\n",
      "WARNING: No results for seed 359, dataset breast_cancer\n",
      "N seeds:\n",
      "8\n",
      "gp_subset\n",
      "[0.41921809 0.38900809 0.35217961 0.31995352 0.30359243 0.25680226\n",
      " 0.13681586 0.11737066 0.12741623 0.18883053]\n",
      "ionosphere\n",
      "N seeds:\n",
      "10\n",
      "gp_subset\n",
      "[0.64232751 0.62134006 0.59638852 0.56997281 0.54168769 0.51060333\n",
      " 0.45794094 0.38328372 0.39539554 0.67091556]\n",
      "glass\n",
      "N seeds:\n",
      "10\n",
      "gp_subset\n",
      "[1.73075868 1.69314345 1.6515966  1.5492962  1.38591957 1.12927048\n",
      " 0.98377473 1.11776294 1.39204567 1.75384619]\n",
      "vehicle\n",
      "WARNING: No results for seed 711, dataset vehicle\n",
      "WARNING: No results for seed 1, dataset vehicle\n",
      "WARNING: No results for seed 75, dataset vehicle\n",
      "WARNING: No results for seed 359, dataset vehicle\n",
      "WARNING: No results for seed 17, dataset vehicle\n",
      "WARNING: No results for seed 420, dataset vehicle\n",
      "WARNING: No results for seed 129, dataset vehicle\n",
      "WARNING: No results for seed 666, dataset vehicle\n",
      "WARNING: No results for seed 69, dataset vehicle\n",
      "WARNING: No results for seed 36, dataset vehicle\n",
      "N seeds:\n",
      "0\n",
      "waveform\n",
      "WARNING: No results for seed 711, dataset waveform\n",
      "WARNING: No results for seed 1, dataset waveform\n",
      "WARNING: No results for seed 75, dataset waveform\n",
      "WARNING: No results for seed 359, dataset waveform\n",
      "WARNING: No results for seed 17, dataset waveform\n",
      "WARNING: No results for seed 420, dataset waveform\n",
      "WARNING: No results for seed 129, dataset waveform\n",
      "WARNING: No results for seed 666, dataset waveform\n",
      "WARNING: No results for seed 69, dataset waveform\n",
      "WARNING: No results for seed 36, dataset waveform\n",
      "N seeds:\n",
      "0\n",
      "digits\n",
      "N seeds:\n",
      "10\n",
      "gp_subset\n",
      "[2.24076891 2.09715289 1.89833956 1.64001015 1.32969735 0.99800581\n",
      " 0.71296909 0.55294102 0.56018863 0.74912781]\n",
      "satellite\n",
      "WARNING: No results for seed 711, dataset satellite\n",
      "WARNING: No results for seed 1, dataset satellite\n",
      "WARNING: No results for seed 75, dataset satellite\n",
      "WARNING: No results for seed 359, dataset satellite\n",
      "WARNING: No results for seed 17, dataset satellite\n",
      "WARNING: No results for seed 420, dataset satellite\n",
      "WARNING: No results for seed 129, dataset satellite\n",
      "WARNING: No results for seed 666, dataset satellite\n",
      "WARNING: No results for seed 69, dataset satellite\n",
      "WARNING: No results for seed 36, dataset satellite\n",
      "N seeds:\n",
      "0\n"
     ]
    }
   ],
   "source": [
    "\n",
    "inducing_points = [16, 32, 64, 128]\n",
    "folder_name = '09'\n",
    "pretty_names = {'sparse_16_svgp_ntk': 'SVGP (16)',\n",
    "                'sparse_32_svgp_ntk': 'SVGP (32)',\n",
    "                'sparse_64_svgp_ntk': 'SVGP (64)',\n",
    "                'sparse_128_svgp_ntk': 'SVGP (128)',\n",
    "               'sparse_16_gp_subset': 'GP subset(16)',\n",
    "               'sparse_32_gp_subset': 'GP subset(32)',\n",
    "               'sparse_64_gp_subset': 'GP subset(64)',\n",
    "               'sparse_128_gp_subset': 'GP subset(128)',}\n",
    "method_names = ['svgp_ntk', 'gp_subset']\n",
    "datasets = ['australian', 'breast_cancer', 'ionosphere','glass',\n",
    "            'vehicle','waveform', 'digits', 'satellite']\n",
    "data_names = ['australian', 'cancer', 'ionosphere', 'glass', 'vehicle', 'waveform', 'digits', 'satellite']\n",
    "seeds = [711, 1, 75, 359, 17, 420, 129, 666, 69, 36]\n",
    "for n_inducing in inducing_points:\n",
    "    for method_name in method_names:\n",
    "        table_list = []\n",
    "        print(method_name)\n",
    "        for dataset in datasets:\n",
    "            print(dataset)\n",
    "            result_list = get_result_list(dataset, folder_name, exp_name, seeds)\n",
    "            print('N seeds:')\n",
    "            print(len(result_list))\n",
    "            if len(result_list) == 0:\n",
    "                table_list.append((0, 0))\n",
    "                continue\n",
    "            min_idx = get_val_best(result_list, method_name)\n",
    "            (mean, std) = get_test_mean_std(result_list, min_idx, name=method_name)\n",
    "            table_list.append((round(mean, 3), round(std, 3)))\n",
    "        method_map[pretty_names[f'sparse_{n_inducing}_{method_name}']] = table_list\n",
    "        "
   ]
  },
  {
   "cell_type": "code",
   "execution_count": 198,
   "id": "e79d6a4d",
   "metadata": {},
   "outputs": [
    {
     "data": {
      "text/plain": [
       "{'NN MAP': [(0.31, 0.01),\n",
       "  (0.11, 0.02),\n",
       "  (0.35, 0.02),\n",
       "  (0.95, 0.03),\n",
       "  (0.42, 0.007),\n",
       "  (0.335, 0.004),\n",
       "  (0.094, 0.003),\n",
       "  (0.23, 0.002)],\n",
       " 'MFVI': [(0.34, 0.01),\n",
       "  (0.11, 0.01),\n",
       "  (0.41, 0.01),\n",
       "  (1.06, 0.01),\n",
       "  (0.504, 0.006),\n",
       "  (0.393, 0.003),\n",
       "  (0.219, 0.004),\n",
       "  (0.307, 0.002)],\n",
       " 'BNN': [(0.42, 0.0),\n",
       "  (0.19, 0.0),\n",
       "  (0.5, 0.0),\n",
       "  (1.41, 0.0),\n",
       "  (0.885, 0.002),\n",
       "  (0.516, 0.002),\n",
       "  (0.875, 0.002),\n",
       "  (0.482, 0.001)],\n",
       " 'GLM': [(0.32, 0.02),\n",
       "  (0.1, 0.01),\n",
       "  (0.29, 0.01),\n",
       "  (0.86, 0.01),\n",
       "  (0.428, 0.005),\n",
       "  (0.339, 0.004),\n",
       "  (0.25, 0.002),\n",
       "  (0.241, 0.001)],\n",
       " 'GLM diag': [(0.33, 0.01),\n",
       "  (0.11, 0.01),\n",
       "  (0.35, 0.01),\n",
       "  (0.99, 0.01),\n",
       "  (0.618, 0.003),\n",
       "  (0.388, 0.003),\n",
       "  (0.409, 0.002),\n",
       "  (0.327, 0.002)],\n",
       " 'GLM refine': [(0.32, 0.02),\n",
       "  (0.11, 0.01),\n",
       "  (0.35, 0.05),\n",
       "  (0.98, 0.07),\n",
       "  (0.402, 0.007),\n",
       "  (0.335, 0.004),\n",
       "  (0.15, 0.002),\n",
       "  (0.227, 0.002)],\n",
       " 'GLM refine d': [(0.31, 0.01),\n",
       "  (0.12, 0.02),\n",
       "  (0.32, 0.03),\n",
       "  (0.83, 0.02),\n",
       "  (0.432, 0.005),\n",
       "  (0.364, 0.008),\n",
       "  (0.149, 0.008),\n",
       "  (0.248, 0.002)],\n",
       " 'SVGP (quarter)': [(0.319, 0.03),\n",
       "  (0.107, 0.037),\n",
       "  (0.306, 0.049),\n",
       "  (0.877, 0.079),\n",
       "  (0, 0),\n",
       "  (0, 0),\n",
       "  (0.297, 0.018),\n",
       "  (0, 0)],\n",
       " 'SVGP (half)': [(5, 2),\n",
       "  (5, 2),\n",
       "  (5, 2),\n",
       "  (5, 2),\n",
       "  (5, 2),\n",
       "  (5, 3),\n",
       "  (5, 4),\n",
       "  (5, 5)],\n",
       " 'GP': [(5, 2), (5, 2), (5, 2), (5, 2), (5, 2), (5, 3), (5, 4), (5, 5)],\n",
       " 'GP (subset quarter)': [(0.343, 0.025),\n",
       "  (0.134, 0.027),\n",
       "  (0.4, 0.03),\n",
       "  (1.07, 0.075),\n",
       "  (0, 0),\n",
       "  (0, 0),\n",
       "  (0.557, 0.021),\n",
       "  (0, 0)]}"
      ]
     },
     "execution_count": 198,
     "metadata": {},
     "output_type": "execute_result"
    }
   ],
   "source": [
    "method_map"
   ]
  },
  {
   "cell_type": "code",
   "execution_count": 110,
   "id": "1546e0d5",
   "metadata": {},
   "outputs": [
    {
     "name": "stdout",
     "output_type": "stream",
     "text": [
      "['\\\\begin{tabular}{l C{0.6\\\\tblw} C{0.6\\\\tblw} C{0.6\\\\tblw} C{0.6\\\\tblw} C{0.6\\\\tblw} C{0.6\\\\tblw} C{0.6\\\\tblw} C{0.6\\\\tblw} C{0.6\\\\tblw} C{0.6\\\\tblw}}', '\\\\toprule', '& NN MAP & MFVI & BNN & GLM & GLM diag & GLM refine & GLM refine d & SVGP (quarter) & SVGP (half) & GP  \\\\\\\\', '\\\\midrule', '\\\\sc australian & \\\\val{0.31}{0.01} & \\\\val{0.34}{0.01} & \\\\val{0.42}{0.0} & \\\\val{0.32}{0.02} & \\\\val{0.33}{0.01} & \\\\val{0.32}{0.02} & \\\\val{0.31}{0.01} & \\\\val{0.339}{0.088} & \\\\val{0.341}{0.093} & \\\\val{5}{2} \\\\\\\\', '\\\\sc cancer & \\\\val{0.11}{0.02} & \\\\val{0.11}{0.01} & \\\\val{0.19}{0.0} & \\\\val{0.1}{0.01} & \\\\val{0.11}{0.01} & \\\\val{0.11}{0.01} & \\\\val{0.12}{0.02} & \\\\val{0.095}{0.047} & \\\\val{0.095}{0.047} & \\\\val{5}{2} \\\\\\\\', '\\\\sc ionosphere & \\\\val{0.35}{0.02} & \\\\val{0.41}{0.01} & \\\\val{0.5}{0.0} & \\\\val{0.29}{0.01} & \\\\val{0.35}{0.01} & \\\\val{0.35}{0.05} & \\\\val{0.32}{0.03} & \\\\val{0.334}{0.127} & \\\\val{0.307}{0.077} & \\\\val{5}{2} \\\\\\\\', '\\\\sc glass & \\\\val{0.95}{0.03} & \\\\val{1.06}{0.01} & \\\\val{1.41}{0.0} & \\\\val{0.86}{0.01} & \\\\val{0.99}{0.01} & \\\\val{0.98}{0.07} & \\\\val{0.83}{0.02} & \\\\val{0.834}{0.144} & \\\\val{0.862}{0.194} & \\\\val{5}{2} \\\\\\\\', '\\\\sc vehicle & \\\\val{0.42}{0.007} & \\\\val{0.504}{0.006} & \\\\val{0.885}{0.002} & \\\\val{0.428}{0.005} & \\\\val{0.618}{0.003} & \\\\val{0.402}{0.007} & \\\\val{0.432}{0.005} & \\\\val{0.427}{0.05} & \\\\val{0.432}{0.051} & \\\\val{5}{2} \\\\\\\\', '\\\\sc waveform & \\\\val{0.335}{0.004} & \\\\val{0.393}{0.003} & \\\\val{0.516}{0.002} & \\\\val{0.339}{0.004} & \\\\val{0.388}{0.003} & \\\\val{0.335}{0.004} & \\\\val{0.364}{0.008} & \\\\val{0.335}{0.032} & \\\\val{0.335}{0.032} & \\\\val{5}{3} \\\\\\\\', '\\\\sc digits & \\\\val{0.094}{0.003} & \\\\val{0.219}{0.004} & \\\\val{0.875}{0.002} & \\\\val{0.25}{0.002} & \\\\val{0.409}{0.002} & \\\\val{0.15}{0.002} & \\\\val{0.149}{0.008} & \\\\val{0.099}{0.02} & \\\\val{0.096}{0.02} & \\\\val{5}{4} \\\\\\\\', '\\\\sc satellite & \\\\val{0.23}{0.002} & \\\\val{0.307}{0.002} & \\\\val{0.482}{0.001} & \\\\val{0.241}{0.001} & \\\\val{0.327}{0.002} & \\\\val{0.227}{0.002} & \\\\val{0.248}{0.002} & \\\\val{0.258}{0.027} & \\\\val{0.257}{0.026} & \\\\val{5}{5} \\\\\\\\', '\\\\bottomrule', '\\\\end{tabular}']\n"
     ]
    }
   ],
   "source": [
    "import os\n",
    "\n",
    "\n",
    "lines = []\n",
    "lines.append(r'\\begin{tabular}{l C{0.6\\tblw} C{0.6\\tblw} C{0.6\\tblw} C{0.6\\tblw} C{0.6\\tblw} C{0.6\\tblw} C{0.6\\tblw} C{0.6\\tblw} C{0.6\\tblw} C{0.6\\tblw}}')\n",
    "lines.append(r'\\toprule')\n",
    "header_str = ''\n",
    "for method_name in method_map:\n",
    "    header_str += f'& {method_name} '\n",
    "header_str += r' \\\\'\n",
    "lines.append(header_str)\n",
    "lines.append(r'\\midrule')\n",
    "for i, data_name in enumerate(data_names):\n",
    "    line_str = f'\\sc {data_name} &'\n",
    "    for method_name in method_map:\n",
    "        (mean, var) = method_map[method_name][i]\n",
    "        mean_var = f'{mean} {var}'\n",
    "        line_str += r' \\val{'\n",
    "        line_str += str(mean)\n",
    "        line_str += '}{'\n",
    "        line_str += str(var)\n",
    "        line_str += '} &'\n",
    "    line_str = line_str[:-2]\n",
    "    line_str += r' \\\\'\n",
    "    lines.append(line_str)\n",
    "lines.append(r'\\bottomrule')\n",
    "lines.append(r'\\end{tabular}')\n",
    "tex_file = 'uci.tex'\n",
    "os.remove(tex_file)\n",
    "with open(tex_file, 'a') as file:\n",
    "    for line in lines:\n",
    "        file.write(line+'\\n')\n",
    "    \n",
    "print(lines)"
   ]
  },
  {
   "cell_type": "markdown",
   "id": "175dba76",
   "metadata": {},
   "source": [
    "<h2>Create img result table </h2>"
   ]
  },
  {
   "cell_type": "code",
   "execution_count": 192,
   "id": "17c49d94",
   "metadata": {},
   "outputs": [],
   "source": [
    "def get_val_best_img(result_list, deltas, model_name='svgp_ntk'):\n",
    "    print(model_name)\n",
    "    valid_nlls = np.zeros((len(result_list), len(deltas)))\n",
    "    for i, results in enumerate(result_list):\n",
    "        for j, delta in enumerate(deltas):\n",
    "            valid_res = results[delta]['nll_va']\n",
    "            valid_nlls[i, j] = valid_res\n",
    "    mean_nlls = np.mean(valid_nlls, axis=0)\n",
    "    print(mean_nlls)\n",
    "    min_nll = mean_nlls.min()\n",
    "    min_index = list(mean_nlls).index(min_nll)\n",
    "    return min_index\n",
    "\n",
    "def get_result_list_img(dataset, seeds, name='sparse_1000', model='MLP'):   \n",
    "    result_list = []\n",
    "    deltas = []\n",
    "    dir_name = f'../experiments/results/{dataset}/models/'\n",
    "    for seed in seeds:\n",
    "        seed_res = dict()\n",
    "        for file in os.listdir(dir_name):\n",
    "            ds, m, s, delta = file[:-3].split('_')\n",
    "            if m != model:\n",
    "                continue\n",
    "            if s != seed:\n",
    "                continue\n",
    "            state = torch.load(file)\n",
    "            if f'svgp_ntk_{name}' not in state:\n",
    "                continue\n",
    "            seed_res[delta] = state[f'svgp_ntk_{name}']\n",
    "            deltas.append(delta)\n",
    "        result_list.append(seed_res)\n",
    "    deltas = list(set(deltas))\n",
    "    return result_list, deltas\n",
    "                          \n",
    "def get_test_mean_std_img(result_list, deltas, min_idx):\n",
    "    test_nlls = np.zeros(len(result_list))\n",
    "    min_delta = deltas[min_idx]\n",
    "    for i, results in enumerate(result_list):\n",
    "        test_nlls[i] = results[min_delta]['nll_te']\n",
    "    mean = np.mean(test_nlls)\n",
    "    std = np.std(test_nlls)\n",
    "    return (mean, std)"
   ]
  },
  {
   "cell_type": "code",
   "execution_count": null,
   "id": "ddfe8e59",
   "metadata": {},
   "outputs": [],
   "source": [
    "method_map_img = {\n",
    "    'MAP': {'nll': [(0.258, 0.004), (0.605, 0.007)] , 'ece': [(0.017, 0.001), (0.066, 0.004)], 'acc':[(91.39, 0.11), (80.92, 0.32)]} ,\n",
    "'BNN predictive': {'nll': [(0.942, 0.016), (2.114, 0.021)] , 'ece': [(0.411, 0.008), (0.095, 0.012)], 'acc':[(84.42, 0.12), (21.74, 0.80)]} ,\n",
    "'BNN predictive (Ritter et al.)' : {'nll': [(0.265, 0.004), (0.588, 0.005)] , 'ece': [(0.024, 0.002), (0.052, 0.005)], 'acc':[(91.20, 0.07), (80.78, 0.36)]}  ,\n",
    "'GLM predictive' :{'nll': [(0.244, 0.003), (0.601, 0.008)] , 'ece': [(0.012, 0.003), (0.084, 0.010)], 'acc':[(92.25, 0.10), (81.37, 0.15)]}  ,\n",
    "'GP predictive' : {'nll': [(0.250, 0.004), (0.555, 0.008)] , 'ece': [(0.007, 0.001), (0.017, 0.003)], 'acc':[(91.36, 0.11), (81.01, 0.32)]} ,\n",
    "}"
   ]
  },
  {
   "cell_type": "code",
   "execution_count": null,
   "id": "a0f0bf8f",
   "metadata": {},
   "outputs": [],
   "source": [
    "exper_names = ['sparse_1000']\n",
    "pretty_names = {'sparse_1000_svgp_ntk': 'SVGP (1000)'}\n",
    "method_names = ['svgp_ntk']\n",
    "datasets = ['FMNIST', 'CIFAR10']\n",
    "model = 'MLP'\n",
    "data_names = ['FMNIST', 'CIFAR10']\n",
    "metrics = ['acc', 'nll', 'ece']\n",
    "seeds = [42]\n",
    "for exp_name in exper_names:\n",
    "    for method_name in method_names:\n",
    "        table_list = []\n",
    "        print(method_name)\n",
    "        for dataset in datasets:\n",
    "            print(dataset)\n",
    "            result_list, deltas = get_result_list_img(dataset,  seeds, name=exper_name,  model=model)\n",
    "            print('N seeds:')\n",
    "            print(len(result_list))\n",
    "            if len(result_list) == 0:\n",
    "                table_list.append((0, 0))\n",
    "                continue\n",
    "            min_idx = get_val_best_img(result_list, deltas)\n",
    "            (mean, std) = get_test_mean_std_img(result_list, min_idx, name=method_name)\n",
    "            table_list.append((round(mean, 3), round(std, 3)))\n",
    "        method_map_img[pretty_names[exp_name+'_'+method_name]] = table_list"
   ]
  },
  {
   "cell_type": "code",
   "execution_count": null,
   "id": "4408bb43",
   "metadata": {},
   "outputs": [],
   "source": [
    "import os\n",
    "\n",
    "\n",
    "lines = []\n",
    "lines.append(r'\\begin{tabular}{l C{0.6\\tblw} C{0.6\\tblw} C{0.6\\tblw} C{0.6\\tblw} C{0.6\\tblw}}')\n",
    "lines.append(r'\\toprule')\n",
    "header_str = ''\n",
    "for method_name in method_map_img:\n",
    "    header_str += f'& {method_name} '\n",
    "header_str += r' \\\\'\n",
    "lines.append(header_str)\n",
    "lines.append(r'\\midrule')\n",
    "for i, dataset in enumerate(datasets):\n",
    "    line_str = f'\\sc {dataset} &'\n",
    "    for method_name in method_map:\n",
    "        for metric in metrics:\n",
    "            (mean, var) = method_map[method_name][metric][i]\n",
    "            mean_var = f'{mean} {var}'\n",
    "            line_str += r' \\val{'\n",
    "            line_str += str(mean)\n",
    "            line_str += '}{'\n",
    "            line_str += str(var)\n",
    "            line_str += '} &'\n",
    "    line_str = line_str[:-2]\n",
    "    line_str += r' \\\\'\n",
    "    lines.append(line_str)\n",
    "lines.append(r'\\bottomrule')\n",
    "lines.append(r'\\end{tabular}')\n",
    "tex_file = 'img_super.tex'\n",
    "os.remove(tex_file)\n",
    "with open(tex_file, 'a') as file:\n",
    "    for line in lines:\n",
    "        file.write(line+'\\n')\n",
    "    \n",
    "print(lines)"
   ]
  },
  {
   "cell_type": "markdown",
   "id": "f2cab4f7",
   "metadata": {},
   "source": [
    "<h2>Run Image experiments </h2>"
   ]
  },
  {
   "cell_type": "code",
   "execution_count": 92,
   "id": "c46c905a",
   "metadata": {},
   "outputs": [],
   "source": [
    "ds = 'MNIST'\n",
    "model = 'MLP'\n",
    "seed = 117"
   ]
  },
  {
   "cell_type": "code",
   "execution_count": 96,
   "id": "a10bcad6",
   "metadata": {},
   "outputs": [
    {
     "name": "stdout",
     "output_type": "stream",
     "text": [
      "Writing results to ../experiments/results/MNIST\n",
      "Reading data from ../data\n",
      "Dataset: MNIST\n",
      "Seed: 117\n",
      "Downloading http://yann.lecun.com/exdb/mnist/train-images-idx3-ubyte.gz to ../data/MNIST/raw/train-images-idx3-ubyte.gz\n",
      "9920512it [00:00, 12327924.77it/s]                                              \n",
      "Extracting ../data/MNIST/raw/train-images-idx3-ubyte.gz to ../data/MNIST/raw\n",
      "Downloading http://yann.lecun.com/exdb/mnist/train-labels-idx1-ubyte.gz to ../data/MNIST/raw/train-labels-idx1-ubyte.gz\n",
      "32768it [00:00, 298645.29it/s]\n",
      "Extracting ../data/MNIST/raw/train-labels-idx1-ubyte.gz to ../data/MNIST/raw\n",
      "Downloading http://yann.lecun.com/exdb/mnist/t10k-images-idx3-ubyte.gz to ../data/MNIST/raw/t10k-images-idx3-ubyte.gz\n",
      "1654784it [00:00, 6915425.85it/s]                                               \n",
      "Extracting ../data/MNIST/raw/t10k-images-idx3-ubyte.gz to ../data/MNIST/raw\n",
      "Downloading http://yann.lecun.com/exdb/mnist/t10k-labels-idx1-ubyte.gz to ../data/MNIST/raw/t10k-labels-idx1-ubyte.gz\n",
      "8192it [00:00, 29604.16it/s]                                                    \n",
      "Extracting ../data/MNIST/raw/t10k-labels-idx1-ubyte.gz to ../data/MNIST/raw\n",
      "Processing...\n",
      "/Users/tamire1/miniconda3/envs/bnn-env-3/lib/python3.7/site-packages/torchvision/datasets/mnist.py:469: UserWarning: The given NumPy array is not writeable, and PyTorch does not support non-writeable tensors. This means you can write to the underlying (supposedly non-writeable) NumPy array using the tensor. You may want to copy the array to protect its data or make it writeable before converting it to a tensor. This type of warning will be suppressed for the rest of this program. (Triggered internally at  /Users/distiller/project/conda/conda-bld/pytorch_1595629430416/work/torch/csrc/utils/tensor_numpy.cpp:141.)\n",
      "  return torch.from_numpy(parsed.astype(m[2], copy=False)).view(*s)\n",
      "Done!\n",
      "  3%|█▏                                        | 14/500 [01:12<42:17,  5.22s/it]^C\n",
      "  3%|█▏                                        | 14/500 [01:13<42:32,  5.25s/it]\n",
      "Traceback (most recent call last):\n",
      "  File \"../experiments/imgclassification.py\", line 164, in <module>\n",
      "    main(ds_train, ds_test, model_name, seed, n_epochs, batch_size, lr, deltas, device, fname, res_dir)\n",
      "  File \"../experiments/imgclassification.py\", line 98, in main\n",
      "    loss.backward()\n",
      "  File \"/Users/tamire1/miniconda3/envs/bnn-env-3/lib/python3.7/site-packages/torch/tensor.py\", line 185, in backward\n",
      "    torch.autograd.backward(self, gradient, retain_graph, create_graph)\n",
      "  File \"/Users/tamire1/miniconda3/envs/bnn-env-3/lib/python3.7/site-packages/torch/autograd/__init__.py\", line 127, in backward\n",
      "    allow_unreachable=True)  # allow_unreachable flag\n",
      "KeyboardInterrupt\n"
     ]
    }
   ],
   "source": [
    "!python3 ../experiments/imgclassification.py -d {ds} -m {model} -s {seed}"
   ]
  }
 ],
 "metadata": {
  "kernelspec": {
   "display_name": "Python 3 (ipykernel)",
   "language": "python",
   "name": "python3"
  },
  "language_info": {
   "codemirror_mode": {
    "name": "ipython",
    "version": 3
   },
   "file_extension": ".py",
   "mimetype": "text/x-python",
   "name": "python",
   "nbconvert_exporter": "python",
   "pygments_lexer": "ipython3",
   "version": "3.11.3"
  }
 },
 "nbformat": 4,
 "nbformat_minor": 5
}
