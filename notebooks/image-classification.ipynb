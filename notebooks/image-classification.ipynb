{
 "cells": [
  {
   "cell_type": "markdown",
   "id": "62ddd56a",
   "metadata": {},
   "source": [
    "# Classification on Fashion-MNIST\n",
    "In this notebook, we show how to use `SFR` for classification on the Fashion-MNIST data set."
   ]
  },
  {
   "cell_type": "code",
   "execution_count": 157,
   "id": "5351551d",
   "metadata": {},
   "outputs": [],
   "source": [
    "import sys\n",
    "from collections import OrderedDict\n",
    "\n",
    "import matplotlib.pyplot as plt\n",
    "import numpy as np\n",
    "import torch\n",
    "import torch.nn as nn\n",
    "import torchvision\n",
    "from IPython.display import clear_output\n",
    "from netcal.metrics import ECE\n",
    "from torch.utils.data import DataLoader, Subset\n",
    "from torchvision import transforms\n",
    "\n",
    "sys.path.append(\"..\")  # Adds higher directory to python modules path.\n",
    "\n",
    "import likelihoods\n",
    "import priors\n",
    "import sfr"
   ]
  },
  {
   "cell_type": "markdown",
   "id": "365a3a2e",
   "metadata": {},
   "source": [
    "Let's fix the random seed for reproducibility and set the default type to float64."
   ]
  },
  {
   "cell_type": "code",
   "execution_count": 158,
   "id": "61355867",
   "metadata": {},
   "outputs": [],
   "source": [
    "torch.manual_seed(42)\n",
    "device = \"cuda\" if torch.cuda.is_available() else \"cpu\"\n",
    "torch.set_default_dtype(torch.float64)"
   ]
  },
  {
   "cell_type": "markdown",
   "id": "b1e0db60",
   "metadata": {},
   "source": [
    "## Fashion-MNIST data set"
   ]
  },
  {
   "cell_type": "markdown",
   "id": "92f880ec",
   "metadata": {},
   "source": [
    "The Fashion-MNIST data set is an image classification problem with $80,000$ inputs $\\mathbf{x}_i \\in \\mathbb{R}^{28 \\times 28}$ (i.e. single channel images) and outputs ${y}_i \\in \\{0, \\dots, 9\\}$. The original inputs are integers but we transform them into floating point numbers."
   ]
  },
  {
   "cell_type": "markdown",
   "id": "5a5a9ef2",
   "metadata": {},
   "source": [
    "Let's load the Fashion-MNIST data set."
   ]
  },
  {
   "cell_type": "code",
   "execution_count": 159,
   "id": "f4995a2d-5a7c-4d3f-91fb-ed1e97abbca3",
   "metadata": {},
   "outputs": [],
   "source": [
    "batch_size = 128\n",
    "train_val_split = 0.8\n",
    "in_channels = 1  # 1 for MNIST/Fashion-MNIST\n",
    "debug = True  # if debug=True only use 500 data points"
   ]
  },
  {
   "cell_type": "code",
   "execution_count": 160,
   "id": "157f59cf",
   "metadata": {},
   "outputs": [],
   "source": [
    "transform = transforms.Compose(\n",
    "    [transforms.ToTensor(), transforms.Normalize((0.2860,), (0.3530,))]\n",
    ")\n",
    "ds_train = torchvision.datasets.FashionMNIST(\n",
    "    \"data\", download=True, train=True, transform=transform\n",
    ")\n",
    "ds_test = torchvision.datasets.FashionMNIST(\n",
    "    \"data\", download=True, train=False, transform=transform\n",
    ")"
   ]
  },
  {
   "cell_type": "markdown",
   "id": "a3539f5f-376e-4b3d-82a5-7cd9a2221cb9",
   "metadata": {},
   "source": [
    "Split the train data set into train/validation sets and create data loaders."
   ]
  },
  {
   "cell_type": "code",
   "execution_count": 161,
   "id": "9d60147b-26bb-4287-b737-40239742aaa2",
   "metadata": {},
   "outputs": [],
   "source": [
    "output_dim = len(ds_train.classes)\n",
    "num_data = len(ds_train) if not debug else 500\n",
    "\n",
    "idxs = np.random.permutation(num_data)\n",
    "split_idx = int(train_val_split * num_data)\n",
    "\n",
    "train_loader = DataLoader(\n",
    "    Subset(ds_train, idxs[:split_idx]), batch_size=batch_size, shuffle=True\n",
    ")\n",
    "val_loader = DataLoader(\n",
    "    Subset(ds_train, idxs[split_idx + 1 :]), batch_size=1024, shuffle=True\n",
    ")\n",
    "if debug:\n",
    "    test_loader = DataLoader(\n",
    "        Subset(ds_train, idxs[split_idx + 1 :]),\n",
    "        batch_size=1024,\n",
    "        shuffle=True,\n",
    "        pin_memory=True,\n",
    "    )\n",
    "else:\n",
    "    test_loader = DataLoader(ds_test, batch_size=1024, shuffle=True, pin_memory=True)"
   ]
  },
  {
   "cell_type": "markdown",
   "id": "6e1a8c07",
   "metadata": {},
   "source": [
    "## Neural network "
   ]
  },
  {
   "cell_type": "markdown",
   "id": "e4e3ba14",
   "metadata": {},
   "source": [
    "Given the data set $\\mathcal{D} = \\{(\\mathbf{x}_{i} , \\mathbf{y}_{i})\\}_{i=1}^{N}$, we want to approximate the function $f$ with a neural network $f_\\mathbf{w}: \\mathbb{R} \\to \\mathbb{R}$ with weights $\\mathbf{w} \\in \\mathbb{R}^{P}$.\n",
    "It is common to traing the neural network weights $\\mathbf{w}$ to minimize the (regularized) empirical risk,\n",
    "\\begin{equation}\n",
    "  \\mathbf{w}^{*} = \n",
    "  \\arg \\min_{\\mathbf{w}} \\mathcal{L}(\\mathcal{D},\\mathbf{w}) =\n",
    "  \\arg \\min_{\\mathbf{w}} \\textstyle\\sum_{i=1}^{N} \\ell(f_\\mathbf{w}(\\mathbf{x}_{i}), y_i) + \\mathcal{R}(\\mathbf{w}).\n",
    "\\end{equation}\n",
    "where $l(f_\\mathbf{w}(\\mathbf{x}_{i}), y_i) = -\\log p(y \\mid f_\\mathbf{w}(\\mathbf{x}_{i}))$ and the regularizer $\\mathcal{R}(\\mathbf{w}) = \\frac{\\delta}{2}\\| \\mathbf{w}\\|^{2}_{2}$.\n",
    "We can view this as the maximum a~posteriori (MAP) solution to a Bayesian objective, where the first term $l(f_\\mathbf{w}(\\mathbf{x}_{i}), y_i)$ represents the log likelihood and the regularization weight takes the role of a prior precision parameter, $p(\\mathbf{w}) = \\mathcal{N}(\\mathbf{0}, \\delta^{-1} \\mathbf{I})$.\n",
    "\n",
    "Let's start by creating a neural network."
   ]
  },
  {
   "cell_type": "code",
   "execution_count": 162,
   "id": "e2b73daa",
   "metadata": {},
   "outputs": [],
   "source": [
    "class CIFAR10Net(nn.Module):\n",
    "    def __init__(self, in_channels: int = 3, n_out: int = 10, use_tanh: bool = False):\n",
    "        super().__init__()\n",
    "        self.output_size = n_out\n",
    "        activ = nn.Tanh if use_tanh else nn.ReLU\n",
    "\n",
    "        self.cnn_block = nn.Sequential(\n",
    "            OrderedDict(\n",
    "                [\n",
    "                    (\n",
    "                        \"conv1\",\n",
    "                        nn.Conv2d(\n",
    "                            in_channels=in_channels,\n",
    "                            out_channels=64,\n",
    "                            kernel_size=(5, 5),\n",
    "                            stride=(1, 1),\n",
    "                        ),\n",
    "                    ),\n",
    "                    (\"relu1\", nn.ReLU()),\n",
    "                    (\n",
    "                        \"maxpool1\",\n",
    "                        nn.Sequential(\n",
    "                            nn.ZeroPad2d((0, 1, 0, 1)),\n",
    "                            nn.MaxPool2d(kernel_size=3, stride=2),\n",
    "                        ),\n",
    "                    ),\n",
    "                    (\n",
    "                        \"conv2\",\n",
    "                        nn.Conv2d(\n",
    "                            in_channels=64,\n",
    "                            out_channels=96,\n",
    "                            kernel_size=(3, 3),\n",
    "                            stride=(1, 1),\n",
    "                        ),\n",
    "                    ),\n",
    "                    (\"relu2\", nn.ReLU()),\n",
    "                    (\n",
    "                        \"maxpool2\",\n",
    "                        nn.Sequential(\n",
    "                            nn.ZeroPad2d((0, 1, 0, 1)),\n",
    "                            nn.MaxPool2d(kernel_size=3, stride=2),\n",
    "                        ),\n",
    "                    ),\n",
    "                    (\n",
    "                        \"conv3\",\n",
    "                        nn.Conv2d(\n",
    "                            in_channels=96,\n",
    "                            out_channels=128,\n",
    "                            kernel_size=(3, 3),\n",
    "                            stride=(1, 1),\n",
    "                            padding=(1, 1),\n",
    "                        ),\n",
    "                    ),\n",
    "                    (\"relu3\", nn.ReLU()),\n",
    "                    (\n",
    "                        \"maxpool3\",\n",
    "                        nn.Sequential(\n",
    "                            nn.ZeroPad2d((1, 1, 1, 1)),\n",
    "                            nn.MaxPool2d(kernel_size=3, stride=2),\n",
    "                        ),\n",
    "                    ),\n",
    "                ]\n",
    "            )\n",
    "        )\n",
    "        self.lin_block = nn.Sequential(\n",
    "            OrderedDict(\n",
    "                [\n",
    "                    (\"flatten\", nn.Flatten()),\n",
    "                    (\"dense1\", nn.Linear(in_features=3 * 3 * 128, out_features=512)),\n",
    "                    (\"activ1\", activ()),\n",
    "                    (\"dense2\", nn.Linear(in_features=512, out_features=256)),\n",
    "                    (\"activ2\", activ()),\n",
    "                    (\n",
    "                        \"dense3\",\n",
    "                        nn.Linear(in_features=256, out_features=self.output_size),\n",
    "                    ),\n",
    "                ]\n",
    "            )\n",
    "        )\n",
    "        for module in self.modules():\n",
    "            if isinstance(module, nn.Conv2d):\n",
    "                nn.init.constant_(module.bias, 0.0)\n",
    "                nn.init.xavier_normal_(module.weight)\n",
    "\n",
    "            if isinstance(module, nn.Linear):\n",
    "                nn.init.constant_(module.bias, 0.0)\n",
    "                nn.init.xavier_uniform_(module.weight)\n",
    "\n",
    "    def forward(self, x):\n",
    "        x = self.cnn_block(x)\n",
    "        out = self.lin_block(x)\n",
    "        return out\n",
    "\n",
    "\n",
    "network = CIFAR10Net(in_channels=in_channels)"
   ]
  },
  {
   "cell_type": "markdown",
   "id": "7fb9f982",
   "metadata": {},
   "source": [
    "Making predictions with `SFR` depends on the loss function as it encodes our likelihood and prior.\n",
    "As such, we instantiate `SFR` by passing it a prior and a likelihood.\n",
    "\n",
    "We use a Gaussian prior over the weights as it correspondes to a weight decay regulariser."
   ]
  },
  {
   "cell_type": "code",
   "execution_count": 163,
   "id": "f9f74dd0",
   "metadata": {},
   "outputs": [],
   "source": [
    "delta = 0.0002\n",
    "\n",
    "prior = priors.Gaussian(params=network.parameters, prior_precision=delta)"
   ]
  },
  {
   "cell_type": "markdown",
   "id": "7a7703ef",
   "metadata": {},
   "source": [
    "We use a Categorical likelihood, which corresponds to using the cross entropy loss."
   ]
  },
  {
   "cell_type": "code",
   "execution_count": 164,
   "id": "3357c176",
   "metadata": {},
   "outputs": [],
   "source": [
    "likelihood = likelihoods.CategoricalLh(EPS=0.0)"
   ]
  },
  {
   "cell_type": "code",
   "execution_count": 165,
   "id": "7b75505a",
   "metadata": {},
   "outputs": [],
   "source": [
    "model = sfr.SFR(\n",
    "    network=network,\n",
    "    prior=prior,\n",
    "    likelihood=likelihood,\n",
    "    output_dim=output_dim,\n",
    "    num_inducing=2048,\n",
    "    dual_batch_size=1024,  # this reduces the memory required for computing dual parameters\n",
    "    jitter=1e-4,\n",
    ")"
   ]
  },
  {
   "cell_type": "code",
   "execution_count": 166,
   "id": "01bc19cd-f045-4858-bfb2-c1edc5b23247",
   "metadata": {},
   "outputs": [
    {
     "data": {
      "text/plain": [
       "[torch.float64,\n",
       " torch.float64,\n",
       " torch.float64,\n",
       " torch.float64,\n",
       " torch.float64,\n",
       " torch.float64,\n",
       " torch.float64,\n",
       " torch.float64,\n",
       " torch.float64,\n",
       " torch.float64,\n",
       " torch.float64,\n",
       " torch.float64]"
      ]
     },
     "execution_count": 166,
     "metadata": {},
     "output_type": "execute_result"
    }
   ],
   "source": [
    "[p.dtype for p in model.parameters()]"
   ]
  },
  {
   "cell_type": "markdown",
   "id": "6f02c6a8",
   "metadata": {},
   "source": [
    "We can now train the network using our loss function `SFR.loss()`."
   ]
  },
  {
   "cell_type": "code",
   "execution_count": 23,
   "id": "efa1951b",
   "metadata": {},
   "outputs": [],
   "source": [
    "num_epochs = 100\n",
    "learning_rate = 3e-4"
   ]
  },
  {
   "cell_type": "code",
   "execution_count": 24,
   "id": "cbc5767d",
   "metadata": {},
   "outputs": [
    {
     "data": {
      "image/png": "[encoded data removed]",
      "text/plain": [
       "<Figure size 1600x800 with 1 Axes>"
      ]
     },
     "metadata": {},
     "output_type": "display_data"
    }
   ],
   "source": [
    "def train(\n",
    "    model: sfr.SFR,\n",
    "    data_loader: DataLoader,\n",
    "    num_epochs: int = 1000,\n",
    "    batch_size: int = 16,\n",
    "    learning_rate: float = 1e-3,\n",
    ") -> dict:\n",
    "    model.train()\n",
    "    optimizer = torch.optim.Adam([{\"params\": model.parameters()}], lr=learning_rate)\n",
    "    loss_history = []\n",
    "    for epoch_idx in range(num_epochs):\n",
    "        for batch_idx, batch in enumerate(data_loader):\n",
    "            x, y = batch\n",
    "            loss = model.loss(x, y)\n",
    "\n",
    "            optimizer.zero_grad()\n",
    "            loss.backward()\n",
    "            optimizer.step()\n",
    "            loss_history.append(loss.detach().numpy())\n",
    "\n",
    "        if epoch_idx % 20 == 0:\n",
    "            clear_output(True)\n",
    "            plt.figure(figsize=[16, 8])\n",
    "            plt.subplot()\n",
    "            plt.title(\"Loss = %.3f\" % np.mean(loss_history[-32:]))\n",
    "            losses = np.array(loss_history)\n",
    "            losses_idx = np.arange(len(losses))\n",
    "            plt.scatter(losses_idx, losses)\n",
    "            plt.grid()\n",
    "            plt.show()\n",
    "\n",
    "    return {\"loss\": loss_history}\n",
    "\n",
    "\n",
    "metrics = train(\n",
    "    model=model,\n",
    "    data_loader=train_loader,\n",
    "    num_epochs=num_epochs,\n",
    "    batch_size=batch_size,\n",
    "    learning_rate=learning_rate,\n",
    ")"
   ]
  },
  {
   "cell_type": "markdown",
   "id": "3fa1ce9b-3b58-4683-91d8-edc421ca1e37",
   "metadata": {},
   "source": [
    "Let's create a helper function which can calculate the NLPD/accuracy/ECE of the NN and SFR on the test data."
   ]
  },
  {
   "cell_type": "code",
   "execution_count": 25,
   "id": "fc78a9fc",
   "metadata": {},
   "outputs": [],
   "source": [
    "@torch.no_grad()\n",
    "def evaluate(model: sfr.SFR, data_loader: DataLoader, sfr_pred: bool = False):\n",
    "    model.eval()\n",
    "    probs, targets, val_losses = [], [], []\n",
    "    dtype = next(model.parameters()).dtype  # because change NN from float to double\n",
    "    for data, target in data_loader:\n",
    "        data = data.to(dtype).to(device)\n",
    "        target = target.to(device)\n",
    "        if sfr_pred:  # predict with SFR\n",
    "            probs.append(model(data.to(device))[0])\n",
    "        else:  # predict with NN\n",
    "            probs.append(torch.softmax(model.network(data), dim=-1))\n",
    "        targets.append(target)\n",
    "        val_losses.append(model.loss(data, target))\n",
    "\n",
    "    val_loss = torch.mean(torch.stack(val_losses, 0)).cpu().numpy().item()\n",
    "    targets = torch.cat(targets, dim=0).cpu().numpy()\n",
    "    probs = torch.cat(probs).cpu().numpy()\n",
    "    acc = (probs.argmax(-1) == targets).mean()\n",
    "    ece = ECE(bins=15).measure(probs, targets)\n",
    "    dist = torch.distributions.Categorical(torch.Tensor(probs))\n",
    "    nlpd = -dist.log_prob(torch.Tensor(targets)).mean().numpy()\n",
    "    metrics = {\"loss\": val_loss, \"acc\": acc, \"nlpd\": nlpd, \"ece\": ece}\n",
    "    model.train()\n",
    "    return metrics"
   ]
  },
  {
   "cell_type": "code",
   "execution_count": 134,
   "id": "0920b680-9f56-484d-b500-38611c56039d",
   "metadata": {},
   "outputs": [],
   "source": [
    "model.eval()\n",
    "probs, targets, val_losses = [], [], []\n",
    "dtype = next(model.parameters()).dtype  # because change NN from float to double\n",
    "for data, target in train_loader:\n",
    "    data = data.to(dtype).to(device)\n",
    "    target = target.to(device)\n",
    "    probs.append(model(data.to(device))[0])\n",
    "    targets.append(target)\n",
    "    val_losses.append(model.loss(data, target))\n",
    "    break"
   ]
  },
  {
   "cell_type": "code",
   "execution_count": 135,
   "id": "bdee41a7-367a-46ce-a42a-054081bb59bc",
   "metadata": {},
   "outputs": [
    {
     "data": {
      "text/plain": [
       "torch.float64"
      ]
     },
     "execution_count": 135,
     "metadata": {},
     "output_type": "execute_result"
    }
   ],
   "source": [
    "torch.cat(probs).cpu().dtype"
   ]
  },
  {
   "cell_type": "code",
   "execution_count": 136,
   "id": "4a5052ee-108a-4968-8ecc-49a06cde7a7c",
   "metadata": {},
   "outputs": [
    {
     "data": {
      "text/plain": [
       "torch.Size([128, 10])"
      ]
     },
     "execution_count": 136,
     "metadata": {},
     "output_type": "execute_result"
    }
   ],
   "source": [
    "probs[0].shape"
   ]
  },
  {
   "cell_type": "code",
   "execution_count": 137,
   "id": "7e38b026-bdc5-40ce-ae44-1815eb3631f4",
   "metadata": {},
   "outputs": [
    {
     "data": {
      "text/plain": [
       "torch.Size([128])"
      ]
     },
     "execution_count": 137,
     "metadata": {},
     "output_type": "execute_result"
    }
   ],
   "source": [
    "torch.cat(targets, dim=0).cpu().shape"
   ]
  },
  {
   "cell_type": "code",
   "execution_count": 138,
   "id": "064219ec-929c-4990-b2c6-3bfce9e66552",
   "metadata": {},
   "outputs": [
    {
     "data": {
      "text/plain": [
       "5.48927127886798"
      ]
     },
     "execution_count": 138,
     "metadata": {},
     "output_type": "execute_result"
    }
   ],
   "source": [
    "dist = torch.distributions.Categorical(probs[0].cpu())\n",
    "-dist.log_prob(targets[0].cpu()).mean().numpy()"
   ]
  },
  {
   "cell_type": "code",
   "execution_count": 139,
   "id": "e00a0db8-0b9d-4637-a575-82691b6cd9b1",
   "metadata": {},
   "outputs": [],
   "source": [
    "mu, var = model.predict_f(data)"
   ]
  },
  {
   "cell_type": "code",
   "execution_count": 140,
   "id": "fdd9808f-bba9-46d7-bdd7-a846db661a93",
   "metadata": {},
   "outputs": [
    {
     "data": {
      "text/plain": [
       "10"
      ]
     },
     "execution_count": 140,
     "metadata": {},
     "output_type": "execute_result"
    }
   ],
   "source": [
    "mu.shape[-1]"
   ]
  },
  {
   "cell_type": "code",
   "execution_count": 141,
   "id": "7b65199a-4359-4c3c-b77b-fb70447473dc",
   "metadata": {},
   "outputs": [],
   "source": [
    "p=torch.nn.Softmax(dim=-1)(mu)"
   ]
  },
  {
   "cell_type": "code",
   "execution_count": 143,
   "id": "698498ef-a33c-4baf-8342-09376bb30fb8",
   "metadata": {},
   "outputs": [
    {
     "data": {
      "text/plain": [
       "0.0033509978932750456"
      ]
     },
     "execution_count": 143,
     "metadata": {},
     "output_type": "execute_result"
    }
   ],
   "source": [
    "dist = torch.distributions.Categorical(p.cpu())\n",
    "-dist.log_prob(targets[0].cpu()).mean().numpy()"
   ]
  },
  {
   "cell_type": "code",
   "execution_count": 144,
   "id": "5898f782-59c8-4766-ad15-a64db1dfe707",
   "metadata": {},
   "outputs": [
    {
     "ename": "TypeError",
     "evalue": "CategoricalLh.__call__() got an unexpected keyword argument 'full_cov'",
     "output_type": "error",
     "traceback": [
      "\u001b[0;31m---------------------------------------------------------------------------\u001b[0m",
      "\u001b[0;31mTypeError\u001b[0m                                 Traceback (most recent call last)",
      "Cell \u001b[0;32mIn[144], line 1\u001b[0m\n\u001b[0;32m----> 1\u001b[0m \u001b[43mmodel\u001b[49m\u001b[38;5;241;43m.\u001b[39;49m\u001b[43mlikelihood\u001b[49m\u001b[43m(\u001b[49m\u001b[43mmu\u001b[49m\u001b[43m,\u001b[49m\u001b[43m \u001b[49m\u001b[43mfull_cov\u001b[49m\u001b[38;5;241;43m=\u001b[39;49m\u001b[38;5;28;43;01mFalse\u001b[39;49;00m\u001b[43m)\u001b[49m\n",
      "\u001b[0;31mTypeError\u001b[0m: CategoricalLh.__call__() got an unexpected keyword argument 'full_cov'"
     ]
    }
   ],
   "source": [
    "model.likelihood(mu, full_cov=False)"
   ]
  },
  {
   "cell_type": "code",
   "execution_count": 151,
   "id": "d9f82367-6f65-4a4a-af19-10d55e79d283",
   "metadata": {},
   "outputs": [],
   "source": [
    "from torch.distributions import Bernoulli, Categorical, Normal\n",
    "\n",
    "d = Normal(mu, torch.sqrt(var.clamp(10 ** (-32))))\n",
    "# d = Normal(mu, torch.sqrt(torch.ones_like(var)*10 ** (-32)))"
   ]
  },
  {
   "cell_type": "code",
   "execution_count": 152,
   "id": "d836dabe-a439-4f55-b63a-6f2868161fca",
   "metadata": {},
   "outputs": [
    {
     "data": {
      "text/plain": [
       "torch.Size([100, 128, 10])"
      ]
     },
     "execution_count": 152,
     "metadata": {},
     "output_type": "execute_result"
    }
   ],
   "source": [
    "num_samples=100\n",
    "logit_samples = d.sample((num_samples,))\n",
    "logit_samples.shape"
   ]
  },
  {
   "cell_type": "code",
   "execution_count": 153,
   "id": "31697344-975e-41e0-8d7b-4a414dafbb36",
   "metadata": {},
   "outputs": [],
   "source": [
    "samples = torch.nn.functional.softmax(logit_samples, dim=-1)"
   ]
  },
  {
   "cell_type": "code",
   "execution_count": 154,
   "id": "106e856f-d475-448b-a6dd-8533dc7f964a",
   "metadata": {},
   "outputs": [
    {
     "data": {
      "text/plain": [
       "torch.Size([100, 128, 10])"
      ]
     },
     "execution_count": 154,
     "metadata": {},
     "output_type": "execute_result"
    }
   ],
   "source": [
    "samples.shape"
   ]
  },
  {
   "cell_type": "code",
   "execution_count": 155,
   "id": "dcf35f11-2555-419e-9853-2a3b8e388465",
   "metadata": {},
   "outputs": [
    {
     "data": {
      "text/plain": [
       "torch.Size([128, 10])"
      ]
     },
     "execution_count": 155,
     "metadata": {},
     "output_type": "execute_result"
    }
   ],
   "source": [
    "pp = torch.mean(samples, 0)\n",
    "pp.shape"
   ]
  },
  {
   "cell_type": "code",
   "execution_count": 156,
   "id": "8142d955-8b94-4f55-8444-6b9630719136",
   "metadata": {},
   "outputs": [
    {
     "data": {
      "text/plain": [
       "4.546516064734272"
      ]
     },
     "execution_count": 156,
     "metadata": {},
     "output_type": "execute_result"
    }
   ],
   "source": [
    "dist = torch.distributions.Categorical(pp.cpu())\n",
    "-dist.log_prob(targets[0].cpu()).mean().numpy()"
   ]
  },
  {
   "cell_type": "code",
   "execution_count": 111,
   "id": "e0a43f0a-0cb6-4ff6-ac0e-2d60ada28c1c",
   "metadata": {},
   "outputs": [],
   "source": [
    "model.likelihood.num_classes"
   ]
  },
  {
   "cell_type": "markdown",
   "id": "adb5fd70-b4c7-4251-9c1f-8c38105258f4",
   "metadata": {},
   "source": [
    "Let's check the NLPD/accuracy/ECE of the NN (before fitting SFR) on the test data."
   ]
  },
  {
   "cell_type": "code",
   "execution_count": 26,
   "id": "46936c89-2987-4398-b394-c86bde4c87c2",
   "metadata": {},
   "outputs": [
    {
     "data": {
      "text/plain": [
       "{'loss': 0.7253816952238149,\n",
       " 'acc': 0.8383838383838383,\n",
       " 'nlpd': 0.6365597111730138,\n",
       " 'ece': 0.10579742930282782}"
      ]
     },
     "execution_count": 26,
     "metadata": {},
     "output_type": "execute_result"
    }
   ],
   "source": [
    "evaluate(model=model, data_loader=test_loader, sfr_pred=False)"
   ]
  },
  {
   "cell_type": "code",
   "execution_count": 27,
   "id": "bf28f064-6346-47bb-944b-0051f839b078",
   "metadata": {},
   "outputs": [
    {
     "data": {
      "text/plain": [
       "{'loss': 0.12023645333980554,\n",
       " 'acc': 1.0,\n",
       " 'nlpd': 0.03060293131827908,\n",
       " 'ece': 0.02808798550955894}"
      ]
     },
     "execution_count": 27,
     "metadata": {},
     "output_type": "execute_result"
    }
   ],
   "source": [
    "evaluate(model=model, data_loader=train_loader, sfr_pred=False)"
   ]
  },
  {
   "cell_type": "markdown",
   "id": "c9e666b2",
   "metadata": {},
   "source": [
    "## Inference"
   ]
  },
  {
   "cell_type": "markdown",
   "id": "0ec6ee22",
   "metadata": {},
   "source": [
    "Now that we have a trained neural network, we can use `sfr.SFR` to build our sparse GP model.\n",
    "That is, we perform inference by calculating the dual variables."
   ]
  },
  {
   "cell_type": "markdown",
   "id": "ed3f8b7a",
   "metadata": {},
   "source": [
    "To perform inference `sfr.SFR` first calculates the dual parameters at each data point.\n",
    "It then samples a set of inducing points from the inputs and projects the dual parameters onto them.\n",
    "This is done with `SFR.fit(train_loader)`."
   ]
  },
  {
   "cell_type": "code",
   "execution_count": 28,
   "id": "da5060da",
   "metadata": {
    "scrolled": true
   },
   "outputs": [
    {
     "name": "stderr",
     "output_type": "stream",
     "text": [
      "INFO:sfr:Calculating dual params...\n",
      "INFO:sfr:Finished calculating dual params\n",
      "INFO:sfr:Project dual params onto inducing points...\n",
      "INFO:root:Computing covariance for output dim 1/10\n",
      "INFO:root:Computing covariance for output dim 2/10\n",
      "INFO:root:Computing covariance for output dim 3/10\n",
      "INFO:root:Computing covariance for output dim 4/10\n",
      "INFO:root:Computing covariance for output dim 5/10\n",
      "INFO:root:Computing covariance for output dim 6/10\n",
      "INFO:root:Computing covariance for output dim 7/10\n",
      "INFO:root:Computing covariance for output dim 8/10\n",
      "INFO:root:Computing covariance for output dim 9/10\n",
      "INFO:root:Computing covariance for output dim 10/10\n",
      "INFO:sfr:Finished projecting dual params onto inducing points\n"
     ]
    }
   ],
   "source": [
    "model.fit(train_loader)"
   ]
  },
  {
   "cell_type": "markdown",
   "id": "2f508592",
   "metadata": {},
   "source": [
    "We can now evaluate SFR's NLPD/accuracy/ECE on the test data."
   ]
  },
  {
   "cell_type": "code",
   "execution_count": 29,
   "id": "ec33ac7b-9a43-4839-b01f-2f2bd823b766",
   "metadata": {},
   "outputs": [
    {
     "data": {
      "text/plain": [
       "{'loss': 0.7253816952238149,\n",
       " 'acc': 0.010101010101010102,\n",
       " 'nlpd': 2.5989983591907295,\n",
       " 'ece': 0.17827775309667906}"
      ]
     },
     "execution_count": 29,
     "metadata": {},
     "output_type": "execute_result"
    }
   ],
   "source": [
    "evaluate(model=model, data_loader=test_loader, sfr_pred=True)"
   ]
  },
  {
   "cell_type": "code",
   "execution_count": 30,
   "id": "dc371f26-0fb7-4034-889f-bfdbe449ec4e",
   "metadata": {},
   "outputs": [
    {
     "data": {
      "text/plain": [
       "{'loss': 0.11611091619709851,\n",
       " 'acc': 0.0,\n",
       " 'nlpd': 5.212074660606118,\n",
       " 'ece': 0.22458773437530027}"
      ]
     },
     "execution_count": 30,
     "metadata": {},
     "output_type": "execute_result"
    }
   ],
   "source": [
    "evaluate(model=model, data_loader=train_loader, sfr_pred=True)"
   ]
  },
  {
   "cell_type": "code",
   "execution_count": 21,
   "id": "1e1b3875-f5ac-4fa9-8e24-5f10f54c9a0c",
   "metadata": {},
   "outputs": [
    {
     "data": {
      "text/plain": [
       "[torch.float64,\n",
       " torch.float64,\n",
       " torch.float64,\n",
       " torch.float64,\n",
       " torch.float64,\n",
       " torch.float64,\n",
       " torch.float64,\n",
       " torch.float64,\n",
       " torch.float64,\n",
       " torch.float64,\n",
       " torch.float64,\n",
       " torch.float64]"
      ]
     },
     "execution_count": 21,
     "metadata": {},
     "output_type": "execute_result"
    }
   ],
   "source": [
    "[p.dtype for p in model.parameters()]"
   ]
  },
  {
   "cell_type": "code",
   "execution_count": 26,
   "id": "c59e1673-c3ff-402f-8cd9-ca796eb899f0",
   "metadata": {},
   "outputs": [
    {
     "data": {
      "text/plain": [
       "torch.float64"
      ]
     },
     "execution_count": 26,
     "metadata": {},
     "output_type": "execute_result"
    }
   ],
   "source": [
    "next(iter(train_loader))[0].dtype"
   ]
  },
  {
   "cell_type": "code",
   "execution_count": 28,
   "id": "d235ad5e-4ed7-45eb-a10e-edd407a91de1",
   "metadata": {},
   "outputs": [
    {
     "data": {
      "text/plain": [
       "torch.float64"
      ]
     },
     "execution_count": 28,
     "metadata": {},
     "output_type": "execute_result"
    }
   ],
   "source": [
    "next(iter(test_loader))[0].dtype"
   ]
  },
  {
   "cell_type": "code",
   "execution_count": 29,
   "id": "3cebbb61-419f-4253-ac94-36033498a915",
   "metadata": {},
   "outputs": [
    {
     "data": {
      "text/plain": [
       "torch.float64"
      ]
     },
     "execution_count": 29,
     "metadata": {},
     "output_type": "execute_result"
    }
   ],
   "source": [
    "model.Z.dtype"
   ]
  },
  {
   "cell_type": "code",
   "execution_count": 35,
   "id": "b87f3d57-896a-477b-abcd-e63d8dbd11ec",
   "metadata": {},
   "outputs": [
    {
     "data": {
      "text/plain": [
       "torch.float64"
      ]
     },
     "execution_count": 35,
     "metadata": {},
     "output_type": "execute_result"
    }
   ],
   "source": [
    "model.alpha_u.dtype"
   ]
  },
  {
   "cell_type": "code",
   "execution_count": 21,
   "id": "ef2d7f36-6c13-4016-8a66-c45b433152ca",
   "metadata": {},
   "outputs": [],
   "source": [
    "torch.set_default_dtype(torch.float64)"
   ]
  },
  {
   "cell_type": "code",
   "execution_count": 22,
   "id": "96b515c1-8518-4b43-9665-22976b7f8878",
   "metadata": {},
   "outputs": [
    {
     "name": "stderr",
     "output_type": "stream",
     "text": [
      "INFO:sfr:Calculating dual params...\n",
      "INFO:sfr:Finished calculating dual params\n",
      "INFO:sfr:Project dual params onto inducing points...\n",
      "INFO:root:Computing covariance for output dim 1/10\n",
      "INFO:root:Computing covariance for output dim 2/10\n",
      "INFO:root:Computing covariance for output dim 3/10\n",
      "INFO:root:Computing covariance for output dim 4/10\n",
      "INFO:root:Computing covariance for output dim 5/10\n",
      "INFO:root:Computing covariance for output dim 6/10\n",
      "INFO:root:Computing covariance for output dim 7/10\n",
      "INFO:root:Computing covariance for output dim 8/10\n",
      "INFO:root:Computing covariance for output dim 9/10\n",
      "INFO:root:Computing covariance for output dim 10/10\n",
      "INFO:sfr:Finished projecting dual params onto inducing points\n"
     ]
    }
   ],
   "source": [
    "model.fit(train_loader)"
   ]
  },
  {
   "cell_type": "code",
   "execution_count": 23,
   "id": "a03587c2-0eb4-43a5-ab95-88582bd9c3ed",
   "metadata": {},
   "outputs": [
    {
     "data": {
      "text/plain": [
       "{'loss': 0.7140542024261332,\n",
       " 'acc': 0.020202020202020204,\n",
       " 'nlpd': 2.7931527053624934,\n",
       " 'ece': 0.18030758227388266}"
      ]
     },
     "execution_count": 23,
     "metadata": {},
     "output_type": "execute_result"
    }
   ],
   "source": [
    "evaluate(model=model, data_loader=test_loader, sfr_pred=True)"
   ]
  },
  {
   "cell_type": "code",
   "execution_count": null,
   "id": "b20cd8c9-f92e-4f94-ae9c-c57b0445a257",
   "metadata": {},
   "outputs": [],
   "source": []
  }
 ],
 "metadata": {
  "kernelspec": {
   "display_name": "Python 3 (ipykernel)",
   "language": "python",
   "name": "python3"
  },
  "language_info": {
   "codemirror_mode": {
    "name": "ipython",
    "version": 3
   },
   "file_extension": ".py",
   "mimetype": "text/x-python",
   "name": "python",
   "nbconvert_exporter": "python",
   "pygments_lexer": "ipython3",
   "version": "3.11.7"
  }
 },
 "nbformat": 4,
 "nbformat_minor": 5
}
