{
 "cells": [
  {
   "cell_type": "code",
   "execution_count": 116,
   "id": "cce7f49f",
   "metadata": {},
   "outputs": [],
   "source": [
    "import torch\n",
    "import numpy as np\n",
    "import matplotlib.pyplot as plt\n",
    "from torch.nn.utils import parameters_to_vector\n",
    "from torch.optim import Adam\n",
    "from torch.distributions import MultivariateNormal, Normal\n",
    "from preds.models import MLPS\n",
    "\n",
    "from preds.likelihoods import CategoricalLh\n",
    "from preds.datasets import UCIClassificationDatasets\n",
    "from preds.laplace import Laplace"
   ]
  },
  {
   "cell_type": "markdown",
   "id": "5cf8dc32",
   "metadata": {},
   "source": [
    "Includes some playing around with the Immer et al. dataset and model classes and a script for running the UCI experiemnts (with hyperparameters as in the paper appendix)"
   ]
  },
  {
   "cell_type": "markdown",
   "id": "c7bc00ad",
   "metadata": {},
   "source": [
    "Testing the dataset and model classes"
   ]
  },
  {
   "cell_type": "code",
   "execution_count": null,
   "id": "fd036c14",
   "metadata": {},
   "outputs": [],
   "source": [
    "width = 50 # as in Immer et al. \n",
    "depth = 2 # as in Immer et al. \n",
    "prior_prec = np.logspace(-2, 2, num=10)[0] # as in Immer et al. but depends on dataset\n",
    "lr = 1e-3 # as in Immer et al. \n",
    "n_epochs = 10000\n",
    "n_samples = 1000\n",
    "train_size = 0.70 # as in Immer et al. \n",
    "lh = CateoricalLh()  \n",
    "uci_dataset = 'glass'\n",
    "root_dir = '../data/'\n",
    "device = 'cpu'"
   ]
  },
  {
   "cell_type": "markdown",
   "id": "5bbdd49f",
   "metadata": {},
   "source": [
    "Load training data"
   ]
  },
  {
   "cell_type": "code",
   "execution_count": null,
   "id": "c2b75edf",
   "metadata": {},
   "outputs": [],
   "source": [
    "ds_train = UCIClassificationDatasets(train=True, data_set=uci_dataset, split_train_size=train_size, double=False, root=root_dir)\n",
    "X_train, y_train = ds_train.data.to(device), ds_train.targets.to(device).unsqueeze(1)\n",
    "train_loader = [(X_train, y_train)]  "
   ]
  },
  {
   "cell_type": "markdown",
   "id": "d202d34d",
   "metadata": {},
   "source": [
    "Load validation data"
   ]
  },
  {
   "cell_type": "code",
   "execution_count": null,
   "id": "410628e9",
   "metadata": {},
   "outputs": [],
   "source": [
    "ds_val = UCIClassificationDatasets(train=False,valid=True, data_set=uci_dataset, split_train_size=train_size, double=False, root=root_dir)\n",
    "X_val, y_val = ds_val.data.to(device), ds_val.targets.to(device).unsqueeze(1)\n",
    "val_loader = [(X_val, y_val)] "
   ]
  },
  {
   "cell_type": "code",
   "execution_count": null,
   "id": "69f517c9",
   "metadata": {},
   "outputs": [],
   "source": [
    "X_train.shape"
   ]
  },
  {
   "cell_type": "code",
   "execution_count": null,
   "id": "0ae9719f",
   "metadata": {},
   "outputs": [],
   "source": [
    "model = MLPS(X_train.shape[1], [width]*depth, 1, activation='tanh', flatten=False).to(device)\n",
    "optim = Adam(model.parameters(), lr=lr)\n",
    "losses = list()\n",
    "for i in range(n_epochs):\n",
    "    f = model(X_train)\n",
    "    w = parameters_to_vector(model.parameters())\n",
    "    reg = 0.5 * prior_prec * w @ w\n",
    "    loss = - lh.log_likelihood(y_train, f) + reg\n",
    "    loss.backward()\n",
    "    optim.step()\n",
    "    losses.append(loss.item())\n",
    "    model.zero_grad()\n"
   ]
  },
  {
   "cell_type": "code",
   "execution_count": null,
   "id": "bc8bb255",
   "metadata": {},
   "outputs": [],
   "source": [
    "lap = Laplace(model, float(prior_prec), lh)\n",
    "\n",
    "\n",
    "def get_pred_for(x, model_type='glm', cov_type='full'):\n",
    "    #### INFERENCE (Posterior approximation) ####\n",
    "    lap.infer(train_loader, cov_type=cov_type, dampen_kron=model_type=='bnn')\n",
    "    if model_type == 'glm':\n",
    "        #### GLM PREDICTIVE ####\n",
    "        mu, var = lap.predictive_samples_glm(x, n_samples=n_samples)\n",
    "    elif model_type == 'bnn':\n",
    "        #### BNN PREDICTIVE ####\n",
    "        samples = lap.predictive_samples_bnn(x, n_samples=n_samples)\n",
    "        mu = samples.mean(axis=0)\n",
    "        var = samples.cov(axis=0)\n",
    "    else:\n",
    "        raise ValueError('unsupported model_type.')\n",
    "    mu = mu.detach().cpu().squeeze()\n",
    "    var = var.detach().cpu().squeeze()\n",
    "    return mu, var"
   ]
  },
  {
   "cell_type": "code",
   "execution_count": null,
   "id": "7435e9d6",
   "metadata": {},
   "outputs": [],
   "source": [
    "print(X_train.dtype)\n",
    "print(X_val.dtype)\n",
    "print(mu.dtype)"
   ]
  },
  {
   "cell_type": "code",
   "execution_count": null,
   "id": "17bae456",
   "metadata": {},
   "outputs": [],
   "source": [
    "# GLM\n",
    "\n",
    "mu_glm, var_glm = get_pred_for(X_val, 'glm', 'full')# runs\n",
    "# mu_glm_kron, var_glm_kron = get_pred_for(X_val, 'glm', 'kron') # doesn't run\n",
    "#mu, var = get_pred_for(X_val, 'glm', 'diag')# doesn't run\n",
    "\n",
    "# BNN\n",
    "mu_bnn, var_bnn = get_pred_for(X_val, 'bnn', 'full')"
   ]
  },
  {
   "cell_type": "code",
   "execution_count": null,
   "id": "e65f1a3b",
   "metadata": {},
   "outputs": [],
   "source": [
    "y_val.shape"
   ]
  },
  {
   "cell_type": "code",
   "execution_count": null,
   "id": "f9adcae8",
   "metadata": {},
   "outputs": [],
   "source": [
    "lh_glm = Normal(mu_glm, var_glm)\n",
    "print(-torch.mean(lh_glm.log_prob(y_val.squeeze(-1))))"
   ]
  },
  {
   "cell_type": "code",
   "execution_count": null,
   "id": "4935af6e",
   "metadata": {},
   "outputs": [],
   "source": [
    "lh_bnn = Normal(mu_bnn, var_bnn)\n",
    "print(-torch.mean(lh_bnn.log_prob(y_val.squeeze(-1))))"
   ]
  },
  {
   "cell_type": "markdown",
   "id": "601765b1",
   "metadata": {},
   "source": [
    "<h2>Run the classification pipeline for chosen dataset </h2>"
   ]
  },
  {
   "cell_type": "markdown",
   "id": "18fc6093",
   "metadata": {},
   "source": [
    "The classification.py script tests 10 options for the prior precision, with a fixed train/val/test split. The results reported in the paper are over 10 different train/val/test splits"
   ]
  },
  {
   "cell_type": "code",
   "execution_count": 8,
   "id": "4d088e55",
   "metadata": {},
   "outputs": [],
   "source": [
    "datasets = ['australian', 'breast_cancer', 'digits', 'glass',\n",
    "            'ionosphere', 'satellite', 'vehicle', 'waveform']\n",
    "seeds = [711, 1, 75, 359, 17, 420, 129, 666, 69, 36]\n",
    "dataset = 'breast_cancer'"
   ]
  },
  {
   "cell_type": "code",
   "execution_count": null,
   "id": "760da084",
   "metadata": {},
   "outputs": [
    {
     "name": "stdout",
     "output_type": "stream",
     "text": [
      "Writing results to ../experiments/results\n",
      "Reading data from ../data\n",
      "100%|██████████████████████████████████████████| 10/10 [42:12<00:00, 253.22s/it]\n",
      "Writing results to ../experiments/results\n",
      "Reading data from ../data\n",
      "100%|██████████████████████████████████████████| 10/10 [53:43<00:00, 322.32s/it]\n",
      "Writing results to ../experiments/results\n",
      "Reading data from ../data\n",
      "100%|██████████████████████████████████████████| 10/10 [44:43<00:00, 268.37s/it]\n",
      "Writing results to ../experiments/results\n",
      "Reading data from ../data\n",
      " 60%|█████████████████████████▊                 | 6/10 [24:45<16:41, 250.35s/it]"
     ]
    }
   ],
   "source": [
    "for seed in seeds:\n",
    "    if dataset in ['satellite', 'digits']:\n",
    "        logmin = -1.0\n",
    "    else:\n",
    "        logmin = -2.0\n",
    "    !python3 ../experiments/classification.py -d {dataset} --root_dir ../ --seed {seed} --n_layers 2 --activation tanh --name tanh_2 --logd_min {logmin}"
   ]
  },
  {
   "cell_type": "markdown",
   "id": "9320234e",
   "metadata": {},
   "source": [
    "The experiment in experiments/uci_classification_commands.py could otherwise be used, but it does not take into account the different hyperparameter settings required for satellite & digits datasets (different range for prior precision)"
   ]
  },
  {
   "cell_type": "markdown",
   "id": "ab25be1a",
   "metadata": {},
   "source": [
    "<h2> Manual reading of the result pickle</h2>\n",
    "Read the result pickle (for a single experiment with various prior precisions)"
   ]
  },
  {
   "cell_type": "markdown",
   "id": "6f5fd793",
   "metadata": {},
   "source": [
    "Find  which prior precision gives the best validation NLL for the dataset (based on average NLL performance)"
   ]
  },
  {
   "cell_type": "code",
   "execution_count": 150,
   "id": "bdd6af29",
   "metadata": {},
   "outputs": [],
   "source": [
    "def get_val_best(result_list, model_name='svgp_ntk'):\n",
    "    print(model_name)\n",
    "    valid_nlls = np.zeros((len(result_list), len(result_list[0]['deltas'])))\n",
    "    for i, results in enumerate(result_list):\n",
    "        for j, res in enumerate(results['results']):\n",
    "            if f'valid_nll_{model_name}' not in res:\n",
    "                continue\n",
    "            valid_nlls[i, j] = res[f'valid_nll_{model_name}']\n",
    "    mean_nlls = np.mean(valid_nlls, axis=0)\n",
    "    print(mean_nlls)\n",
    "    min_nll = mean_nlls.min()\n",
    "    min_index = list(mean_nlls).index(min_nll)\n",
    "    return min_index\n",
    "\n",
    "def get_result_list(dataset, name, seeds):   \n",
    "    result_list = []\n",
    "    for seed in seeds:\n",
    "        file_name = f'../experiments/results/uci/classification_{dataset}_{name}_{seed}.pkl'\n",
    "        if os.path.isfile(file_name):\n",
    "            with open(file_name, 'rb') as handle:\n",
    "                result_list.append(pickle.load(handle))\n",
    "        else:\n",
    "            print(f'WARNING: No results for seed {seed}, dataset {dataset}')\n",
    "    return result_list"
   ]
  },
  {
   "cell_type": "markdown",
   "id": "61b80928",
   "metadata": {},
   "source": [
    "Check the test set performance of the selected prior precision"
   ]
  },
  {
   "cell_type": "code",
   "execution_count": 151,
   "id": "e5bbaaef",
   "metadata": {},
   "outputs": [],
   "source": [
    "def get_test_mean_std(result_list, min_idx, name='svgp_ntk'):\n",
    "    test_nlls = np.zeros(len(result_list))\n",
    "    for i, results in enumerate(result_list):\n",
    "        test_nlls[i] = results['results'][min_idx]['test_nll_svgp_ntk']\n",
    "    mean = np.mean(test_nlls)\n",
    "    std = np.std(test_nlls)\n",
    "    return (mean, std)"
   ]
  },
  {
   "cell_type": "markdown",
   "id": "64c18873",
   "metadata": {},
   "source": [
    "<h2>Automatic table creation </h2>"
   ]
  },
  {
   "cell_type": "code",
   "execution_count": 152,
   "id": "02f4d57e",
   "metadata": {},
   "outputs": [],
   "source": [
    "method_map = {\n",
    "    'NN MAP':  [(0.31, 0.01), (0.11, 0.02), (0.35, 0.02), (0.95,0.03), (0.420, 0.007), (0.335, 0.004), (0.094, 0.003), (0.230, 0.002)],\n",
    "'MFVI': [(0.34, 0.01), (0.11, 0.01), (0.41, 0.01), (1.06,0.01), (0.504, 0.006), (0.393, 0.003), (0.219, 0.004), (0.307, 0.002)],\n",
    "'BNN' : [(0.42, 0.00), (0.19, 0.00), (0.50, 0.00), (1.41,0.00), (0.885, 0.002), (0.516, 0.002), (0.875, 0.002), (0.482, 0.001)],\n",
    "'GLM' : [(0.32, 0.02), (0.10, 0.01), (0.29, 0.01), (0.86,0.01), (0.428, 0.005), (0.339, 0.004), (0.250, 0.002), (0.241, 0.001)],\n",
    "'GLM diag' : [(0.33, 0.01), (0.11, 0.01), (0.35, 0.01), (0.99,0.01), (0.618, 0.003), (0.388, 0.003), (0.409, 0.002), (0.327, 0.002)],\n",
    "'GLM refine' :[(0.32, 0.02), (0.11, 0.01), (0.35, 0.05), (0.98,0.07), (0.402, 0.007), (0.335, 0.004), (0.150, 0.002), (0.227, 0.002)],\n",
    "'GLM refine d' : [(0.31, 0.01), (0.12, 0.02), (0.32, 0.03), (0.83,0.02), (0.432, 0.005), (0.364, 0.008), (0.149, 0.008), (0.248, 0.002)],\n",
    "'SVGP (quarter)': [(5, 2), (5, 2), (5, 2), (5,2), (5, 2), (5, 3), (5, 4), (5, 5)],\n",
    "'SVGP (half)' : [(5, 2), (5, 2), (5, 2), (5,2), (5, 2), (5, 3), (5, 4), (5, 5)],\n",
    "'GP' :[(5, 2), (5, 2), (5, 2), (5,2), (5, 2), (5, 3), (5, 4), (5, 5)]}\n"
   ]
  },
  {
   "cell_type": "code",
   "execution_count": 149,
   "id": "bb812408",
   "metadata": {},
   "outputs": [
    {
     "data": {
      "text/plain": [
       "True"
      ]
     },
     "execution_count": 149,
     "metadata": {},
     "output_type": "execute_result"
    }
   ],
   "source": [
    "'valid_nll_gp_subset' in result_list[5]['results'][4].keys()"
   ]
  },
  {
   "cell_type": "code",
   "execution_count": 156,
   "id": "13986204",
   "metadata": {},
   "outputs": [
    {
     "name": "stdout",
     "output_type": "stream",
     "text": [
      "australian\n",
      "svgp_ntk\n",
      "[0.65876358 0.62118763 0.54593326 0.54019755 0.63591161 0.69275176\n",
      " 0.46303439 6.34835987 6.67152965 5.82733336]\n",
      "breast_cancer\n",
      "svgp_ntk\n",
      "[0.48392282 0.39922382 0.40780709 0.31659941 0.23002149 2.29179587\n",
      " 0.67664028 1.30040114 1.91278829 1.87393645]\n",
      "ionosphere\n",
      "svgp_ntk\n",
      "[0.67124144 0.64243334 0.58900971 0.51355287 0.40973293 0.31693392\n",
      " 0.28766424 0.2895069  0.35925648 0.66841275]\n",
      "glass\n",
      "svgp_ntk\n",
      "[1.64033016 1.57109985 1.44724013 1.22860994 0.88352855 0.69037207\n",
      " 0.85929468 1.04235435 1.27561144 1.6819463 ]\n",
      "vehicle\n",
      "svgp_ntk\n",
      "[ 0.66754872  0.47620434  0.61176789  0.83957306  0.75302383  0.56964839\n",
      "  0.40446893  6.90761149 10.49756613 10.18869123]\n",
      "waveform\n",
      "svgp_ntk\n",
      "[0.57126785 0.3961208  0.50466964 0.67399822 0.62274284 0.52763216\n",
      " 0.4187129  6.9478652  8.72017789 9.76923909]\n",
      "digits\n",
      "svgp_ntk\n",
      "[0.07489052 0.07444488 0.07593681 0.07969887 0.0881529  0.10407865\n",
      " 0.13359963 0.19375205 0.32409639 0.55655148]\n",
      "satellite\n",
      "svgp_ntk\n",
      "[ 0.6706449   0.60664536  0.63364736  0.49663703  0.38065235  0.604923\n",
      "  1.29391219 13.48254118 13.12193785 12.90839424]\n",
      "australian\n",
      "gp_subset\n",
      "[0.65780888 0.62042292 0.54546119 0.53999466 0.62838454 0.68451661\n",
      " 0.44916455 5.80068927 4.82960324 4.00934964]\n",
      "breast_cancer\n",
      "gp_subset\n",
      "[0.24445479 0.17599163 0.22831784 0.17476552 0.15468661 2.11081852\n",
      " 1.03577989 1.26445667 1.53243389 1.55163835]\n",
      "ionosphere\n",
      "gp_subset\n",
      "[0. 0. 0. 0. 0. 0. 0. 0. 0. 0.]\n",
      "glass\n",
      "gp_subset\n",
      "[0. 0. 0. 0. 0. 0. 0. 0. 0. 0.]\n",
      "vehicle\n",
      "gp_subset\n",
      "[ 1.05244055  0.75019091  0.5049551   0.53587446  0.69761819  0.56683685\n",
      "  0.40350389  7.63169151 10.96837416 10.25291691]\n",
      "waveform\n",
      "gp_subset\n",
      "[ 0.86213979  0.63220918  0.41259689  0.44454915  0.57570993  0.52467287\n",
      "  0.41899864  7.59475505  8.6376946  10.02944603]\n",
      "digits\n",
      "gp_subset\n",
      "[0.09231257 0.07775525 0.07777721 0.0801255  0.08682734 0.10234414\n",
      " 0.13394607 0.19553443 0.32552874 0.5574556 ]\n",
      "satellite\n",
      "gp_subset\n",
      "[ 0.61983461  0.59521983  0.52928727  0.95354783  0.38899114  0.30660107\n",
      "  0.62816471 13.2093646  12.98127327 13.1975316 ]\n"
     ]
    }
   ],
   "source": [
    "exper_names = ['sparse_quarter']\n",
    "pretty_names = {'sparse_half_svgp_ntk': 'SVGP (half)',\n",
    "               'sparse_quarter_svgp_ntk': 'SVGP (quarter)',\n",
    "               'sparse_eigth_svgp_ntk': 'SVGP (eigth)',\n",
    "                'sparse_full_svgp_ntk': 'GP',\n",
    "               'sparse_half_gp_subset': 'GP (subset half)',\n",
    "               'sparse_quarter_gp_subset': 'GP (subset quarter)',}\n",
    "method_names = ['svgp_ntk', 'gp_subset']\n",
    "datasets = ['australian', 'breast_cancer', 'ionosphere','glass',\n",
    "            'vehicle','waveform', 'digits', 'satellite']\n",
    "data_names = ['australian', 'cancer', 'ionosphere', 'glass', 'vehicle', 'waveform', 'digits', 'satellite']\n",
    "seeds = [711, 1, 75, 359, 17, 420, 129, 666, 69, 36]\n",
    "for exp_name in exper_names:\n",
    "    for method_name in method_names:\n",
    "        table_list = []\n",
    "        for dataset in datasets:\n",
    "            print(dataset)\n",
    "            result_list = get_result_list(dataset, exp_name, seeds)\n",
    "            min_idx = get_val_best(result_list, method_name)\n",
    "            (mean, std) = get_test_mean_std(result_list, min_idx, method_name)\n",
    "            table_list.append((round(mean, 3), round(std, 3)))\n",
    "    method_map[pretty_names[exp_name+'_'+method_name]] = table_list\n",
    "        "
   ]
  },
  {
   "cell_type": "code",
   "execution_count": 134,
   "id": "3c940b4a",
   "metadata": {},
   "outputs": [
    {
     "data": {
      "text/plain": [
       "{'NN MAP': [(0.31, 0.01),\n",
       "  (0.11, 0.02),\n",
       "  (0.35, 0.02),\n",
       "  (0.95, 0.03),\n",
       "  (0.42, 0.007),\n",
       "  (0.335, 0.004),\n",
       "  (0.094, 0.003),\n",
       "  (0.23, 0.002)],\n",
       " 'MFVI': [(0.34, 0.01),\n",
       "  (0.11, 0.01),\n",
       "  (0.41, 0.01),\n",
       "  (1.06, 0.01),\n",
       "  (0.504, 0.006),\n",
       "  (0.393, 0.003),\n",
       "  (0.219, 0.004),\n",
       "  (0.307, 0.002)],\n",
       " 'BNN': [(0.42, 0.0),\n",
       "  (0.19, 0.0),\n",
       "  (0.5, 0.0),\n",
       "  (1.41, 0.0),\n",
       "  (0.885, 0.002),\n",
       "  (0.516, 0.002),\n",
       "  (0.875, 0.002),\n",
       "  (0.482, 0.001)],\n",
       " 'GLM': [(0.32, 0.02),\n",
       "  (0.1, 0.01),\n",
       "  (0.29, 0.01),\n",
       "  (0.86, 0.01),\n",
       "  (0.428, 0.005),\n",
       "  (0.339, 0.004),\n",
       "  (0.25, 0.002),\n",
       "  (0.241, 0.001)],\n",
       " 'GLM diag': [(0.33, 0.01),\n",
       "  (0.11, 0.01),\n",
       "  (0.35, 0.01),\n",
       "  (0.99, 0.01),\n",
       "  (0.618, 0.003),\n",
       "  (0.388, 0.003),\n",
       "  (0.409, 0.002),\n",
       "  (0.327, 0.002)],\n",
       " 'GLM refine': [(0.32, 0.02),\n",
       "  (0.11, 0.01),\n",
       "  (0.35, 0.05),\n",
       "  (0.98, 0.07),\n",
       "  (0.402, 0.007),\n",
       "  (0.335, 0.004),\n",
       "  (0.15, 0.002),\n",
       "  (0.227, 0.002)],\n",
       " 'GLM refine d': [(0.31, 0.01),\n",
       "  (0.12, 0.02),\n",
       "  (0.32, 0.03),\n",
       "  (0.83, 0.02),\n",
       "  (0.432, 0.005),\n",
       "  (0.364, 0.008),\n",
       "  (0.149, 0.008),\n",
       "  (0.248, 0.002)],\n",
       " 'SVGP (quarter)': [(0.569, 0.074),\n",
       "  (0.309, 0.096),\n",
       "  (0.334, 0.127),\n",
       "  (0.834, 0.144),\n",
       "  (0.426, 0.06),\n",
       "  (0.454, 0.05),\n",
       "  (0.09, 0.026),\n",
       "  (0.373, 0.037)],\n",
       " 'SVGP (half)': [(5, 2),\n",
       "  (5, 2),\n",
       "  (5, 2),\n",
       "  (5, 2),\n",
       "  (5, 2),\n",
       "  (5, 3),\n",
       "  (5, 4),\n",
       "  (5, 5)],\n",
       " 'GP': [(0.311, 0.032),\n",
       "  (0.095, 0.047),\n",
       "  (0.307, 0.077),\n",
       "  (0.897, 0.216),\n",
       "  (0.433, 0.051),\n",
       "  (0.335, 0.032),\n",
       "  (0.091, 0.021),\n",
       "  (0.257, 0.025)],\n",
       " 'SVGP (eigth)': [(0.396, 0.071),\n",
       "  (0.186, 0.088),\n",
       "  (0.317, 0.104),\n",
       "  (0.887, 0.102),\n",
       "  (0.426, 0.06),\n",
       "  (0.336, 0.033),\n",
       "  (0.09, 0.026),\n",
       "  (0.232, 0.017)]}"
      ]
     },
     "execution_count": 134,
     "metadata": {},
     "output_type": "execute_result"
    }
   ],
   "source": [
    "method_map"
   ]
  },
  {
   "cell_type": "code",
   "execution_count": 110,
   "id": "502e7fc7",
   "metadata": {},
   "outputs": [
    {
     "name": "stdout",
     "output_type": "stream",
     "text": [
      "['\\\\begin{tabular}{l C{0.6\\\\tblw} C{0.6\\\\tblw} C{0.6\\\\tblw} C{0.6\\\\tblw} C{0.6\\\\tblw} C{0.6\\\\tblw} C{0.6\\\\tblw} C{0.6\\\\tblw} C{0.6\\\\tblw} C{0.6\\\\tblw}}', '\\\\toprule', '& NN MAP & MFVI & BNN & GLM & GLM diag & GLM refine & GLM refine d & SVGP (quarter) & SVGP (half) & GP  \\\\\\\\', '\\\\midrule', '\\\\sc australian & \\\\val{0.31}{0.01} & \\\\val{0.34}{0.01} & \\\\val{0.42}{0.0} & \\\\val{0.32}{0.02} & \\\\val{0.33}{0.01} & \\\\val{0.32}{0.02} & \\\\val{0.31}{0.01} & \\\\val{0.339}{0.088} & \\\\val{0.341}{0.093} & \\\\val{5}{2} \\\\\\\\', '\\\\sc cancer & \\\\val{0.11}{0.02} & \\\\val{0.11}{0.01} & \\\\val{0.19}{0.0} & \\\\val{0.1}{0.01} & \\\\val{0.11}{0.01} & \\\\val{0.11}{0.01} & \\\\val{0.12}{0.02} & \\\\val{0.095}{0.047} & \\\\val{0.095}{0.047} & \\\\val{5}{2} \\\\\\\\', '\\\\sc ionosphere & \\\\val{0.35}{0.02} & \\\\val{0.41}{0.01} & \\\\val{0.5}{0.0} & \\\\val{0.29}{0.01} & \\\\val{0.35}{0.01} & \\\\val{0.35}{0.05} & \\\\val{0.32}{0.03} & \\\\val{0.334}{0.127} & \\\\val{0.307}{0.077} & \\\\val{5}{2} \\\\\\\\', '\\\\sc glass & \\\\val{0.95}{0.03} & \\\\val{1.06}{0.01} & \\\\val{1.41}{0.0} & \\\\val{0.86}{0.01} & \\\\val{0.99}{0.01} & \\\\val{0.98}{0.07} & \\\\val{0.83}{0.02} & \\\\val{0.834}{0.144} & \\\\val{0.862}{0.194} & \\\\val{5}{2} \\\\\\\\', '\\\\sc vehicle & \\\\val{0.42}{0.007} & \\\\val{0.504}{0.006} & \\\\val{0.885}{0.002} & \\\\val{0.428}{0.005} & \\\\val{0.618}{0.003} & \\\\val{0.402}{0.007} & \\\\val{0.432}{0.005} & \\\\val{0.427}{0.05} & \\\\val{0.432}{0.051} & \\\\val{5}{2} \\\\\\\\', '\\\\sc waveform & \\\\val{0.335}{0.004} & \\\\val{0.393}{0.003} & \\\\val{0.516}{0.002} & \\\\val{0.339}{0.004} & \\\\val{0.388}{0.003} & \\\\val{0.335}{0.004} & \\\\val{0.364}{0.008} & \\\\val{0.335}{0.032} & \\\\val{0.335}{0.032} & \\\\val{5}{3} \\\\\\\\', '\\\\sc digits & \\\\val{0.094}{0.003} & \\\\val{0.219}{0.004} & \\\\val{0.875}{0.002} & \\\\val{0.25}{0.002} & \\\\val{0.409}{0.002} & \\\\val{0.15}{0.002} & \\\\val{0.149}{0.008} & \\\\val{0.099}{0.02} & \\\\val{0.096}{0.02} & \\\\val{5}{4} \\\\\\\\', '\\\\sc satellite & \\\\val{0.23}{0.002} & \\\\val{0.307}{0.002} & \\\\val{0.482}{0.001} & \\\\val{0.241}{0.001} & \\\\val{0.327}{0.002} & \\\\val{0.227}{0.002} & \\\\val{0.248}{0.002} & \\\\val{0.258}{0.027} & \\\\val{0.257}{0.026} & \\\\val{5}{5} \\\\\\\\', '\\\\bottomrule', '\\\\end{tabular}']\n"
     ]
    }
   ],
   "source": [
    "import os\n",
    "\n",
    "\n",
    "lines = []\n",
    "lines.append(r'\\begin{tabular}{l C{0.6\\tblw} C{0.6\\tblw} C{0.6\\tblw} C{0.6\\tblw} C{0.6\\tblw} C{0.6\\tblw} C{0.6\\tblw} C{0.6\\tblw} C{0.6\\tblw} C{0.6\\tblw}}')\n",
    "lines.append(r'\\toprule')\n",
    "header_str = ''\n",
    "for method_name in method_map:\n",
    "    header_str += f'& {method_name} '\n",
    "header_str += r' \\\\'\n",
    "lines.append(header_str)\n",
    "lines.append(r'\\midrule')\n",
    "for i, data_name in enumerate(data_names):\n",
    "    line_str = f'\\sc {data_name} &'\n",
    "    for method_name in method_map:\n",
    "        (mean, var) = method_map[method_name][i]\n",
    "        mean_var = f'{mean} {var}'\n",
    "        line_str += r' \\val{'\n",
    "        line_str += str(mean)\n",
    "        line_str += '}{'\n",
    "        line_str += str(var)\n",
    "        line_str += '} &'\n",
    "    line_str = line_str[:-2]\n",
    "    line_str += r' \\\\'\n",
    "    lines.append(line_str)\n",
    "lines.append(r'\\bottomrule')\n",
    "lines.append(r'\\end{tabular}')\n",
    "tex_file = 'uci.tex'\n",
    "os.remove(tex_file)\n",
    "with open(tex_file, 'a') as file:\n",
    "    for line in lines:\n",
    "        file.write(line+'\\n')\n",
    "    \n",
    "print(lines)"
   ]
  },
  {
   "cell_type": "code",
   "execution_count": null,
   "id": "9f73bd10",
   "metadata": {},
   "outputs": [],
   "source": [
    "results = result_list[0]\n",
    "n_test = results['N_test']\n",
    "n_train = results['N_train']\n",
    "deltas = results['deltas']\n",
    "print(f'Results keys: {results.keys()}')\n",
    "print(results['K'])\n",
    "print(f'Train set size: {n_train}')\n",
    "print(f'Test set size: {n_test}')\n",
    "for i, res in enumerate(results['results']):\n",
    "    print(f'Prior precision: {deltas[i]}')\n",
    "    print(f'Validation set NLL Map: {res[\"valid_nll_map\"]}')\n",
    "    print(f'Validation set NLL GLM: {res[\"valid_nll_glm\"]}')\n",
    "    print(f'Validation set NLL BNN: {res[\"valid_nll_nn\"]}')\n",
    "    \n",
    "    for key in res:\n",
    "        if 'valid_nll' in key:\n",
    "            print(key)"
   ]
  },
  {
   "cell_type": "markdown",
   "id": "f2cab4f7",
   "metadata": {},
   "source": [
    "<h2>Run Image experiments </h2>"
   ]
  },
  {
   "cell_type": "code",
   "execution_count": 92,
   "id": "c46c905a",
   "metadata": {},
   "outputs": [],
   "source": [
    "ds = 'MNIST'\n",
    "model = 'MLP'\n",
    "seed = 117"
   ]
  },
  {
   "cell_type": "code",
   "execution_count": 96,
   "id": "a10bcad6",
   "metadata": {},
   "outputs": [
    {
     "name": "stdout",
     "output_type": "stream",
     "text": [
      "Writing results to ../experiments/results/MNIST\n",
      "Reading data from ../data\n",
      "Dataset: MNIST\n",
      "Seed: 117\n",
      "Downloading http://yann.lecun.com/exdb/mnist/train-images-idx3-ubyte.gz to ../data/MNIST/raw/train-images-idx3-ubyte.gz\n",
      "9920512it [00:00, 12327924.77it/s]                                              \n",
      "Extracting ../data/MNIST/raw/train-images-idx3-ubyte.gz to ../data/MNIST/raw\n",
      "Downloading http://yann.lecun.com/exdb/mnist/train-labels-idx1-ubyte.gz to ../data/MNIST/raw/train-labels-idx1-ubyte.gz\n",
      "32768it [00:00, 298645.29it/s]\n",
      "Extracting ../data/MNIST/raw/train-labels-idx1-ubyte.gz to ../data/MNIST/raw\n",
      "Downloading http://yann.lecun.com/exdb/mnist/t10k-images-idx3-ubyte.gz to ../data/MNIST/raw/t10k-images-idx3-ubyte.gz\n",
      "1654784it [00:00, 6915425.85it/s]                                               \n",
      "Extracting ../data/MNIST/raw/t10k-images-idx3-ubyte.gz to ../data/MNIST/raw\n",
      "Downloading http://yann.lecun.com/exdb/mnist/t10k-labels-idx1-ubyte.gz to ../data/MNIST/raw/t10k-labels-idx1-ubyte.gz\n",
      "8192it [00:00, 29604.16it/s]                                                    \n",
      "Extracting ../data/MNIST/raw/t10k-labels-idx1-ubyte.gz to ../data/MNIST/raw\n",
      "Processing...\n",
      "/Users/tamire1/miniconda3/envs/bnn-env-3/lib/python3.7/site-packages/torchvision/datasets/mnist.py:469: UserWarning: The given NumPy array is not writeable, and PyTorch does not support non-writeable tensors. This means you can write to the underlying (supposedly non-writeable) NumPy array using the tensor. You may want to copy the array to protect its data or make it writeable before converting it to a tensor. This type of warning will be suppressed for the rest of this program. (Triggered internally at  /Users/distiller/project/conda/conda-bld/pytorch_1595629430416/work/torch/csrc/utils/tensor_numpy.cpp:141.)\n",
      "  return torch.from_numpy(parsed.astype(m[2], copy=False)).view(*s)\n",
      "Done!\n",
      "  3%|█▏                                        | 14/500 [01:12<42:17,  5.22s/it]^C\n",
      "  3%|█▏                                        | 14/500 [01:13<42:32,  5.25s/it]\n",
      "Traceback (most recent call last):\n",
      "  File \"../experiments/imgclassification.py\", line 164, in <module>\n",
      "    main(ds_train, ds_test, model_name, seed, n_epochs, batch_size, lr, deltas, device, fname, res_dir)\n",
      "  File \"../experiments/imgclassification.py\", line 98, in main\n",
      "    loss.backward()\n",
      "  File \"/Users/tamire1/miniconda3/envs/bnn-env-3/lib/python3.7/site-packages/torch/tensor.py\", line 185, in backward\n",
      "    torch.autograd.backward(self, gradient, retain_graph, create_graph)\n",
      "  File \"/Users/tamire1/miniconda3/envs/bnn-env-3/lib/python3.7/site-packages/torch/autograd/__init__.py\", line 127, in backward\n",
      "    allow_unreachable=True)  # allow_unreachable flag\n",
      "KeyboardInterrupt\n"
     ]
    }
   ],
   "source": [
    "!python3 ../experiments/imgclassification.py -d {ds} -m {model} -s {seed}"
   ]
  }
 ],
 "metadata": {
  "kernelspec": {
   "display_name": "Python 3 (ipykernel)",
   "language": "python",
   "name": "python3"
  },
  "language_info": {
   "codemirror_mode": {
    "name": "ipython",
    "version": 3
   },
   "file_extension": ".py",
   "mimetype": "text/x-python",
   "name": "python",
   "nbconvert_exporter": "python",
   "pygments_lexer": "ipython3",
   "version": "3.11.3"
  }
 },
 "nbformat": 4,
 "nbformat_minor": 5
}
