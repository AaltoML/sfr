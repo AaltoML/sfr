{
 "cells": [
  {
   "cell_type": "code",
   "execution_count": 6,
   "id": "cce7f49f",
   "metadata": {},
   "outputs": [],
   "source": [
    "import torch\n",
    "import numpy as np\n",
    "import matplotlib.pyplot as plt\n",
    "from torch.nn.utils import parameters_to_vector\n",
    "from torch.optim import Adam\n",
    "from torch.distributions import MultivariateNormal, Normal\n",
    "from preds.models import MLPS\n",
    "\n",
    "from preds.likelihoods import CategoricalLh\n",
    "from preds.datasets import UCIClassificationDatasets\n",
    "from preds.laplace import Laplace"
   ]
  },
  {
   "cell_type": "markdown",
   "id": "5cf8dc32",
   "metadata": {},
   "source": [
    "Includes some playing around with the Immer et al. dataset and model classes and a script for running the UCI experiemnts (with hyperparameters as in the paper appendix)"
   ]
  },
  {
   "cell_type": "markdown",
   "id": "c7bc00ad",
   "metadata": {},
   "source": [
    "Testing the dataset and model classes"
   ]
  },
  {
   "cell_type": "code",
   "execution_count": null,
   "id": "fd036c14",
   "metadata": {},
   "outputs": [],
   "source": [
    "width = 50 # as in Immer et al. \n",
    "depth = 2 # as in Immer et al. \n",
    "prior_prec = np.logspace(-2, 2, num=10)[0] # as in Immer et al. but depends on dataset\n",
    "lr = 1e-3 # as in Immer et al. \n",
    "n_epochs = 10000\n",
    "n_samples = 1000\n",
    "train_size = 0.70 # as in Immer et al. \n",
    "lh = CateoricalLh()  \n",
    "uci_dataset = 'glass'\n",
    "root_dir = '../data/'\n",
    "device = 'cpu'"
   ]
  },
  {
   "cell_type": "markdown",
   "id": "5bbdd49f",
   "metadata": {},
   "source": [
    "Load training data"
   ]
  },
  {
   "cell_type": "code",
   "execution_count": null,
   "id": "c2b75edf",
   "metadata": {},
   "outputs": [],
   "source": [
    "ds_train = UCIClassificationDatasets(train=True, data_set=uci_dataset, split_train_size=train_size, double=False, root=root_dir)\n",
    "X_train, y_train = ds_train.data.to(device), ds_train.targets.to(device).unsqueeze(1)\n",
    "train_loader = [(X_train, y_train)]  "
   ]
  },
  {
   "cell_type": "markdown",
   "id": "d202d34d",
   "metadata": {},
   "source": [
    "Load validation data"
   ]
  },
  {
   "cell_type": "code",
   "execution_count": null,
   "id": "410628e9",
   "metadata": {},
   "outputs": [],
   "source": [
    "ds_val = UCIClassificationDatasets(train=False,valid=True, data_set=uci_dataset, split_train_size=train_size, double=False, root=root_dir)\n",
    "X_val, y_val = ds_val.data.to(device), ds_val.targets.to(device).unsqueeze(1)\n",
    "val_loader = [(X_val, y_val)] "
   ]
  },
  {
   "cell_type": "code",
   "execution_count": null,
   "id": "69f517c9",
   "metadata": {},
   "outputs": [],
   "source": [
    "X_train.shape"
   ]
  },
  {
   "cell_type": "code",
   "execution_count": null,
   "id": "0ae9719f",
   "metadata": {},
   "outputs": [],
   "source": [
    "model = MLPS(X_train.shape[1], [width]*depth, 1, activation='tanh', flatten=False).to(device)\n",
    "optim = Adam(model.parameters(), lr=lr)\n",
    "losses = list()\n",
    "for i in range(n_epochs):\n",
    "    f = model(X_train)\n",
    "    w = parameters_to_vector(model.parameters())\n",
    "    reg = 0.5 * prior_prec * w @ w\n",
    "    loss = - lh.log_likelihood(y_train, f) + reg\n",
    "    loss.backward()\n",
    "    optim.step()\n",
    "    losses.append(loss.item())\n",
    "    model.zero_grad()\n"
   ]
  },
  {
   "cell_type": "code",
   "execution_count": null,
   "id": "bc8bb255",
   "metadata": {},
   "outputs": [],
   "source": [
    "lap = Laplace(model, float(prior_prec), lh)\n",
    "\n",
    "\n",
    "def get_pred_for(x, model_type='glm', cov_type='full'):\n",
    "    #### INFERENCE (Posterior approximation) ####\n",
    "    lap.infer(train_loader, cov_type=cov_type, dampen_kron=model_type=='bnn')\n",
    "    if model_type == 'glm':\n",
    "        #### GLM PREDICTIVE ####\n",
    "        mu, var = lap.predictive_samples_glm(x, n_samples=n_samples)\n",
    "    elif model_type == 'bnn':\n",
    "        #### BNN PREDICTIVE ####\n",
    "        samples = lap.predictive_samples_bnn(x, n_samples=n_samples)\n",
    "        mu = samples.mean(axis=0)\n",
    "        var = samples.cov(axis=0)\n",
    "    else:\n",
    "        raise ValueError('unsupported model_type.')\n",
    "    mu = mu.detach().cpu().squeeze()\n",
    "    var = var.detach().cpu().squeeze()\n",
    "    return mu, var"
   ]
  },
  {
   "cell_type": "code",
   "execution_count": null,
   "id": "7435e9d6",
   "metadata": {},
   "outputs": [],
   "source": [
    "print(X_train.dtype)\n",
    "print(X_val.dtype)\n",
    "print(mu.dtype)"
   ]
  },
  {
   "cell_type": "code",
   "execution_count": null,
   "id": "17bae456",
   "metadata": {},
   "outputs": [],
   "source": [
    "# GLM\n",
    "\n",
    "mu_glm, var_glm = get_pred_for(X_val, 'glm', 'full')# runs\n",
    "# mu_glm_kron, var_glm_kron = get_pred_for(X_val, 'glm', 'kron') # doesn't run\n",
    "#mu, var = get_pred_for(X_val, 'glm', 'diag')# doesn't run\n",
    "\n",
    "# BNN\n",
    "mu_bnn, var_bnn = get_pred_for(X_val, 'bnn', 'full')"
   ]
  },
  {
   "cell_type": "code",
   "execution_count": null,
   "id": "e65f1a3b",
   "metadata": {},
   "outputs": [],
   "source": [
    "y_val.shape"
   ]
  },
  {
   "cell_type": "code",
   "execution_count": null,
   "id": "f9adcae8",
   "metadata": {},
   "outputs": [],
   "source": [
    "lh_glm = Normal(mu_glm, var_glm)\n",
    "print(-torch.mean(lh_glm.log_prob(y_val.squeeze(-1))))"
   ]
  },
  {
   "cell_type": "code",
   "execution_count": null,
   "id": "4935af6e",
   "metadata": {},
   "outputs": [],
   "source": [
    "lh_bnn = Normal(mu_bnn, var_bnn)\n",
    "print(-torch.mean(lh_bnn.log_prob(y_val.squeeze(-1))))"
   ]
  },
  {
   "cell_type": "markdown",
   "id": "601765b1",
   "metadata": {},
   "source": [
    "<h2>Run the classification pipeline for chosen dataset </h2>"
   ]
  },
  {
   "cell_type": "markdown",
   "id": "18fc6093",
   "metadata": {},
   "source": [
    "The classification.py script tests 10 options for the prior precision, with a fixed train/val/test split. The results reported in the paper are over 10 different train/val/test splits"
   ]
  },
  {
   "cell_type": "code",
   "execution_count": 8,
   "id": "4d088e55",
   "metadata": {},
   "outputs": [],
   "source": [
    "datasets = ['australian', 'breast_cancer', 'digits', 'glass',\n",
    "            'ionosphere', 'satellite', 'vehicle', 'waveform']\n",
    "seeds = [711, 1, 75, 359, 17, 420, 129, 666, 69, 36]\n",
    "dataset = 'breast_cancer'"
   ]
  },
  {
   "cell_type": "code",
   "execution_count": null,
   "id": "760da084",
   "metadata": {},
   "outputs": [
    {
     "name": "stdout",
     "output_type": "stream",
     "text": [
      "Writing results to ../experiments/results\n",
      "Reading data from ../data\n",
      "100%|██████████████████████████████████████████| 10/10 [42:12<00:00, 253.22s/it]\n",
      "Writing results to ../experiments/results\n",
      "Reading data from ../data\n",
      "100%|██████████████████████████████████████████| 10/10 [53:43<00:00, 322.32s/it]\n",
      "Writing results to ../experiments/results\n",
      "Reading data from ../data\n",
      "100%|██████████████████████████████████████████| 10/10 [44:43<00:00, 268.37s/it]\n",
      "Writing results to ../experiments/results\n",
      "Reading data from ../data\n",
      " 60%|█████████████████████████▊                 | 6/10 [24:45<16:41, 250.35s/it]"
     ]
    }
   ],
   "source": [
    "for seed in seeds:\n",
    "    if dataset in ['satellite', 'digits']:\n",
    "        logmin = -1.0\n",
    "    else:\n",
    "        logmin = -2.0\n",
    "    !python3 ../experiments/classification.py -d {dataset} --root_dir ../ --seed {seed} --n_layers 2 --activation tanh --name tanh_2 --logd_min {logmin}"
   ]
  },
  {
   "cell_type": "markdown",
   "id": "9320234e",
   "metadata": {},
   "source": [
    "The experiment in experiments/uci_classification_commands.py could otherwise be used, but it does not take into account the different hyperparameter settings required for satellite & digits datasets (different range for prior precision)"
   ]
  },
  {
   "cell_type": "markdown",
   "id": "ab25be1a",
   "metadata": {},
   "source": [
    "<h2> Manual reading of the result pickle</h2>\n",
    "Read the result pickle (for a single experiment with various prior precisions)"
   ]
  },
  {
   "cell_type": "markdown",
   "id": "6f5fd793",
   "metadata": {},
   "source": [
    "Find  which prior precision gives the best validation NLL for the dataset (based on average NLL performance)"
   ]
  },
  {
   "cell_type": "code",
   "execution_count": 7,
   "id": "bdd6af29",
   "metadata": {},
   "outputs": [],
   "source": [
    "def get_val_best(result_list, model_name='svgp_ntk'):\n",
    "    valid_nlls = np.zeros((len(result_list), len(result_list[0]['deltas'])))\n",
    "    for i, results in enumerate(result_list):\n",
    "        for j, res in enumerate(results['results']):\n",
    "            if f'valid_nll_{model_name}' not in res:\n",
    "                continue\n",
    "            valid_nlls[i, j] = res[f'valid_nll_{model_name}']\n",
    "    mean_nlls = np.mean(valid_nlls, axis=0)\n",
    "    min_nll = mean_nlls.min()\n",
    "    min_index = list(mean_nlls).index(min_nll)\n",
    "    return min_index\n",
    "\n",
    "def get_result_list(dataset,folder_name,  name, seeds):   \n",
    "    result_list = []\n",
    "    for seed in seeds:\n",
    "        file_name = f'../experiments/results/uci/{folder_name}/classification_{dataset}_{name}_{seed}.pkl'\n",
    "        if os.path.isfile(file_name):\n",
    "            with open(file_name, 'rb') as handle:\n",
    "                result_list.append(pickle.load(handle))\n",
    "        else:\n",
    "            print(f'WARNING: No results for seed {seed}, dataset {dataset}')\n",
    "    return result_list"
   ]
  },
  {
   "cell_type": "markdown",
   "id": "61b80928",
   "metadata": {},
   "source": [
    "Check the test set performance of the selected prior precision"
   ]
  },
  {
   "cell_type": "code",
   "execution_count": 8,
   "id": "e5bbaaef",
   "metadata": {},
   "outputs": [],
   "source": [
    "def get_test_mean_std(result_list, min_idx, name='svgp_ntk'):\n",
    "    test_nlls = np.zeros(len(result_list))\n",
    "    for i, results in enumerate(result_list):\n",
    "        test_nlls[i] = results['results'][min_idx][f'test_nll_{name}']\n",
    "    mean = np.mean(test_nlls)\n",
    "    std = np.std(test_nlls)\n",
    "    return (mean, std)"
   ]
  },
  {
   "cell_type": "markdown",
   "id": "e13b87f3",
   "metadata": {},
   "source": [
    "<h2>Automatic table creation </h2>"
   ]
  },
  {
   "cell_type": "code",
   "execution_count": 9,
   "id": "624634ce",
   "metadata": {},
   "outputs": [],
   "source": [
    "method_map = {\n",
    "    'NN MAP':  [(0.31, 0.01), (0.11, 0.02), (0.35, 0.02), (0.95,0.03), (0.420, 0.007), (0.335, 0.004), (0.094, 0.003), (0.230, 0.002)],\n",
    "'MFVI': [(0.34, 0.01), (0.11, 0.01), (0.41, 0.01), (1.06,0.01), (0.504, 0.006), (0.393, 0.003), (0.219, 0.004), (0.307, 0.002)],\n",
    "'BNN' : [(0.42, 0.00), (0.19, 0.00), (0.50, 0.00), (1.41,0.00), (0.885, 0.002), (0.516, 0.002), (0.875, 0.002), (0.482, 0.001)],\n",
    "'GLM' : [(0.32, 0.02), (0.10, 0.01), (0.29, 0.01), (0.86,0.01), (0.428, 0.005), (0.339, 0.004), (0.250, 0.002), (0.241, 0.001)],\n",
    "#'GLM diag' : [(0.33, 0.01), (0.11, 0.01), (0.35, 0.01), (0.99,0.01), (0.618, 0.003), (0.388, 0.003), (0.409, 0.002), (0.327, 0.002)],\n",
    "#'GLM refine' :[(0.32, 0.02), (0.11, 0.01), (0.35, 0.05), (0.98,0.07), (0.402, 0.007), (0.335, 0.004), (0.150, 0.002), (0.227, 0.002)],\n",
    "#'GLM refine d' : [(0.31, 0.01), (0.12, 0.02), (0.32, 0.03), (0.83,0.02), (0.432, 0.005), (0.364, 0.008), (0.149, 0.008), (0.248, 0.002)],\n",
    "}\n"
   ]
  },
  {
   "cell_type": "code",
   "execution_count": 161,
   "id": "22123466",
   "metadata": {},
   "outputs": [
    {
     "data": {
      "text/plain": [
       "True"
      ]
     },
     "execution_count": 161,
     "metadata": {},
     "output_type": "execute_result"
    }
   ],
   "source": [
    "'valid_nll_svgp_ntk' in result_list[5]['results'][4].keys()"
   ]
  },
  {
   "cell_type": "code",
   "execution_count": 24,
   "id": "4ecc81ac",
   "metadata": {},
   "outputs": [
    {
     "name": "stdout",
     "output_type": "stream",
     "text": [
      "Gathering results for 16\n",
      "Gathering results for 32\n",
      "Gathering results for 64\n",
      "Gathering results for 128\n",
      "Gathering results for 256\n",
      "Gathering results for all\n"
     ]
    }
   ],
   "source": [
    "import os\n",
    "import pickle\n",
    "inducing_points = [16, 32, 64, 128,256,  'all'] #, 32, 64, 128, 256, 'all']# [16, 32, 64, 128, 'all']\n",
    "folder_name = '16'\n",
    "pretty_names = {'sparse_16_svgp_ntk': 'SVGP (16)',\n",
    "                'sparse_32_svgp_ntk': 'SVGP (32)',\n",
    "                'sparse_64_svgp_ntk': 'SVGP (64)',\n",
    "                'sparse_128_svgp_ntk': 'SVGP (128)',\n",
    "                'sparse_256_svgp_ntk': 'SVGP (256)',\n",
    "                'sparse_all_svgp_ntk': 'GP all',\n",
    "                'sparse_16_svgp_ntk_nn': 'SVGP NN (16)',\n",
    "                'sparse_32_svgp_ntk_nn': 'SVGP NN (32)',\n",
    "                'sparse_64_svgp_ntk_nn': 'SVGP NN (64)',\n",
    "                'sparse_128_svgp_ntk_nn': 'SVGP NN (128)',\n",
    "                'sparse_256_svgp_ntk_nn': 'SVGP NN (256)',\n",
    "               'sparse_16_gp_subset': 'GP subset(16)',\n",
    "               'sparse_32_gp_subset': 'GP subset(32)',\n",
    "               'sparse_64_gp_subset': 'GP subset(64)',\n",
    "               'sparse_128_gp_subset': 'GP subset(128)',          \n",
    "               'sparse_256_gp_subset': 'GP subset(256)',\n",
    "                'sparse_all_gp_subset': 'GP all (subset)',\n",
    "                'sparse_all_svgp_ntk_nn': 'GP NN all',\n",
    "               'sparse_16_gp_subset_nn': 'GP NN subset(16)',\n",
    "               'sparse_32_gp_subset_nn': 'GP NN subset(32)',\n",
    "               'sparse_64_gp_subset_nn': 'GP NN subset(64)',\n",
    "               'sparse_128_gp_subset_nn': 'GP NN subset(128)',\n",
    "               'sparse_256_gp_subset_nn': 'GP NN subset(256)',}\n",
    "method_names = ['svgp_ntk', 'gp_subset', 'gp_subset_nn', 'svgp_ntk_nn']\n",
    "datasets = ['australian', 'breast_cancer', 'ionosphere','glass',\n",
    "            'vehicle','waveform', 'digits', 'satellite']\n",
    "data_names = ['australian', 'cancer', 'ionosphere', 'glass', 'vehicle', 'waveform', 'digits', 'satellite']\n",
    "seeds = [711, 1, 75, 359, 17, 420, 129, 666, 69, 36]\n",
    "for n_inducing in inducing_points:\n",
    "    print(f'Gathering results for {n_inducing}')\n",
    "    exp_name = f'sparse_{n_inducing}'\n",
    "    for method_name in method_names:\n",
    "        table_list = []\n",
    "        if n_inducing == 'all' and 'gp_subset_nn' == method_name:\n",
    "            continue\n",
    "        for dataset in datasets:\n",
    "         #   print(dataset)\n",
    "            result_list = get_result_list(dataset, folder_name, exp_name, seeds)\n",
    "            if len(result_list) < 10:\n",
    "                print(f'WARNING: N seeds for {dataset}:')\n",
    "                print(len(result_list))\n",
    "                table_list.append((0, 0))\n",
    "                continue\n",
    "            min_idx = get_val_best(result_list, method_name)\n",
    "            (mean, std) = get_test_mean_std(result_list, min_idx, name=method_name)\n",
    "            table_list.append((round(mean, 3), round(std, 3)))\n",
    "        method_map[pretty_names[f'sparse_{n_inducing}_{method_name}']] = table_list\n",
    "        "
   ]
  },
  {
   "cell_type": "code",
   "execution_count": null,
   "id": "8bbf14cc",
   "metadata": {},
   "outputs": [],
   "source": []
  },
  {
   "cell_type": "code",
   "execution_count": 46,
   "id": "651a362b",
   "metadata": {},
   "outputs": [
    {
     "data": {
      "text/plain": [
       "{'NN MAP': [(0.31, 0.01),\n",
       "  (0.11, 0.02),\n",
       "  (0.35, 0.02),\n",
       "  (0.95, 0.03),\n",
       "  (0.42, 0.007),\n",
       "  (0.335, 0.004),\n",
       "  (0.094, 0.003),\n",
       "  (0.23, 0.002)],\n",
       " 'MFVI': [(0.34, 0.01),\n",
       "  (0.11, 0.01),\n",
       "  (0.41, 0.01),\n",
       "  (1.06, 0.01),\n",
       "  (0.504, 0.006),\n",
       "  (0.393, 0.003),\n",
       "  (0.219, 0.004),\n",
       "  (0.307, 0.002)],\n",
       " 'BNN': [(0.42, 0.0),\n",
       "  (0.19, 0.0),\n",
       "  (0.5, 0.0),\n",
       "  (1.41, 0.0),\n",
       "  (0.885, 0.002),\n",
       "  (0.516, 0.002),\n",
       "  (0.875, 0.002),\n",
       "  (0.482, 0.001)],\n",
       " 'GLM': [(0.32, 0.02),\n",
       "  (0.1, 0.01),\n",
       "  (0.29, 0.01),\n",
       "  (0.86, 0.01),\n",
       "  (0.428, 0.005),\n",
       "  (0.339, 0.004),\n",
       "  (0.25, 0.002),\n",
       "  (0.241, 0.001)],\n",
       " 'SVGP (16)': [(0.331, 0.025),\n",
       "  (0.113, 0.028),\n",
       "  (0.364, 0.035),\n",
       "  (1.004, 0.077),\n",
       "  (0.578, 0.023),\n",
       "  (0.362, 0.023),\n",
       "  (0.516, 0.018),\n",
       "  (0.379, 0.014)],\n",
       " 'GP subset(16)': [(0.573, 0.014),\n",
       "  (0.474, 0.036),\n",
       "  (0.597, 0.016),\n",
       "  (1.255, 0.029),\n",
       "  (1.143, 0.02),\n",
       "  (0.7, 0.034),\n",
       "  (1.888, 0.037),\n",
       "  (1.312, 0.047)],\n",
       " 'GP NN subset(16)': [(0.335, 0.021),\n",
       "  (0.11, 0.026),\n",
       "  (0.353, 0.044),\n",
       "  (1.017, 0.075),\n",
       "  (0.604, 0.017),\n",
       "  (0.37, 0.021),\n",
       "  (0.439, 0.016),\n",
       "  (0.367, 0.01)],\n",
       " 'SVGP NN (16)': [(0.319, 0.029),\n",
       "  (0.096, 0.035),\n",
       "  (0.302, 0.054),\n",
       "  (0.901, 0.071),\n",
       "  (0.496, 0.018),\n",
       "  (0.348, 0.026),\n",
       "  (0.349, 0.016),\n",
       "  (0.291, 0.014)],\n",
       " 'SVGP (32)': [(0.325, 0.027),\n",
       "  (0.113, 0.029),\n",
       "  (0.345, 0.038),\n",
       "  (0.947, 0.076),\n",
       "  (0.544, 0.021),\n",
       "  (0.354, 0.023),\n",
       "  (0.43, 0.015),\n",
       "  (0.334, 0.013)],\n",
       " 'GP subset(32)': [(0.51, 0.011),\n",
       "  (0.409, 0.021),\n",
       "  (0.537, 0.023),\n",
       "  (1.148, 0.047),\n",
       "  (1.016, 0.025),\n",
       "  (0.574, 0.023),\n",
       "  (1.646, 0.038),\n",
       "  (1.12, 0.042)],\n",
       " 'GP NN subset(32)': [(0.334, 0.021),\n",
       "  (0.109, 0.027),\n",
       "  (0.339, 0.048),\n",
       "  (0.994, 0.066),\n",
       "  (0.577, 0.016),\n",
       "  (0.365, 0.022),\n",
       "  (0.431, 0.015),\n",
       "  (0.361, 0.008)],\n",
       " 'SVGP NN (32)': [(0.315, 0.031),\n",
       "  (0.096, 0.035),\n",
       "  (0.297, 0.057),\n",
       "  (0.871, 0.075),\n",
       "  (0.486, 0.018),\n",
       "  (0.343, 0.026),\n",
       "  (0.321, 0.018),\n",
       "  (0.277, 0.013)],\n",
       " 'SVGP (64)': [(0.324, 0.027),\n",
       "  (0.113, 0.029),\n",
       "  (0.339, 0.039),\n",
       "  (0.929, 0.08),\n",
       "  (0.521, 0.025),\n",
       "  (0.349, 0.024),\n",
       "  (0.394, 0.018),\n",
       "  (0.305, 0.012)],\n",
       " 'GP subset(64)': [(0.439, 0.015),\n",
       "  (0.289, 0.016),\n",
       "  (0.467, 0.023),\n",
       "  (1.067, 0.061),\n",
       "  (0.865, 0.027),\n",
       "  (0.485, 0.022),\n",
       "  (1.298, 0.028),\n",
       "  (0.876, 0.029)],\n",
       " 'GP NN subset(64)': [(0.331, 0.023),\n",
       "  (0.107, 0.027),\n",
       "  (0.323, 0.052),\n",
       "  (0.941, 0.079),\n",
       "  (0.544, 0.016),\n",
       "  (0.359, 0.024),\n",
       "  (0.411, 0.016),\n",
       "  (0.342, 0.011)],\n",
       " 'SVGP NN (64)': [(0.315, 0.031),\n",
       "  (0.096, 0.035),\n",
       "  (0.296, 0.058),\n",
       "  (0.872, 0.085),\n",
       "  (0.458, 0.033),\n",
       "  (0.341, 0.028),\n",
       "  (0.305, 0.018),\n",
       "  (0.271, 0.013)],\n",
       " 'SVGP (128)': [(0.325, 0.027),\n",
       "  (0.113, 0.029),\n",
       "  (0.338, 0.039),\n",
       "  (0.927, 0.08),\n",
       "  (0.488, 0.026),\n",
       "  (0.349, 0.024),\n",
       "  (0.377, 0.018),\n",
       "  (0.294, 0.012)],\n",
       " 'GP subset(128)': [(0.381, 0.017),\n",
       "  (0.201, 0.018),\n",
       "  (0.394, 0.029),\n",
       "  (0.952, 0.076),\n",
       "  (0.735, 0.022),\n",
       "  (0.424, 0.019),\n",
       "  (0.978, 0.02),\n",
       "  (0.693, 0.035)],\n",
       " 'GP NN subset(128)': [(0.324, 0.025),\n",
       "  (0.104, 0.031),\n",
       "  (0.308, 0.054),\n",
       "  (0.884, 0.09),\n",
       "  (0.519, 0.017),\n",
       "  (0.353, 0.025),\n",
       "  (0.388, 0.016),\n",
       "  (0.319, 0.013)],\n",
       " 'SVGP NN (128)': [(0.315, 0.031),\n",
       "  (0.096, 0.035),\n",
       "  (0.296, 0.058),\n",
       "  (0.874, 0.088),\n",
       "  (0.445, 0.036),\n",
       "  (0.34, 0.028),\n",
       "  (0.295, 0.018),\n",
       "  (0.268, 0.013)],\n",
       " 'SVGP (256)': [(0.324, 0.027),\n",
       "  (0.113, 0.03),\n",
       "  (0.339, 0.039),\n",
       "  (0.926, 0.08),\n",
       "  (0.485, 0.027),\n",
       "  (0.349, 0.024),\n",
       "  (0.37, 0.018),\n",
       "  (0.29, 0.013)],\n",
       " 'GP subset(256)': [(0.342, 0.023),\n",
       "  (0.141, 0.023),\n",
       "  (0.34, 0.039),\n",
       "  (0.927, 0.08),\n",
       "  (0.615, 0.021),\n",
       "  (0.383, 0.02),\n",
       "  (0.702, 0.022),\n",
       "  (0.554, 0.02)],\n",
       " 'GP NN subset(256)': [(0.318, 0.028),\n",
       "  (0.099, 0.031),\n",
       "  (0.297, 0.059),\n",
       "  (0.874, 0.093),\n",
       "  (0.483, 0.03),\n",
       "  (0.348, 0.026),\n",
       "  (0.358, 0.018),\n",
       "  (0.302, 0.013)],\n",
       " 'SVGP NN (256)': [(0.315, 0.031),\n",
       "  (0.097, 0.036),\n",
       "  (0.296, 0.058),\n",
       "  (0.874, 0.088),\n",
       "  (0.443, 0.036),\n",
       "  (0.34, 0.028),\n",
       "  (0.291, 0.017),\n",
       "  (0.264, 0.012)],\n",
       " 'GP all': [(0.324, 0.027),\n",
       "  (0.113, 0.03),\n",
       "  (0.339, 0.039),\n",
       "  (0.926, 0.08),\n",
       "  (0.484, 0.027),\n",
       "  (0.349, 0.024),\n",
       "  (0.081, 0.026),\n",
       "  (0.272, 0.011)],\n",
       " 'GP all (subset)': [(0.325, 0.027),\n",
       "  (0.114, 0.029),\n",
       "  (0.34, 0.039),\n",
       "  (0.928, 0.08),\n",
       "  (0.484, 0.028),\n",
       "  (0.349, 0.024),\n",
       "  (0.08, 0.026),\n",
       "  (0.273, 0.011)],\n",
       " 'GP NN all': [(0.315, 0.031),\n",
       "  (0.097, 0.036),\n",
       "  (0.296, 0.058),\n",
       "  (0.874, 0.088),\n",
       "  (0.444, 0.037),\n",
       "  (0.34, 0.028),\n",
       "  (0.096, 0.029),\n",
       "  (0.251, 0.012)]}"
      ]
     },
     "execution_count": 46,
     "metadata": {},
     "output_type": "execute_result"
    }
   ],
   "source": [
    "method_map"
   ]
  },
  {
   "cell_type": "code",
   "execution_count": 64,
   "id": "f19ba35e",
   "metadata": {},
   "outputs": [
    {
     "name": "stdout",
     "output_type": "stream",
     "text": [
      "Writing to paper: ['NN MAP', 'MFVI', 'BNN', 'GLM', 'SVGP ', 'GP all', 'GP subset', 'GP NN subset', 'SVGP ', 'SVGP NN ']\n",
      "Writing to appendix: ['SVGP (16)', 'GP subset(16)', 'GP NN subset(16)', 'SVGP NN (16)', 'SVGP (32)', 'GP subset(32)', 'GP NN subset(32)', 'SVGP NN (32)', 'SVGP (64)', 'GP subset(64)', 'GP NN subset(64)', 'SVGP NN (64)', 'SVGP (128)', 'GP subset(128)', 'GP NN subset(128)', 'SVGP NN (128)', 'SVGP (256)', 'GP subset(256)', 'GP NN subset(256)', 'SVGP NN (256)', 'GP NN all', 'GP all']\n",
      "10\n",
      "10\n",
      "Using full\n",
      "Using full\n",
      "Using full\n",
      "Using full\n",
      "Using full\n",
      "Using full\n",
      "Using full\n",
      "Using full\n",
      "['\\\\begin{tabular}{l C{\\\\tblw} C{\\\\tblw} C{\\\\tblw} C{\\\\tblw}  C{\\\\tblw} || C{\\\\tblw} C{\\\\tblw} C{\\\\tblw} C{\\\\tblw}  C{\\\\tblw}  C{\\\\tblw}} \\\\\\\\', '\\\\toprule', '& \\\\multicolumn{5}{c}{}', '& \\\\multicolumn{5}{c}{Ablations (M=32)}', '\\\\\\\\ ', 'Method & NN MAP & MFVI & BNN & GLM & \\\\our & Full GP & GP subset & GP subset & \\\\our & \\\\our  \\\\\\\\', 'Mean from & & & & & GP& GP& GP& NN& GP& NN \\\\\\\\', '\\\\midrule', '\\\\sc australian & \\\\val{\\\\textbf {0.31}}{.01} & \\\\val{0.34}{.01} & \\\\val{0.42}{.00} & \\\\val{\\\\textbf {0.32}}{.02} & \\\\val{\\\\textbf {0.32}}{.03} & \\\\val{\\\\textbf {0.32}}{.03} & \\\\val{0.51}{.01} & \\\\val{\\\\textbf {0.33}}{.02} & \\\\val{\\\\textbf {0.33}}{.03} & \\\\val{\\\\textbf {0.32}}{.03} \\\\\\\\', '\\\\sc cancer & \\\\val{\\\\textbf {0.11}}{.02} & \\\\val{0.11}{.01} & \\\\val{0.19}{.00} & \\\\val{\\\\textbf {0.10}}{.01} & \\\\val{\\\\textbf {0.11}}{.03} & \\\\val{\\\\textbf {0.11}}{.03} & \\\\val{0.41}{.02} & \\\\val{\\\\textbf {0.11}}{.03} & \\\\val{\\\\textbf {0.11}}{.03} & \\\\val{\\\\textbf {0.10}}{.04} \\\\\\\\', '\\\\sc ionosphere & \\\\val{0.35}{.02} & \\\\val{0.41}{.01} & \\\\val{0.50}{.00} & \\\\val{\\\\textbf {0.29}}{.01} & \\\\val{0.34}{.04} & \\\\val{\\\\textbf {0.34}}{.04} & \\\\val{0.54}{.02} & \\\\val{\\\\textbf {0.34}}{.05} & \\\\val{0.34}{.04} & \\\\val{\\\\textbf {0.30}}{.06} \\\\\\\\', '\\\\sc glass & \\\\val{0.95}{.03} & \\\\val{1.06}{.01} & \\\\val{1.41}{.00} & \\\\val{\\\\textbf {0.86}}{.01} & \\\\val{0.93}{.08} & \\\\val{\\\\textbf {0.93}}{.08} & \\\\val{1.15}{.05} & \\\\val{0.99}{.07} & \\\\val{0.95}{.08} & \\\\val{\\\\textbf {0.87}}{.07} \\\\\\\\', '\\\\sc vehicle & \\\\val{\\\\textbf {0.42}}{.01} & \\\\val{0.50}{.01} & \\\\val{0.89}{.00} & \\\\val{0.43}{.01} & \\\\val{0.48}{.03} & \\\\val{\\\\textbf {0.48}}{.03} & \\\\val{1.02}{.03} & \\\\val{0.58}{.02} & \\\\val{0.54}{.02} & \\\\val{\\\\textbf {0.49}}{.02} \\\\\\\\', '\\\\sc waveform & \\\\val{\\\\textbf {0.34}}{.00} & \\\\val{0.39}{.00} & \\\\val{0.52}{.00} & \\\\val{0.34}{.00} & \\\\val{\\\\textbf {0.35}}{.02} & \\\\val{\\\\textbf {0.35}}{.02} & \\\\val{0.57}{.02} & \\\\val{\\\\textbf {0.36}}{.02} & \\\\val{\\\\textbf {0.35}}{.02} & \\\\val{\\\\textbf {0.34}}{.03} \\\\\\\\', '\\\\sc digits & \\\\val{\\\\textbf {0.09}}{.00} & \\\\val{0.22}{.00} & \\\\val{0.88}{.00} & \\\\val{0.25}{.00} & \\\\val{0.37}{.02} & \\\\val{\\\\textbf {0.08}}{.03} & \\\\val{1.65}{.04} & \\\\val{0.43}{.01} & \\\\val{0.43}{.01} & \\\\val{0.32}{.02} \\\\\\\\', '\\\\sc satellite & \\\\val{\\\\textbf {0.23}}{.00} & \\\\val{0.31}{.00} & \\\\val{0.48}{.00} & \\\\val{0.24}{.00} & \\\\val{0.29}{.01} & \\\\val{\\\\textbf {0.27}}{.01} & \\\\val{1.12}{.04} & \\\\val{0.36}{.01} & \\\\val{0.33}{.01} & \\\\val{\\\\textbf {0.28}}{.01} \\\\\\\\', '\\\\bottomrule', '\\\\end{tabular}']\n"
     ]
    }
   ],
   "source": [
    "import os\n",
    "import scipy.stats as stats\n",
    "paper_methods = ['NN MAP', 'MFVI', 'BNN', 'GLM', 'GP subset(256)', 'SVGP (256)', 'GP NN subset(256)', 'SVGP NN (256)', 'GP all']\n",
    "paper_methods = ['NN MAP', 'MFVI', 'BNN', 'GLM', 'SVGP ', 'GP all',  'GP subset', 'GP NN subset', 'SVGP ',  'SVGP NN ']\n",
    "pretty_names = ['NN MAP', 'MFVI', 'BNN', 'GLM', r'\\our', 'Full GP', 'GP subset',  'GP subset', r'\\our', r'\\our', ]\n",
    "dataset_to_subset = {'australian':256,\n",
    "                    'cancer':256,\n",
    "                    'ionosphere':256, \n",
    "                     'glass':256,\n",
    "                     'vehicle':256, \n",
    "                     'waveform':256,\n",
    "                     'digits':256, \n",
    "                     'satellite':256}\n",
    "all_methods = list(method_map.keys())\n",
    "appendix_methods = []\n",
    "for method in all_methods:\n",
    "    if method not in paper_methods and method != 'GP all (subset)':\n",
    "        appendix_methods.append(method)\n",
    "appendix_methods.append('GP all')\n",
    "print(f'Writing to paper: {paper_methods}')\n",
    "print(f'Writing to appendix: {appendix_methods}')\n",
    "\n",
    "def is_significant(mean, std_dev, means, std_devs):\n",
    "    idx_max = np.argmin(means)\n",
    "    s = stats.ttest_ind_from_stats(means[idx_max], std_devs[idx_max], 10, mean,  std_dev, 10, equal_var=False)\n",
    "    return s.pvalue > 0.05\n",
    "\n",
    "lines = []\n",
    "lines.append(r'\\begin{tabular}{l C{\\tblw} C{\\tblw} C{\\tblw} C{\\tblw}  C{\\tblw} || C{\\tblw} C{\\tblw} C{\\tblw} C{\\tblw}  C{\\tblw}  C{\\tblw}} \\\\')\n",
    "lines.append(r'\\toprule')\n",
    "lines.append(r'& \\multicolumn{5}{c}{}')\n",
    "lines.append(r'& \\multicolumn{5}{c}{Ablations ($M=32$)}')\n",
    "lines.append(r'\\\\ ')\n",
    "header_str = 'Method '\n",
    "for method_name in pretty_names:\n",
    "    header_str += f'& {method_name} '\n",
    "header_str += r' \\\\'\n",
    "lines.append(header_str)\n",
    "\n",
    "header_str = 'Mean from '\n",
    "print(len(pretty_names))\n",
    "print(len(paper_methods))\n",
    "for method_name in paper_methods:\n",
    "    if 'NN' in method_name and method_name not in ['NN MAP', 'BNN']:\n",
    "        mean = 'NN'\n",
    "    elif 'GP' in method_name or 'our' in method_name:\n",
    "        mean = 'GP'\n",
    "    else:\n",
    "        mean = ''\n",
    "    header_str += f'& {mean}'\n",
    "header_str += r' \\\\'\n",
    "lines.append(header_str)\n",
    "lines.append(r'\\midrule')\n",
    "for i, data_name in enumerate(data_names):\n",
    "    subset_size = dataset_to_subset[data_name]\n",
    "    subset_size_abl = 32\n",
    "    line_str = f'\\sc {data_name} &'\n",
    "    moments_1 = np.zeros((5, 2))\n",
    "    moments_2 = np.zeros((5, 2))\n",
    "    for j, method_name in enumerate(paper_methods):\n",
    "        if method_name in ['GP all', 'GP NN all'] :\n",
    "            method_key = method_name\n",
    "        elif 'GP' not in method_name:\n",
    "            method_key = method_name\n",
    "        elif j == 4:\n",
    "            print('Using full')\n",
    "            method_key = f'{method_name}({subset_size})'\n",
    "        else:\n",
    "            method_key = f'{method_name}({subset_size_abl})'\n",
    "        (mean, var) = method_map[method_key][i]\n",
    "        if j <= 4:\n",
    "            moments_1[j, 0] = mean\n",
    "            moments_1[j, 1] = var\n",
    "        else:\n",
    "            moments_2[j-5, 0] = mean\n",
    "            moments_2[j-5, 1] = var\n",
    "    \n",
    "    for j, method_name in enumerate(paper_methods):\n",
    "        if j <= 4:\n",
    "            mean = moments_1[j, 0] \n",
    "            var = moments_1[j, 1]\n",
    "            bold = is_significant(mean, var, moments_1[:, 0], moments_1[:, 1])\n",
    "        else:\n",
    "            mean = moments_2[j-5, 0]\n",
    "            var = moments_2[j-5, 1]\n",
    "            bold = is_significant(mean, var, moments_2[:, 0], moments_2[:, 1])\n",
    "        line_str += ' '\n",
    "        mean = '{:.2f}'.format(mean)\n",
    "        var = '{:.2f}'.format(var).lstrip('0')\n",
    "        line_str += r'\\val{'\n",
    "        if bold:\n",
    "            line_str += r'\\textbf {'\n",
    "        line_str += str(mean)\n",
    "        if bold:\n",
    "            line_str += r'}'\n",
    "        line_str += '}{'\n",
    "        line_str += str(var)\n",
    "        line_str += '}'\n",
    "        line_str += ' &'\n",
    "    line_str = line_str[:-2]\n",
    "    line_str += r' \\\\'\n",
    "    lines.append(line_str) \n",
    "lines.append(r'\\bottomrule')\n",
    "lines.append(r'\\end{tabular}')\n",
    "tex_file = 'uci.tex'\n",
    "os.remove(tex_file)\n",
    "with open(tex_file, 'a') as file:\n",
    "    for line in lines:\n",
    "        file.write(line+'\\n')\n",
    "    \n",
    "print(lines)"
   ]
  },
  {
   "cell_type": "code",
   "execution_count": 26,
   "id": "6e9db5b3",
   "metadata": {},
   "outputs": [
    {
     "name": "stdout",
     "output_type": "stream",
     "text": [
      "['\\\\begin{tabular}{l l C{0.6\\\\tblw} C{0.6\\\\tblw} C{0.6\\\\tblw} C{0.6\\\\tblw} C{0.6\\\\tblw} C{0.6\\\\tblw} C{0.6\\\\tblw} C{0.6\\\\tblw} C{0.6\\\\tblw} C{0.6\\\\tblw} C{0.6\\\\tblw} C{0.6\\\\tblw} C{0.6\\\\tblw} C{0.6\\\\tblw} C{0.6\\\\tblw} C{0.6\\\\tblw} C{0.6\\\\tblw} C{0.6\\\\tblw} C{0.6\\\\tblw} C{0.6\\\\tblw} C{0.6\\\\tblw} C{0.6\\\\tblw}}', '\\\\toprule', '& SVGP & SVGP NN & GP subset & GP NN subset  \\\\\\\\', '\\\\midrule', '\\\\multirow{2}{*}{16}', '\\\\sc australian & \\\\val{0.331}{0.025} & \\\\val{0.573}{0.014} & \\\\val{0.335}{0.021} & \\\\val{0.319}{0.029} \\\\\\\\', '\\\\sc cancer & \\\\val{0.113}{0.028} & \\\\val{0.474}{0.036} & \\\\val{0.11}{0.026} & \\\\val{0.096}{0.035} \\\\\\\\', '\\\\sc ionosphere & \\\\val{0.364}{0.035} & \\\\val{0.597}{0.016} & \\\\val{0.353}{0.044} & \\\\val{0.302}{0.054} \\\\\\\\', '\\\\sc glass & \\\\val{1.004}{0.077} & \\\\val{1.255}{0.029} & \\\\val{1.017}{0.075} & \\\\val{0.901}{0.071} \\\\\\\\', '\\\\sc vehicle & \\\\val{0.578}{0.023} & \\\\val{1.143}{0.02} & \\\\val{0.604}{0.017} & \\\\val{0.496}{0.018} \\\\\\\\', '\\\\sc waveform & \\\\val{0.362}{0.023} & \\\\val{0.7}{0.034} & \\\\val{0.37}{0.021} & \\\\val{0.348}{0.026} \\\\\\\\', '\\\\sc digits & \\\\val{0.516}{0.018} & \\\\val{1.888}{0.037} & \\\\val{0.439}{0.016} & \\\\val{0.349}{0.016} \\\\\\\\', '\\\\sc satellite & \\\\val{0.379}{0.014} & \\\\val{1.312}{0.047} & \\\\val{0.367}{0.01} & \\\\val{0.291}{0.014} \\\\\\\\', '\\\\midrule', '\\\\multirow{2}{*}{32}', '\\\\sc australian & \\\\val{0.325}{0.027} & \\\\val{0.51}{0.011} & \\\\val{0.334}{0.021} & \\\\val{0.315}{0.031} \\\\\\\\', '\\\\sc cancer & \\\\val{0.113}{0.029} & \\\\val{0.409}{0.021} & \\\\val{0.109}{0.027} & \\\\val{0.096}{0.035} \\\\\\\\', '\\\\sc ionosphere & \\\\val{0.345}{0.038} & \\\\val{0.537}{0.023} & \\\\val{0.339}{0.048} & \\\\val{0.297}{0.057} \\\\\\\\', '\\\\sc glass & \\\\val{0.947}{0.076} & \\\\val{1.148}{0.047} & \\\\val{0.994}{0.066} & \\\\val{0.871}{0.075} \\\\\\\\', '\\\\sc vehicle & \\\\val{0.544}{0.021} & \\\\val{1.016}{0.025} & \\\\val{0.577}{0.016} & \\\\val{0.486}{0.018} \\\\\\\\', '\\\\sc waveform & \\\\val{0.354}{0.023} & \\\\val{0.574}{0.023} & \\\\val{0.365}{0.022} & \\\\val{0.343}{0.026} \\\\\\\\', '\\\\sc digits & \\\\val{0.43}{0.015} & \\\\val{1.646}{0.038} & \\\\val{0.431}{0.015} & \\\\val{0.321}{0.018} \\\\\\\\', '\\\\sc satellite & \\\\val{0.334}{0.013} & \\\\val{1.12}{0.042} & \\\\val{0.361}{0.008} & \\\\val{0.277}{0.013} \\\\\\\\', '\\\\midrule', '\\\\multirow{2}{*}{64}', '\\\\sc australian & \\\\val{0.324}{0.027} & \\\\val{0.439}{0.015} & \\\\val{0.331}{0.023} & \\\\val{0.315}{0.031} \\\\\\\\', '\\\\sc cancer & \\\\val{0.113}{0.029} & \\\\val{0.289}{0.016} & \\\\val{0.107}{0.027} & \\\\val{0.096}{0.035} \\\\\\\\', '\\\\sc ionosphere & \\\\val{0.339}{0.039} & \\\\val{0.467}{0.023} & \\\\val{0.323}{0.052} & \\\\val{0.296}{0.058} \\\\\\\\', '\\\\sc glass & \\\\val{0.929}{0.08} & \\\\val{1.067}{0.061} & \\\\val{0.941}{0.079} & \\\\val{0.872}{0.085} \\\\\\\\', '\\\\sc vehicle & \\\\val{0.521}{0.025} & \\\\val{0.865}{0.027} & \\\\val{0.544}{0.016} & \\\\val{0.458}{0.033} \\\\\\\\', '\\\\sc waveform & \\\\val{0.349}{0.024} & \\\\val{0.485}{0.022} & \\\\val{0.359}{0.024} & \\\\val{0.341}{0.028} \\\\\\\\', '\\\\sc digits & \\\\val{0.394}{0.018} & \\\\val{1.298}{0.028} & \\\\val{0.411}{0.016} & \\\\val{0.305}{0.018} \\\\\\\\', '\\\\sc satellite & \\\\val{0.305}{0.012} & \\\\val{0.876}{0.029} & \\\\val{0.342}{0.011} & \\\\val{0.271}{0.013} \\\\\\\\', '\\\\midrule', '\\\\multirow{2}{*}{128}', '\\\\sc australian & \\\\val{0.325}{0.027} & \\\\val{0.381}{0.017} & \\\\val{0.324}{0.025} & \\\\val{0.315}{0.031} \\\\\\\\', '\\\\sc cancer & \\\\val{0.113}{0.029} & \\\\val{0.201}{0.018} & \\\\val{0.104}{0.031} & \\\\val{0.096}{0.035} \\\\\\\\', '\\\\sc ionosphere & \\\\val{0.338}{0.039} & \\\\val{0.394}{0.029} & \\\\val{0.308}{0.054} & \\\\val{0.296}{0.058} \\\\\\\\', '\\\\sc glass & \\\\val{0.927}{0.08} & \\\\val{0.952}{0.076} & \\\\val{0.884}{0.09} & \\\\val{0.874}{0.088} \\\\\\\\', '\\\\sc vehicle & \\\\val{0.488}{0.026} & \\\\val{0.735}{0.022} & \\\\val{0.519}{0.017} & \\\\val{0.445}{0.036} \\\\\\\\', '\\\\sc waveform & \\\\val{0.349}{0.024} & \\\\val{0.424}{0.019} & \\\\val{0.353}{0.025} & \\\\val{0.34}{0.028} \\\\\\\\', '\\\\sc digits & \\\\val{0.377}{0.018} & \\\\val{0.978}{0.02} & \\\\val{0.388}{0.016} & \\\\val{0.295}{0.018} \\\\\\\\', '\\\\sc satellite & \\\\val{0.294}{0.012} & \\\\val{0.693}{0.035} & \\\\val{0.319}{0.013} & \\\\val{0.268}{0.013} \\\\\\\\', '\\\\midrule', '\\\\multirow{2}{*}{256}', '\\\\sc australian & \\\\val{0.324}{0.027} & \\\\val{0.342}{0.023} & \\\\val{0.318}{0.028} & \\\\val{0.315}{0.031} \\\\\\\\', '\\\\sc cancer & \\\\val{0.113}{0.03} & \\\\val{0.141}{0.023} & \\\\val{0.099}{0.031} & \\\\val{0.097}{0.036} \\\\\\\\', '\\\\sc ionosphere & \\\\val{0.339}{0.039} & \\\\val{0.34}{0.039} & \\\\val{0.297}{0.059} & \\\\val{0.296}{0.058} \\\\\\\\', '\\\\sc glass & \\\\val{0.926}{0.08} & \\\\val{0.927}{0.08} & \\\\val{0.874}{0.093} & \\\\val{0.874}{0.088} \\\\\\\\', '\\\\sc vehicle & \\\\val{0.485}{0.027} & \\\\val{0.615}{0.021} & \\\\val{0.483}{0.03} & \\\\val{0.443}{0.036} \\\\\\\\', '\\\\sc waveform & \\\\val{0.349}{0.024} & \\\\val{0.383}{0.02} & \\\\val{0.348}{0.026} & \\\\val{0.34}{0.028} \\\\\\\\', '\\\\sc digits & \\\\val{0.37}{0.018} & \\\\val{0.702}{0.022} & \\\\val{0.358}{0.018} & \\\\val{0.291}{0.017} \\\\\\\\', '\\\\sc satellite & \\\\val{0.29}{0.013} & \\\\val{0.554}{0.02} & \\\\val{0.302}{0.013} & \\\\val{0.264}{0.012} \\\\\\\\', '\\\\midrule', '\\\\bottomrule', '\\\\end{tabular}']\n"
     ]
    }
   ],
   "source": [
    "lines = []\n",
    "lines.append(r'\\begin{tabular}{l l C{0.6\\tblw} C{0.6\\tblw} C{0.6\\tblw} C{0.6\\tblw} C{0.6\\tblw} C{0.6\\tblw} C{0.6\\tblw} C{0.6\\tblw} C{0.6\\tblw} C{0.6\\tblw} C{0.6\\tblw} C{0.6\\tblw} C{0.6\\tblw} C{0.6\\tblw} C{0.6\\tblw} C{0.6\\tblw} C{0.6\\tblw} C{0.6\\tblw} C{0.6\\tblw} C{0.6\\tblw} C{0.6\\tblw} C{0.6\\tblw}}')\n",
    "lines.append(r'\\toprule')\n",
    "header_str = ''\n",
    "pretty_names = ['SVGP', 'SVGP NN', 'GP subset', 'GP NN subset']\n",
    "for method_name in pretty_names:\n",
    "    header_str += f'& {method_name} '\n",
    "header_str += r' \\\\'\n",
    "lines.append(header_str)\n",
    "lines.append(r'\\midrule')\n",
    "for ind_point in inducing_points[:-1]:\n",
    "    \n",
    "    lines.append(r'\\multirow{2}{*}{'+ str(ind_point) +'}')\n",
    "    for i, data_name in enumerate(data_names):\n",
    "        line_str = f'\\sc {data_name} &'\n",
    "        for method_name in appendix_methods:\n",
    "            if str(ind_point) not in method_name:\n",
    "                continue\n",
    "            (mean, var) = method_map[method_name][i]\n",
    "            mean_var = f'{mean} {var}'\n",
    "            line_str += r' \\val{'\n",
    "            line_str += str(mean)\n",
    "            line_str += '}{'\n",
    "            line_str += str(var)\n",
    "            line_str += '} &'\n",
    "        line_str = line_str[:-2]\n",
    "        line_str += r' \\\\'\n",
    "        lines.append(line_str)    \n",
    "    lines.append(r'\\midrule')\n",
    "lines.append(r'\\bottomrule')\n",
    "lines.append(r'\\end{tabular}')\n",
    "tex_file = 'uci_all.tex'\n",
    "os.remove(tex_file)\n",
    "with open(tex_file, 'a') as file:\n",
    "    for line in lines:\n",
    "        file.write(line+'\\n')\n",
    "    \n",
    "print(lines)"
   ]
  },
  {
   "cell_type": "code",
   "execution_count": 13,
   "id": "b9fcced7",
   "metadata": {},
   "outputs": [],
   "source": [
    "nll_dict = {}\n",
    "for i, dataset in enumerate(datasets):\n",
    "    dataset_nlls = np.zeros((len(inducing_points) -1, 4))\n",
    "    for j, n_inducing in enumerate(inducing_points):\n",
    "        if n_inducing == 'all':\n",
    "            continue\n",
    "        name = f'SVGP ({n_inducing})'\n",
    "        if n_inducing == 'all':\n",
    "            name = 'GP all'\n",
    "            \n",
    "        svgp_res = method_map[name][i][0]\n",
    "        subset_name = f'GP subset({n_inducing})'\n",
    "        if n_inducing == 'all':\n",
    "            subset_name = 'GP all'\n",
    "        \n",
    "        subset_res = method_map[subset_name][i][0]\n",
    "        svgp_nn_name = f'SVGP NN ({n_inducing})'\n",
    "        svgp_nn_res = method_map[svgp_nn_name][i][0]\n",
    "        \n",
    "        gp_nn_name = f'GP NN subset({n_inducing})'\n",
    "        gp_nn_res = method_map[gp_nn_name][i][0]\n",
    "        \n",
    "        dataset_nlls[j][0] = svgp_res\n",
    "        dataset_nlls[j][1] = subset_res\n",
    "        dataset_nlls[j][2] = svgp_nn_res\n",
    "        dataset_nlls[j][3] = gp_nn_res\n",
    "    nll_dict[dataset] = dataset_nlls\n",
    "    "
   ]
  },
  {
   "cell_type": "code",
   "execution_count": 18,
   "id": "61509545",
   "metadata": {},
   "outputs": [],
   "source": [
    "import matplotlib.pyplot as plt\n",
    "import tikzplotlib\n"
   ]
  },
  {
   "cell_type": "code",
   "execution_count": 23,
   "id": "6518fff2",
   "metadata": {},
   "outputs": [
    {
     "name": "stderr",
     "output_type": "stream",
     "text": [
      "/var/folders/mb/q209wf797q9b2mggmld8bt8w0000gp/T/ipykernel_7284/2777782799.py:14: UserWarning: FixedFormatter should only be used together with FixedLocator\n",
      "  ax.set_xticklabels([0] +inducing_points[:-1])\n"
     ]
    },
    {
     "data": {
      "text/plain": [
       "<Figure size 640x480 with 0 Axes>"
      ]
     },
     "metadata": {},
     "output_type": "display_data"
    },
    {
     "data": {
      "text/plain": [
       "<Figure size 640x480 with 0 Axes>"
      ]
     },
     "metadata": {},
     "output_type": "display_data"
    },
    {
     "data": {
      "text/plain": [
       "<Figure size 640x480 with 0 Axes>"
      ]
     },
     "metadata": {},
     "output_type": "display_data"
    },
    {
     "data": {
      "text/plain": [
       "<Figure size 640x480 with 0 Axes>"
      ]
     },
     "metadata": {},
     "output_type": "display_data"
    },
    {
     "data": {
      "text/plain": [
       "<Figure size 640x480 with 0 Axes>"
      ]
     },
     "metadata": {},
     "output_type": "display_data"
    },
    {
     "data": {
      "text/plain": [
       "<Figure size 640x480 with 0 Axes>"
      ]
     },
     "metadata": {},
     "output_type": "display_data"
    },
    {
     "data": {
      "text/plain": [
       "<Figure size 640x480 with 0 Axes>"
      ]
     },
     "metadata": {},
     "output_type": "display_data"
    },
    {
     "data": {
      "text/plain": [
       "<Figure size 640x480 with 0 Axes>"
      ]
     },
     "metadata": {},
     "output_type": "display_data"
    },
    {
     "data": {
      "image/png": "[encoded data removed]",
      "text/plain": [
       "<Figure size 640x480 with 1 Axes>"
      ]
     },
     "metadata": {},
     "output_type": "display_data"
    }
   ],
   "source": [
    "for dataset in nll_dict:\n",
    "    plt.clf()\n",
    "    fig, ax = plt.subplots()\n",
    "    res_array = nll_dict[dataset]\n",
    "    svgp_res = res_array[:, 0]\n",
    "    subset_res = res_array[:, 1]\n",
    "    svgp_nn_res = res_array[:, 2]\n",
    "    gp_nn_res = res_array[:, 3]\n",
    "    ind_points = inducing_points[:-1]\n",
    "    plt.plot(ind_points, svgp_res, label='SVGP')\n",
    "    plt.plot(ind_points, svgp_nn_res, label='SVGP NN')\n",
    "    plt.plot(ind_points, subset_res, label='GP subset')\n",
    "    plt.plot(ind_points, gp_nn_res, label='GP NN subset')\n",
    "    ax.set_xticklabels([0] +inducing_points[:-1])\n",
    "    plt.title(dataset)\n",
    "    plt.xlabel('Inducing points')\n",
    "    plt.ylabel('Test NLPD')\n",
    "   # plt.legend()\n",
    "    plt.savefig(f'plots/{dataset}.png', bbox_inches='tight')\n",
    "    tikzplotlib.save(f'plots/{dataset}.tex', figure=fig)"
   ]
  },
  {
   "cell_type": "code",
   "execution_count": 355,
   "id": "3bf2ed88",
   "metadata": {},
   "outputs": [
    {
     "name": "stdout",
     "output_type": "stream",
     "text": [
      "[ 100.          116.59144012  135.93563909  158.48931925  184.78497974\n",
      "  215.443469    251.18864315  292.86445646  341.45488738  398.10717055\n",
      "  464.15888336  541.16952655  630.95734448  735.64225446  857.69589859\n",
      " 1000.        ]\n",
      "2.0644579892269186\n",
      "2.4771212547196626\n"
     ]
    }
   ],
   "source": [
    "logd_min, logd_max, n_deltas = 2, 3, 16\n",
    "deltas = np.logspace(logd_min, logd_max, n_deltas)\n",
    "print(deltas)\n",
    "print(np.log10(116))\n",
    "print(np.log10(300))"
   ]
  },
  {
   "cell_type": "markdown",
   "id": "9064636a",
   "metadata": {},
   "source": [
    "<h2>Create img result table </h2>"
   ]
  },
  {
   "cell_type": "code",
   "execution_count": 614,
   "id": "9c8c851b",
   "metadata": {},
   "outputs": [],
   "source": [
    "def get_val_best_img(result_list, deltas, model_name='svgp_ntk'):\n",
    "    print(model_name)\n",
    "    valid_nlls = [] #np.zeros((len(result_list), len(deltas)))\n",
    "    for i, results in enumerate(result_list):\n",
    "        seed_list = []\n",
    "        for j, delta in enumerate(deltas):\n",
    "            if delta not in results:\n",
    "                print(f'Warning: missing {delta} for seed index {i}')\n",
    "                continue\n",
    "            seed_list.append(results[delta]['nll_va'])\n",
    "           # valid_nlls[i, j] = valid_res\n",
    "        valid_nlls.append(seed_list)\n",
    "    \n",
    "\n",
    "    mean_nlls = np.array(pd.DataFrame(valid_nlls).mean(axis = 0))\n",
    "   # mean_nlls = np.mean(valid_nlls, axis=0)\n",
    "   # mean_nlls = np.array([np.mean([x[i] for x in valid_nlls]) for i in range(len(deltas))])\n",
    "    print(mean_nlls)\n",
    "    min_nll = mean_nlls.min()\n",
    "    min_index = list(mean_nlls).index(min_nll)\n",
    "    return min_index\n",
    "\n",
    "def get_result_list_img(res_folder, dataset, seeds, name='sparse_1000', model='MLP', method_name='svgp_ntk'):   \n",
    "    result_list = []\n",
    "    deltas = []\n",
    "    dir_name = f'../experiments/results/{dataset}/{res_folder}/svgp_runs/'\n",
    "    for seed in seeds:\n",
    "        seed_res = dict()\n",
    "        for file in os.listdir(dir_name):\n",
    "            if file[-4:] == '.pkl':\n",
    "                continue\n",
    "            s, delta = file[:-3].split('_')\n",
    "          #  ds, m, s, delta = file[:-3].split('_')\n",
    "         #   if m != model:\n",
    "          #      continue\n",
    "            if int(s) != seed:\n",
    "                continue\n",
    "            state = torch.load(os.path.join(dir_name, file), map_location=torch.device('cpu'))\n",
    "        #    if ds == 'FMNIST':\n",
    "         #       print(state.keys())\n",
    "            if f'{method_name}_{name}' not in state:\n",
    "                continue\n",
    "            seed_res[delta] = state[f'{method_name}_{name}']\n",
    "            deltas.append(delta)\n",
    "        if len(seed_res) > 0:\n",
    "            result_list.append(seed_res)\n",
    "    deltas = list(set(deltas))\n",
    "    print(f'N seeds: {len(result_list)}')\n",
    "    return result_list, deltas\n",
    "\n",
    "def get_ood_auc(test_results, res_folder, dataset, seeds, name='sparse_1000', model='MLP', method_name='svgp_ntk'):\n",
    "    dir_name = f'../experiments/results/{dataset}/{res_folder}'\n",
    "    ood_results = []\n",
    "    for seed in seeds:\n",
    "         for file in os.listdir(dir_name):\n",
    "            if file == 'models':\n",
    "                continue\n",
    "            ds, m, s,  *extras, blah = file[:-4].split('_')\n",
    "            if m != model:\n",
    "                continue\n",
    "            if int(s) != seed:\n",
    "                continue\n",
    "            exp_name = '_'.join(extras)\n",
    "         #   print(exp_name)\n",
    "            if exp_name != name:\n",
    "                continue\n",
    "        #    print(file)\n",
    "            with open(os.path.join(dir_name, file), 'rb') as handle:\n",
    "                state = pickle.load(handle)\n",
    "            if method_name not in state:\n",
    "                continue\n",
    "            ood_res = state[f'{method_name}']['ood']\n",
    "            ood_results.append(ood_res)\n",
    "    ood_results = np.array(ood_results)\n",
    "    if len(ood_results) < 4:\n",
    "        test_results['ood-auc'].append((0.0, 0.0))\n",
    "        return test_results\n",
    "    ood_mean = round(np.mean(ood_results), 3)\n",
    "    ood_std = round(np.std(ood_results), 3)\n",
    "    test_results['ood-auc'].append((ood_mean, ood_std))\n",
    "    return test_results\n",
    "            \n",
    "                          \n",
    "def get_test_mean_std_img(result_list, deltas, min_idx, metrics, test_results):\n",
    "    min_delta = deltas[min_idx]\n",
    "    for metric in metrics:\n",
    "        test_nlls = []\n",
    "        for i, results in enumerate(result_list):\n",
    "            if f'{metric}_te' not in results[min_delta]:\n",
    "                continue\n",
    "            metric_val = results[min_delta][f'{metric}_te']    \n",
    "            if metric == 'acc':\n",
    "                metric_val = metric_val * 100\n",
    "            test_nlls.append(metric_val)\n",
    "        if len(test_nlls) < 4:\n",
    "            continue\n",
    "        test_nlls = np.array(test_nlls)\n",
    "        mean = np.mean(test_nlls)\n",
    "        std = np.std(test_nlls)\n",
    "        test_results[metric].append((round(mean, 3), round(std, 3)))\n",
    "    return test_results"
   ]
  },
  {
   "cell_type": "code",
   "execution_count": 615,
   "id": "d24ee099",
   "metadata": {},
   "outputs": [],
   "source": [
    "method_map_img = {\n",
    "    'MAP': {'nll': [(0.258, 0.004), (0.605, 0.007)] , 'ece': [(0.017, 0.001), (0.066, 0.004)], 'acc':[(91.39, 0.11), (80.92, 0.32)], 'ood-auc': [(0.864, 0.014), (0.792, 0.008)]} ,\n",
    "'BNN predictive': {'nll': [(0.942, 0.016), (2.114, 0.021)] , 'ece': [(0.411, 0.008), (0.095, 0.012)], 'acc':[(84.42, 0.12), (21.74, 0.80)], 'ood-auc': [(0.945, 0.002), (0.689, 0.020)]} ,\n",
    "'BNN predictive (Ritter et al.)' : {'nll': [(0.265, 0.004), (0.588, 0.005)] , 'ece': [(0.024, 0.002), (0.052, 0.005)], 'acc':[(91.20, 0.07), (80.78, 0.36)], 'ood-auc': [(0.947, 0.006), (0.783, 0.007)]}  ,\n",
    "'GLM predictive' :{'nll': [(0.244, 0.003), (0.601, 0.008)] , 'ece': [(0.012, 0.003), (0.084, 0.010)], 'acc':[(92.25, 0.10), (81.37, 0.15)], 'ood-auc': [(0.955, 0.006), (0.843, 0.016)]}  ,\n",
    "'GP predictive' : {'nll': [(0.250, 0.004), (0.555, 0.008)] , 'ece': [(0.007, 0.001), (0.017, 0.003)], 'acc':[(91.36, 0.11), (81.01, 0.32)], 'ood-auc': [(0.918, 0.010), (0.820, 0.013)]} ,}"
   ]
  },
  {
   "cell_type": "code",
   "execution_count": 616,
   "id": "d47cdeb9",
   "metadata": {},
   "outputs": [
    {
     "name": "stdout",
     "output_type": "stream",
     "text": [
      "svgp_ntk\n",
      "sparse_100_eps_small\n",
      "FMNIST\n",
      "N seeds: 0\n",
      "N_deltas: 0\n",
      "N seeds: 0\n",
      "No results: continue\n",
      "svgp_ntk_nn\n",
      "sparse_100_eps_small\n",
      "FMNIST\n",
      "N seeds: 0\n",
      "N_deltas: 0\n",
      "N seeds: 0\n",
      "No results: continue\n",
      "svgp_ntk\n",
      "sparse_500_eps_small\n",
      "FMNIST\n",
      "N seeds: 5\n",
      "N_deltas: 10\n",
      "N seeds: 5\n",
      "svgp_ntk\n",
      "[0.3214693  0.49336416 0.36029817 0.55112615 0.31458327 0.80393473\n",
      " 0.38336282 0.33251294 0.31838479 0.85196552]\n",
      "{'acc': [(89.74, 0.3)], 'nll': [(0.319, 0.003)], 'ece': [(0.06, 0.005)], 'ood-auc': []}\n",
      "{'acc': [(89.74, 0.3)], 'nll': [(0.319, 0.003)], 'ece': [(0.06, 0.005)], 'ood-auc': []}\n",
      "svgp_ntk_nn\n",
      "sparse_500_eps_small\n",
      "FMNIST\n",
      "N seeds: 5\n",
      "N_deltas: 10\n",
      "N seeds: 5\n",
      "svgp_ntk\n",
      "[0.28519225 0.26502956 0.26519477 0.51477112 0.27333183 0.26511452\n",
      " 0.34977115 0.2658946  0.26799461 0.81367271]\n",
      "{'acc': [(90.74, 0.264)], 'nll': [(0.268, 0.005)], 'ece': [(0.006, 0.002)], 'ood-auc': []}\n",
      "{'acc': [(90.74, 0.264)], 'nll': [(0.268, 0.005)], 'ece': [(0.006, 0.002)], 'ood-auc': []}\n",
      "svgp_ntk\n",
      "sparse_1000_eps_small\n",
      "FMNIST\n",
      "N seeds: 0\n",
      "N_deltas: 0\n",
      "N seeds: 0\n",
      "No results: continue\n",
      "svgp_ntk_nn\n",
      "sparse_1000_eps_small\n",
      "FMNIST\n",
      "N seeds: 0\n",
      "N_deltas: 0\n",
      "N seeds: 0\n",
      "No results: continue\n",
      "svgp_ntk\n",
      "sparse_3200_eps_small\n",
      "FMNIST\n",
      "N seeds: 0\n",
      "N_deltas: 0\n",
      "N seeds: 0\n",
      "No results: continue\n",
      "svgp_ntk_nn\n",
      "sparse_3200_eps_small\n",
      "FMNIST\n",
      "N seeds: 0\n",
      "N_deltas: 0\n",
      "N seeds: 0\n",
      "No results: continue\n"
     ]
    }
   ],
   "source": [
    "exper_names = ['sparse_100_eps_small', 'sparse_500_eps_small', 'sparse_1000_eps_small', 'sparse_3200_eps_small']\n",
    "pretty_names = {'sparse_100_eps_small_svgp_ntk': 'SVGP (100)',\n",
    "               'sparse_100_eps_small_svgp_ntk_nn': 'SVGP NN (100)',\n",
    "               'sparse_500_eps_small_svgp_ntk': 'SVGP (500)',\n",
    "               'sparse_500_eps_small_svgp_ntk_nn': 'SVGP NN (500)',\n",
    "               'sparse_1000_eps_small_svgp_ntk': 'SVGP (1000)',\n",
    "               'sparse_1000_eps_small_svgp_ntk_nn': 'SVGP NN (1000)',\n",
    "               'sparse_3200_eps_small_svgp_ntk': 'SVGP (3200)',\n",
    "               'sparse_3200_eps_small_svgp_ntk_nn': 'SVGP NN (3200)'}\n",
    "method_names = ['svgp_ntk', 'svgp_ntk_nn']\n",
    "datasets = ['FMNIST']\n",
    "dataset_to_res = {'FMNIST': '15_2', 'CIFAR10': '13'}\n",
    "model = 'CNN'\n",
    "data_names = ['FMNIST', 'CIFAR10']\n",
    "metrics = ['acc', 'nll', 'ece', 'ood-auc']\n",
    "seeds = [117, 68, 187, 27, 51]\n",
    "for exp_name in exper_names:\n",
    "    for method_name in method_names:\n",
    "        table_list = []\n",
    "        print(method_name)\n",
    "        print(exp_name)\n",
    "        test_results = dict()\n",
    "        for metric in metrics:\n",
    "            test_results[metric] = []\n",
    "        for dataset in datasets:\n",
    "            res_folder = dataset_to_res[dataset]\n",
    "            print(dataset)\n",
    "            result_list, deltas = get_result_list_img(res_folder, dataset,  seeds, name=exp_name,  model=model, method_name=method_name)\n",
    "            print(f'N_deltas: {len(deltas)}')\n",
    "            print(f'N seeds: {len(result_list)}')\n",
    "            if len(result_list) == 0:\n",
    "                print(f'No results: continue')\n",
    "                for metric in metrics:\n",
    "                    test_results[metric].append((0, 0))\n",
    "                continue\n",
    "            min_idx = get_val_best_img(result_list, deltas)\n",
    "            test_results = get_test_mean_std_img(result_list, deltas,  min_idx, metrics, test_results)\n",
    "            print(test_results)\n",
    "          #  test_results = get_ood_auc(test_results, res_folder, dataset, seeds, name=exp_name, model=model, method_name=method_name)\n",
    "            print(test_results)\n",
    "        method_map_img[pretty_names[exp_name+'_'+method_name]] = test_results"
   ]
  },
  {
   "cell_type": "code",
   "execution_count": 617,
   "id": "97c7da4b",
   "metadata": {},
   "outputs": [
    {
     "data": {
      "text/plain": [
       "{'MAP': {'nll': [(0.258, 0.004), (0.605, 0.007)],\n",
       "  'ece': [(0.017, 0.001), (0.066, 0.004)],\n",
       "  'acc': [(91.39, 0.11), (80.92, 0.32)],\n",
       "  'ood-auc': [(0.864, 0.014), (0.792, 0.008)]},\n",
       " 'BNN predictive': {'nll': [(0.942, 0.016), (2.114, 0.021)],\n",
       "  'ece': [(0.411, 0.008), (0.095, 0.012)],\n",
       "  'acc': [(84.42, 0.12), (21.74, 0.8)],\n",
       "  'ood-auc': [(0.945, 0.002), (0.689, 0.02)]},\n",
       " 'BNN predictive (Ritter et al.)': {'nll': [(0.265, 0.004), (0.588, 0.005)],\n",
       "  'ece': [(0.024, 0.002), (0.052, 0.005)],\n",
       "  'acc': [(91.2, 0.07), (80.78, 0.36)],\n",
       "  'ood-auc': [(0.947, 0.006), (0.783, 0.007)]},\n",
       " 'GLM predictive': {'nll': [(0.244, 0.003), (0.601, 0.008)],\n",
       "  'ece': [(0.012, 0.003), (0.084, 0.01)],\n",
       "  'acc': [(92.25, 0.1), (81.37, 0.15)],\n",
       "  'ood-auc': [(0.955, 0.006), (0.843, 0.016)]},\n",
       " 'GP predictive': {'nll': [(0.25, 0.004), (0.555, 0.008)],\n",
       "  'ece': [(0.007, 0.001), (0.017, 0.003)],\n",
       "  'acc': [(91.36, 0.11), (81.01, 0.32)],\n",
       "  'ood-auc': [(0.918, 0.01), (0.82, 0.013)]},\n",
       " 'SVGP (100)': {'acc': [(0, 0)],\n",
       "  'nll': [(0, 0)],\n",
       "  'ece': [(0, 0)],\n",
       "  'ood-auc': [(0, 0)]},\n",
       " 'SVGP NN (100)': {'acc': [(0, 0)],\n",
       "  'nll': [(0, 0)],\n",
       "  'ece': [(0, 0)],\n",
       "  'ood-auc': [(0, 0)]},\n",
       " 'SVGP (500)': {'acc': [(89.74, 0.3)],\n",
       "  'nll': [(0.319, 0.003)],\n",
       "  'ece': [(0.06, 0.005)],\n",
       "  'ood-auc': []},\n",
       " 'SVGP NN (500)': {'acc': [(90.74, 0.264)],\n",
       "  'nll': [(0.268, 0.005)],\n",
       "  'ece': [(0.006, 0.002)],\n",
       "  'ood-auc': []},\n",
       " 'SVGP (1000)': {'acc': [(0, 0)],\n",
       "  'nll': [(0, 0)],\n",
       "  'ece': [(0, 0)],\n",
       "  'ood-auc': [(0, 0)]},\n",
       " 'SVGP NN (1000)': {'acc': [(0, 0)],\n",
       "  'nll': [(0, 0)],\n",
       "  'ece': [(0, 0)],\n",
       "  'ood-auc': [(0, 0)]},\n",
       " 'SVGP (3200)': {'acc': [(0, 0)],\n",
       "  'nll': [(0, 0)],\n",
       "  'ece': [(0, 0)],\n",
       "  'ood-auc': [(0, 0)]},\n",
       " 'SVGP NN (3200)': {'acc': [(0, 0)],\n",
       "  'nll': [(0, 0)],\n",
       "  'ece': [(0, 0)],\n",
       "  'ood-auc': [(0, 0)]}}"
      ]
     },
     "execution_count": 617,
     "metadata": {},
     "output_type": "execute_result"
    }
   ],
   "source": [
    "method_map_img"
   ]
  },
  {
   "cell_type": "code",
   "execution_count": 557,
   "id": "0e24951b",
   "metadata": {},
   "outputs": [
    {
     "ename": "IndexError",
     "evalue": "list index out of range",
     "output_type": "error",
     "traceback": [
      "\u001b[0;31m---------------------------------------------------------------------------\u001b[0m",
      "\u001b[0;31mIndexError\u001b[0m                                Traceback (most recent call last)",
      "Cell \u001b[0;32mIn[557], line 17\u001b[0m\n\u001b[1;32m     15\u001b[0m line_str \u001b[38;5;241m=\u001b[39m \u001b[38;5;124mf\u001b[39m\u001b[38;5;124m'\u001b[39m\u001b[38;5;124m\\\u001b[39m\u001b[38;5;124msc \u001b[39m\u001b[38;5;132;01m{\u001b[39;00mdataset\u001b[38;5;132;01m}\u001b[39;00m\u001b[38;5;124m and \u001b[39m\u001b[38;5;132;01m{\u001b[39;00mmethod_name\u001b[38;5;132;01m}\u001b[39;00m\u001b[38;5;124m &\u001b[39m\u001b[38;5;124m'\u001b[39m\n\u001b[1;32m     16\u001b[0m \u001b[38;5;28;01mfor\u001b[39;00m metric \u001b[38;5;129;01min\u001b[39;00m metrics:\n\u001b[0;32m---> 17\u001b[0m     (mean, var) \u001b[38;5;241m=\u001b[39m method_map_img[method_name][metric][i]\n\u001b[1;32m     18\u001b[0m     mean_var \u001b[38;5;241m=\u001b[39m \u001b[38;5;124mf\u001b[39m\u001b[38;5;124m'\u001b[39m\u001b[38;5;132;01m{\u001b[39;00mmean\u001b[38;5;132;01m}\u001b[39;00m\u001b[38;5;124m \u001b[39m\u001b[38;5;132;01m{\u001b[39;00mvar\u001b[38;5;132;01m}\u001b[39;00m\u001b[38;5;124m'\u001b[39m\n\u001b[1;32m     19\u001b[0m     line_str \u001b[38;5;241m+\u001b[39m\u001b[38;5;241m=\u001b[39m \u001b[38;5;124mr\u001b[39m\u001b[38;5;124m'\u001b[39m\u001b[38;5;124m \u001b[39m\u001b[38;5;124m\\\u001b[39m\u001b[38;5;124mval\u001b[39m\u001b[38;5;124m{\u001b[39m\u001b[38;5;124m'\u001b[39m\n",
      "\u001b[0;31mIndexError\u001b[0m: list index out of range"
     ]
    }
   ],
   "source": [
    "import os\n",
    "\n",
    "\n",
    "lines = []\n",
    "lines.append(r'\\begin{tabular}{l C{0.6\\tblw} C{0.6\\tblw} C{0.6\\tblw} C{0.6\\tblw} C{0.6\\tblw}  C{0.6\\tblw}}')\n",
    "lines.append(r'\\toprule')\n",
    "lines.append(r'& Method & ACC~$\\uparrow$ & NLPD~$\\downarrow$ & ECE~$\\downarrow$ & OOD-AUC~$\\uparrow$  \\\\')\n",
    "lines.append(r'\\midrule')\n",
    "lines.append(r'\\multirow{2}{*}{FMNIST} ')\n",
    "for method_name in method_map_img:\n",
    "    line_str = f'\\sc {method_name} &'\n",
    "    for metric in metrics:\n",
    "        (mean, var) = method_map_img[method_name][metric][0]\n",
    "        mean_var = f'{mean} {var}'\n",
    "        line_str += r' \\val{'\n",
    "        line_str += str(mean)\n",
    "        line_str += '}{'\n",
    "        line_str += str(var)\n",
    "        line_str += '} &'\n",
    "    line_str = line_str[:-2]\n",
    "    line_str += r' \\\\'\n",
    "    lines.append(line_str)\n",
    "    \n",
    "lines.append(r'\\midrule')\n",
    "lines.append(r'\\multirow{2}{*}{CIFAR-10}')\n",
    "for method_name in method_map_img:\n",
    "    line_str = f'\\sc {method_name} &'\n",
    "    for metric in metrics:\n",
    "        (mean, var) = method_map_img[method_name][metric][1]\n",
    "        mean_var = f'{mean} {var}'\n",
    "        line_str += r' \\val{'\n",
    "        line_str += str(mean)\n",
    "        line_str += '}{'\n",
    "        line_str += str(var)\n",
    "        line_str += '} &'\n",
    "    line_str = line_str[:-2]\n",
    "    line_str += r' \\\\'\n",
    "    lines.append(line_str)\n",
    "\n",
    "lines.append(r'\\bottomrule')\n",
    "lines.append(r'\\end{tabular}')\n",
    "tex_file = 'img_super.tex'\n",
    "\n",
    "os.remove(tex_file)\n",
    "with open(tex_file, 'a') as file:\n",
    "    for line in lines:\n",
    "        file.write(line+'\\n')\n",
    "    \n",
    "print(lines)"
   ]
  },
  {
   "cell_type": "code",
   "execution_count": null,
   "id": "51a4a16c",
   "metadata": {},
   "outputs": [],
   "source": [
    "\n"
   ]
  },
  {
   "cell_type": "code",
   "execution_count": 503,
   "id": "e6a76b12",
   "metadata": {},
   "outputs": [],
   "source": [
    "dir_name = f'../experiments/results/FMNIST/11_3'\n",
    "file = 'FMNIST_CNN_117_sparse_500_eps_small_ood.pkl'\n",
    "with open(os.path.join(dir_name, file), 'rb') as handle:\n",
    "    state = pickle.load(handle)"
   ]
  },
  {
   "cell_type": "markdown",
   "id": "afb822c2",
   "metadata": {},
   "source": [
    "<h2>Plot NN training loss </h2>"
   ]
  },
  {
   "cell_type": "code",
   "execution_count": 618,
   "id": "0512a8cd",
   "metadata": {},
   "outputs": [
    {
     "name": "stdout",
     "output_type": "stream",
     "text": [
      "[0.3617921  0.34045116 0.30782106 0.29544605 0.38736905 0.32257872\n",
      " 0.26260235 0.26990552 0.28415075 0.27647092]\n",
      "['1.1e-02', '8.4e-03', '5.3e-03', '4.2e-03', '1.3e-02', '6.6e-03', '1.7e-03', '2.1e-03', '3.3e-03', '2.6e-03']\n",
      "[2.8195439355418688, 2.7024305364455254, 2.5024271199844326, 2.401400540781544, 2.8920946026904804, 2.597695185925512, 2.0086001717619175, 2.100370545117563, 2.296665190261531, 2.1931245983544616]\n"
     ]
    }
   ],
   "source": [
    "dir_name = f'../experiments/results/FMNIST/15_2/models'\n",
    "te_losses = []\n",
    "seeds = [117, 68, 187, 27, 51]\n",
    "#seeds = [117]\n",
    "deltas = []\n",
    "for i, seed in enumerate(seeds):\n",
    "    te_seed_loss = dict()\n",
    "    for file in os.listdir(dir_name):\n",
    "        ds, model,  file_seed, delta = file[:-3].split('_')\n",
    "        if int(file_seed) != seed:\n",
    "            continue\n",
    "        if delta == '0.0e+00':\n",
    "            continue\n",
    "        state = torch.load(os.path.join(dir_name, file), map_location=torch.device('cpu'))\n",
    "        losses = state['losses']\n",
    "        te_loss = state['metrics']['test_loss']\n",
    "        te_seed_loss[delta] = te_loss\n",
    "        deltas.append(delta)\n",
    "    te_losses.append(te_seed_loss)\n",
    "deltas = list(set(deltas))\n",
    "te_losses_2 = np.zeros((len(seeds), len(deltas)))\n",
    "for i, seed in enumerate(seeds):\n",
    "    for j, delta in enumerate(deltas):\n",
    "        val = te_losses[i][delta]\n",
    "        te_losses_2[i, j] = val\n",
    "print(np.min(te_losses_2, axis=0))\n",
    "print(deltas)\n",
    "print([np.log10(float(x)*60000) for x in deltas])"
   ]
  },
  {
   "cell_type": "code",
   "execution_count": 623,
   "id": "6d3fdda8",
   "metadata": {},
   "outputs": [
    {
     "name": "stdout",
     "output_type": "stream",
     "text": [
      "['1.1e-02', '8.4e-03', '5.3e-03', '4.2e-03', '1.3e-02', '6.6e-03', '1.7e-03', '2.1e-03', '3.3e-03', '2.6e-03']\n"
     ]
    },
    {
     "data": {
      "image/png": "[encoded data removed]",
      "text/plain": [
       "<Figure size 640x480 with 1 Axes>"
      ]
     },
     "metadata": {},
     "output_type": "display_data"
    }
   ],
   "source": [
    "dir_name = f'../experiments/results/FMNIST/15_2/models'\n",
    "\n",
    "seed = 51\n",
    "for file in os.listdir(dir_name):\n",
    "    ds, model,  file_seed, delta = file[:-3].split('_')\n",
    "    if int(file_seed) != seed:\n",
    "        continue\n",
    "    state = torch.load(os.path.join(dir_name, file), map_location=torch.device('cpu'))\n",
    "    losses = state['losses']\n",
    "    te_loss = state['metrics']['test_loss']\n",
    "    plt.scatter(500, te_loss,  label=delta)\n",
    "    plt.plot(losses, label=delta)\n",
    "plt.legend()\n",
    "plt.title('NN training loss')\n",
    "print(deltas)"
   ]
  },
  {
   "cell_type": "code",
   "execution_count": 624,
   "id": "b837f77c",
   "metadata": {},
   "outputs": [
    {
     "data": {
      "text/plain": [
       "array([1.00000000e-01, 2.15443469e-01, 4.64158883e-01, 1.00000000e+00,\n",
       "       2.15443469e+00, 4.64158883e+00, 1.00000000e+01, 2.15443469e+01,\n",
       "       4.64158883e+01, 1.00000000e+02, 2.15443469e+02, 4.64158883e+02,\n",
       "       1.00000000e+03])"
      ]
     },
     "execution_count": 624,
     "metadata": {},
     "output_type": "execute_result"
    }
   ],
   "source": [
    "np.logspace(-1, 3, 13)"
   ]
  },
  {
   "cell_type": "markdown",
   "id": "f2cab4f7",
   "metadata": {},
   "source": [
    "<h2>Run Image experiments </h2>"
   ]
  },
  {
   "cell_type": "code",
   "execution_count": 92,
   "id": "c46c905a",
   "metadata": {},
   "outputs": [],
   "source": [
    "ds = 'MNIST'\n",
    "model = 'MLP'\n",
    "seed = 117"
   ]
  },
  {
   "cell_type": "code",
   "execution_count": 96,
   "id": "a10bcad6",
   "metadata": {},
   "outputs": [
    {
     "name": "stdout",
     "output_type": "stream",
     "text": [
      "Writing results to ../experiments/results/MNIST\n",
      "Reading data from ../data\n",
      "Dataset: MNIST\n",
      "Seed: 117\n",
      "Downloading http://yann.lecun.com/exdb/mnist/train-images-idx3-ubyte.gz to ../data/MNIST/raw/train-images-idx3-ubyte.gz\n",
      "9920512it [00:00, 12327924.77it/s]                                              \n",
      "Extracting ../data/MNIST/raw/train-images-idx3-ubyte.gz to ../data/MNIST/raw\n",
      "Downloading http://yann.lecun.com/exdb/mnist/train-labels-idx1-ubyte.gz to ../data/MNIST/raw/train-labels-idx1-ubyte.gz\n",
      "32768it [00:00, 298645.29it/s]\n",
      "Extracting ../data/MNIST/raw/train-labels-idx1-ubyte.gz to ../data/MNIST/raw\n",
      "Downloading http://yann.lecun.com/exdb/mnist/t10k-images-idx3-ubyte.gz to ../data/MNIST/raw/t10k-images-idx3-ubyte.gz\n",
      "1654784it [00:00, 6915425.85it/s]                                               \n",
      "Extracting ../data/MNIST/raw/t10k-images-idx3-ubyte.gz to ../data/MNIST/raw\n",
      "Downloading http://yann.lecun.com/exdb/mnist/t10k-labels-idx1-ubyte.gz to ../data/MNIST/raw/t10k-labels-idx1-ubyte.gz\n",
      "8192it [00:00, 29604.16it/s]                                                    \n",
      "Extracting ../data/MNIST/raw/t10k-labels-idx1-ubyte.gz to ../data/MNIST/raw\n",
      "Processing...\n",
      "/Users/tamire1/miniconda3/envs/bnn-env-3/lib/python3.7/site-packages/torchvision/datasets/mnist.py:469: UserWarning: The given NumPy array is not writeable, and PyTorch does not support non-writeable tensors. This means you can write to the underlying (supposedly non-writeable) NumPy array using the tensor. You may want to copy the array to protect its data or make it writeable before converting it to a tensor. This type of warning will be suppressed for the rest of this program. (Triggered internally at  /Users/distiller/project/conda/conda-bld/pytorch_1595629430416/work/torch/csrc/utils/tensor_numpy.cpp:141.)\n",
      "  return torch.from_numpy(parsed.astype(m[2], copy=False)).view(*s)\n",
      "Done!\n",
      "  3%|█▏                                        | 14/500 [01:12<42:17,  5.22s/it]^C\n",
      "  3%|█▏                                        | 14/500 [01:13<42:32,  5.25s/it]\n",
      "Traceback (most recent call last):\n",
      "  File \"../experiments/imgclassification.py\", line 164, in <module>\n",
      "    main(ds_train, ds_test, model_name, seed, n_epochs, batch_size, lr, deltas, device, fname, res_dir)\n",
      "  File \"../experiments/imgclassification.py\", line 98, in main\n",
      "    loss.backward()\n",
      "  File \"/Users/tamire1/miniconda3/envs/bnn-env-3/lib/python3.7/site-packages/torch/tensor.py\", line 185, in backward\n",
      "    torch.autograd.backward(self, gradient, retain_graph, create_graph)\n",
      "  File \"/Users/tamire1/miniconda3/envs/bnn-env-3/lib/python3.7/site-packages/torch/autograd/__init__.py\", line 127, in backward\n",
      "    allow_unreachable=True)  # allow_unreachable flag\n",
      "KeyboardInterrupt\n"
     ]
    }
   ],
   "source": [
    "!python3 ../experiments/imgclassification.py -d {ds} -m {model} -s {seed}"
   ]
  }
 ],
 "metadata": {
  "kernelspec": {
   "display_name": "Python 3 (ipykernel)",
   "language": "python",
   "name": "python3"
  },
  "language_info": {
   "codemirror_mode": {
    "name": "ipython",
    "version": 3
   },
   "file_extension": ".py",
   "mimetype": "text/x-python",
   "name": "python",
   "nbconvert_exporter": "python",
   "pygments_lexer": "ipython3",
   "version": "3.11.3"
  }
 },
 "nbformat": 4,
 "nbformat_minor": 5
}
