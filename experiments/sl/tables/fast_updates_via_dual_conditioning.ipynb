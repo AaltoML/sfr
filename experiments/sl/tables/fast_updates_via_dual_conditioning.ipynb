{
 "cells": [
  {
   "cell_type": "code",
   "execution_count": 23,
   "id": "dc9b1a6b",
   "metadata": {},
   "outputs": [],
   "source": [
    "import copy\n",
    "import json\n",
    "import os\n",
    "from pathlib import Path\n",
    "\n",
    "import numpy as np\n",
    "import pandas as pd\n",
    "import wandb\n",
    "from omegaconf import OmegaConf\n",
    "from scipy.stats import ttest_ind"
   ]
  },
  {
   "cell_type": "code",
   "execution_count": 38,
   "id": "5856153b",
   "metadata": {},
   "outputs": [],
   "source": [
    "WANDB_RUNS = OmegaConf.create(\n",
    "    {\n",
    "#         \"boston\": \"aalto-ml/sl-fast-updates/jb8zuhnp\",\n",
    "#         \"boston\": \"aalto-ml/sl-fast-updates/n0tpvytt\",\n",
    "#         \"airfoil\": \"aalto-ml/sl-fast-updates/7l0oc7tu\",\n",
    "        \"boston\": \"aalto-ml/sl-fast-updates/2vxkwnxl\", # triton\n",
    "        \"airfoil\": \"aalto-ml/sl-fast-updates/d1agchis\", # triton\n",
    "        \"protein\": \"aalto-ml/sl-fast-updates/8ad4u90g\", # triton\n",
    "#         \"boston\": \"aalto-ml/sl-fast-updates/outqf2oo\", # train from D1 and D2\n",
    "#         \"airfoil\": \"\", # train from D1 and D2\n",
    "    }\n",
    ")\n",
    "\n",
    "COLUMNS_TITLES = [\n",
    "    \"NN MAP\",\n",
    "    \"BNN full\",\n",
    "    \"GLM full\",\n",
    "    \"GP Subset (GP)\",\n",
    "    \"SFR (GP)\",\n",
    "    # \"BNN full GRID\",\n",
    "    # \"GLM full GRID\",\n",
    "    # \"GP Subset (GP) BO\",\n",
    "    # \"SFR (GP) BO\",\n",
    "]\n",
    "\n",
    "COLUMNS_TITLES_MULTI = [\n",
    "    (\"$N$\", \"\"),\n",
    "    (\"$D$\", \"\"),\n",
    "    (\"$C$\", \"\"),\n",
    "    (\"\\sc nn map\", \"\"),\n",
    "    # (\" \", \"$N$\"),\n",
    "    # (\" \", \"$D$\"),\n",
    "    # (\" \", \"$C$\"),\n",
    "    # (\"     \", \"\\sc nn map\"),\n",
    "    # (\"No $\\delta$ tuning\", \"\\sc nn map\"),\n",
    "    (\"\\sc Laplace\", \"full\"),\n",
    "    (\"\\sc Laplace glm\", \"full\"),\n",
    "    (\"{\\sc gp} subset\", \"$M = 20\\% \\\\text{ of } N$\"),\n",
    "    (\"\\our\", \"$M = 20\\% \\\\text{ of } N$\"),\n",
    "    # (\"$\\delta$ tuning\", \"\\sc bnn\"),\n",
    "    # (\"$\\delta$ tuning\", \"\\sc glm\"),\n",
    "    # (\"$\\delta$ tuning\", \"{\\sc gp} subset\"),\n",
    "    # (\"$\\delta$ tuning\", \"\\our\"),\n",
    "]\n",
    "\n",
    "COLUMNS_TITLES_DICT = {\n",
    "    \"NN MAP\": \"\\sc nn map\",\n",
    "    \"BNN full\": \"\\sc bnn\",\n",
    "    \"GLM full\": \"\\sc glm\",\n",
    "    # \"BNN full GRID\": \"\\sc bnn\",\n",
    "    # \"GLM full GRID\": \"\\sc glm\",\n",
    "    \"GP Subset (GP)\": \"{\\sc gp} subset\",\n",
    "    \"SFR (GP)\": \"\\our\",\n",
    "    # \"GP Subset (GP) BO\": \"{\\sc gp} subset\",\n",
    "    # \"SFR (GP) BO\": \"\\our\",\n",
    "}\n",
    "DATASETS = {\n",
    "    \"australian\": \"\\sc Australian\",\n",
    "    \"breast_cancer\": \"\\sc Breast cancer\",\n",
    "    \"ionosphere\": \"\\sc Ionosphere\",\n",
    "    \"glass\": \"\\sc Glass\",\n",
    "    \"vehicle\": \"\\sc Vehicle\",\n",
    "    \"waveform\": \"\\sc Waveform\",\n",
    "    \"digits\": \"\\sc Digits\",\n",
    "    \"satellite\": \"\\sc Satellite\",\n",
    "}\n",
    "NUM_DATAS = {\n",
    "    \"australian\": 690,\n",
    "    \"breast_cancer\": 683,\n",
    "    \"ionosphere\": 351,\n",
    "    \"glass\": 214,\n",
    "    \"vehicle\": 846,\n",
    "    \"waveform\": 1000,\n",
    "    \"digits\": 1797,\n",
    "    \"satellite\": 6435,\n",
    "}\n",
    "INPUT_DIMS = {\n",
    "    \"australian\": 14,\n",
    "    \"breast_cancer\": 10,\n",
    "    \"ionosphere\": 34,\n",
    "    \"glass\": 9,\n",
    "    \"vehicle\": 18,\n",
    "    \"waveform\": 21,\n",
    "    \"digits\": 64,\n",
    "    \"satellite\": 35,\n",
    "}\n",
    "\n",
    "\n",
    "NUM_CLASSES = {\n",
    "    \"australian\": 2,\n",
    "    \"breast_cancer\": 2,\n",
    "    \"ionosphere\": 2,\n",
    "    \"glass\": 6,\n",
    "    \"vehicle\": 4,\n",
    "    \"waveform\": 3,\n",
    "    \"digits\": 10,\n",
    "    \"satellite\": 6,\n",
    "}"
   ]
  },
  {
   "cell_type": "code",
   "execution_count": 39,
   "id": "37f95e55",
   "metadata": {},
   "outputs": [
    {
     "data": {
      "text/html": [
       "Finishing last run (ID:kovc4qca) before initializing another..."
      ],
      "text/plain": [
       "<IPython.core.display.HTML object>"
      ]
     },
     "metadata": {},
     "output_type": "display_data"
    },
    {
     "data": {
      "text/html": [
       "Waiting for W&B process to finish... <strong style=\"color:green\">(success).</strong>"
      ],
      "text/plain": [
       "<IPython.core.display.HTML object>"
      ]
     },
     "metadata": {},
     "output_type": "display_data"
    },
    {
     "data": {
      "text/html": [
       " View run <strong style=\"color:#cdcd00\">sparkling-snow-503</strong> at: <a href='https://wandb.ai/aalto-ml/sfr-experiments_sl_tables/runs/kovc4qca' target=\"_blank\">https://wandb.ai/aalto-ml/sfr-experiments_sl_tables/runs/kovc4qca</a><br/>Synced 5 W&B file(s), 0 media file(s), 0 artifact file(s) and 0 other file(s)"
      ],
      "text/plain": [
       "<IPython.core.display.HTML object>"
      ]
     },
     "metadata": {},
     "output_type": "display_data"
    },
    {
     "data": {
      "text/html": [
       "Find logs at: <code>./wandb/run-20230928_010805-kovc4qca/logs</code>"
      ],
      "text/plain": [
       "<IPython.core.display.HTML object>"
      ]
     },
     "metadata": {},
     "output_type": "display_data"
    },
    {
     "data": {
      "text/html": [
       "Successfully finished last run (ID:kovc4qca). Initializing new run:<br/>"
      ],
      "text/plain": [
       "<IPython.core.display.HTML object>"
      ]
     },
     "metadata": {},
     "output_type": "display_data"
    },
    {
     "data": {
      "application/vnd.jupyter.widget-view+json": {
       "model_id": "d75cb64f4d56446ea7f1b39dc25507fc",
       "version_major": 2,
       "version_minor": 0
      },
      "text/plain": [
       "VBox(children=(Label(value='Waiting for wandb.init()...\\r'), FloatProgress(value=0.01670420138333005, max=1.0)…"
      ]
     },
     "metadata": {},
     "output_type": "display_data"
    },
    {
     "data": {
      "text/html": [
       "wandb version 0.15.11 is available!  To upgrade, please run:\n",
       " $ pip install wandb --upgrade"
      ],
      "text/plain": [
       "<IPython.core.display.HTML object>"
      ]
     },
     "metadata": {},
     "output_type": "display_data"
    },
    {
     "data": {
      "text/html": [
       "Tracking run with wandb version 0.15.3"
      ],
      "text/plain": [
       "<IPython.core.display.HTML object>"
      ]
     },
     "metadata": {},
     "output_type": "display_data"
    },
    {
     "data": {
      "text/html": [
       "Run data is saved locally in <code>/Users/scannea1/python-projects/sfr/experiments/sl/tables/wandb/run-20230928_011612-7n5q2z11</code>"
      ],
      "text/plain": [
       "<IPython.core.display.HTML object>"
      ]
     },
     "metadata": {},
     "output_type": "display_data"
    },
    {
     "data": {
      "text/html": [
       "Syncing run <strong><a href='https://wandb.ai/aalto-ml/sfr-experiments_sl_tables/runs/7n5q2z11' target=\"_blank\">skilled-waterfall-504</a></strong> to <a href='https://wandb.ai/aalto-ml/sfr-experiments_sl_tables' target=\"_blank\">Weights & Biases</a> (<a href='https://wandb.me/run' target=\"_blank\">docs</a>)<br/>"
      ],
      "text/plain": [
       "<IPython.core.display.HTML object>"
      ]
     },
     "metadata": {},
     "output_type": "display_data"
    },
    {
     "data": {
      "text/html": [
       " View project at <a href='https://wandb.ai/aalto-ml/sfr-experiments_sl_tables' target=\"_blank\">https://wandb.ai/aalto-ml/sfr-experiments_sl_tables</a>"
      ],
      "text/plain": [
       "<IPython.core.display.HTML object>"
      ]
     },
     "metadata": {},
     "output_type": "display_data"
    },
    {
     "data": {
      "text/html": [
       " View run at <a href='https://wandb.ai/aalto-ml/sfr-experiments_sl_tables/runs/7n5q2z11' target=\"_blank\">https://wandb.ai/aalto-ml/sfr-experiments_sl_tables/runs/7n5q2z11</a>"
      ],
      "text/plain": [
       "<IPython.core.display.HTML object>"
      ]
     },
     "metadata": {},
     "output_type": "display_data"
    }
   ],
   "source": [
    "run = wandb.init()"
   ]
  },
  {
   "cell_type": "code",
   "execution_count": 40,
   "id": "2955bc98",
   "metadata": {},
   "outputs": [
    {
     "name": "stdout",
     "output_type": "stream",
     "text": [
      "Data set: boston\n",
      "Getting data for seed with run_id: aalto-ml/sl-fast-updates/2vxkwnxl\n",
      "Downloading artifact\n"
     ]
    },
    {
     "name": "stderr",
     "output_type": "stream",
     "text": [
      "\u001b[34m\u001b[1mwandb\u001b[0m:   1 of 1 files downloaded.  \n",
      "\u001b[34m\u001b[1mwandb\u001b[0m:   1 of 1 files downloaded.  \n"
     ]
    },
    {
     "name": "stdout",
     "output_type": "stream",
     "text": [
      "   dataset     model   seed  num_inducing acc      nlpd ece       mse  \\\n",
      "0   boston    NN MAP     42           NaN      0.172699      0.058095   \n",
      "1   boston  SFR (GP)     42         128.0      0.213941      0.094116   \n",
      "2   boston  SFR (GP)     42         128.0      0.143940      0.187193   \n",
      "3   boston    NN MAP     42           NaN      0.273552      0.041523   \n",
      "4   boston  SFR (GP)     42         128.0      0.117305      0.059619   \n",
      "5   boston    NN MAP     42           NaN      0.152292      0.039728   \n",
      "6   boston  SFR (GP)     42         128.0      0.116249      0.056885   \n",
      "7   boston    NN MAP     42           NaN      0.325562      0.059409   \n",
      "8   boston  SFR (GP)     42         128.0      0.076843      0.035625   \n",
      "9   boston    NN MAP    100           NaN      0.390829      0.123710   \n",
      "10  boston  SFR (GP)    100         128.0      0.218388      0.354791   \n",
      "11  boston  SFR (GP)    100         128.0      0.182122      0.468148   \n",
      "12  boston    NN MAP    100           NaN      0.048164      0.014128   \n",
      "13  boston  SFR (GP)    100         128.0      0.117174      0.062432   \n",
      "14  boston    NN MAP    100           NaN      0.036122      0.011445   \n",
      "15  boston  SFR (GP)    100         128.0      0.137587      0.038704   \n",
      "16  boston    NN MAP    100           NaN      0.076453      0.028593   \n",
      "17  boston  SFR (GP)    100         128.0      0.124370      0.026572   \n",
      "18  boston    NN MAP     48           NaN      0.491742      0.131666   \n",
      "19  boston  SFR (GP)     48         128.0      0.249671      0.237561   \n",
      "20  boston  SFR (GP)     48         128.0      0.145947      0.195901   \n",
      "21  boston    NN MAP     48           NaN      0.204404      0.057562   \n",
      "22  boston  SFR (GP)     48         128.0      0.094849      0.115584   \n",
      "23  boston    NN MAP     48           NaN      0.291009      0.064654   \n",
      "24  boston  SFR (GP)     48         128.0      0.124362      0.137787   \n",
      "25  boston    NN MAP     48           NaN      0.101398      0.055209   \n",
      "26  boston  SFR (GP)     48         128.0      0.105700      0.060603   \n",
      "27  boston    NN MAP    412           NaN      0.691021      0.095611   \n",
      "28  boston  SFR (GP)    412         128.0      0.258044      2.121921   \n",
      "29  boston  SFR (GP)    412         128.0      0.204698      0.452240   \n",
      "30  boston    NN MAP    412           NaN      0.104683      0.019484   \n",
      "31  boston  SFR (GP)    412         128.0      0.094825      0.039909   \n",
      "32  boston    NN MAP    412           NaN      0.040717      0.011990   \n",
      "33  boston  SFR (GP)    412         128.0      0.103737      0.034442   \n",
      "34  boston    NN MAP    412           NaN      0.033091      0.010791   \n",
      "35  boston  SFR (GP)    412         128.0      0.083046      0.024238   \n",
      "36  boston    NN MAP  46392           NaN      0.538220      0.181054   \n",
      "37  boston  SFR (GP)  46392         128.0      0.247521      1.189402   \n",
      "38  boston  SFR (GP)  46392         128.0      0.162629      0.383767   \n",
      "39  boston    NN MAP  46392           NaN      0.144651      0.042475   \n",
      "40  boston  SFR (GP)  46392         128.0      0.110206      0.069470   \n",
      "41  boston    NN MAP  46392           NaN      0.190995      0.051964   \n",
      "42  boston  SFR (GP)  46392         128.0      0.148827      0.095258   \n",
      "43  boston    NN MAP  46392           NaN      0.083872      0.033132   \n",
      "44  boston  SFR (GP)  46392         128.0      0.114681      0.026450   \n",
      "\n",
      "    prior_prec       time                   method  \n",
      "0        0.001  10.191179                 Train D1  \n",
      "1        0.001  10.958425                 Train D1  \n",
      "2        0.001   0.039347    Train D1 -> Update D2  \n",
      "3        0.001   2.749734  Train D1 -> Train D1+D2  \n",
      "4        0.001   2.788370  Train D1 -> Train D1+D2  \n",
      "5        0.001  10.254498              Train D1+D2  \n",
      "6        0.001  10.292894              Train D1+D2  \n",
      "7        0.001  10.901901     Train D1 -> Train D2  \n",
      "8        0.001  10.966349     Train D1 -> Train D2  \n",
      "9        0.001  10.368639                 Train D1  \n",
      "10       0.001  10.405127                 Train D1  \n",
      "11       0.001   0.038492    Train D1 -> Update D2  \n",
      "12       0.001   3.052210  Train D1 -> Train D1+D2  \n",
      "13       0.001   3.090093  Train D1 -> Train D1+D2  \n",
      "14       0.001  10.223321              Train D1+D2  \n",
      "15       0.001  10.261818              Train D1+D2  \n",
      "16       0.001   6.197659     Train D1 -> Train D2  \n",
      "17       0.001   6.236411     Train D1 -> Train D2  \n",
      "18       0.001  10.167807                 Train D1  \n",
      "19       0.001  10.204709                 Train D1  \n",
      "20       0.001   0.039328    Train D1 -> Update D2  \n",
      "21       0.001   0.730048  Train D1 -> Train D1+D2  \n",
      "22       0.001   0.771270  Train D1 -> Train D1+D2  \n",
      "23       0.001  10.506948              Train D1+D2  \n",
      "24       0.001  10.544542              Train D1+D2  \n",
      "25       0.001   5.221346     Train D1 -> Train D2  \n",
      "26       0.001   5.261107     Train D1 -> Train D2  \n",
      "27       0.001  12.663069                 Train D1  \n",
      "28       0.001  12.698718                 Train D1  \n",
      "29       0.001   0.039315    Train D1 -> Update D2  \n",
      "30       0.001   2.496323  Train D1 -> Train D1+D2  \n",
      "31       0.001   2.533463  Train D1 -> Train D1+D2  \n",
      "32       0.001  10.500105              Train D1+D2  \n",
      "33       0.001  10.536964              Train D1+D2  \n",
      "34       0.001   9.948549     Train D1 -> Train D2  \n",
      "35       0.001   9.987412     Train D1 -> Train D2  \n",
      "36       0.001  10.232462                 Train D1  \n",
      "37       0.001  10.267569                 Train D1  \n",
      "38       0.001   0.038979    Train D1 -> Update D2  \n",
      "39       0.001   1.307800  Train D1 -> Train D1+D2  \n",
      "40       0.001   1.346897  Train D1 -> Train D1+D2  \n",
      "41       0.001   9.816607              Train D1+D2  \n",
      "42       0.001   9.854781              Train D1+D2  \n",
      "43       0.001   7.832201     Train D1 -> Train D2  \n",
      "44       0.001   7.891813     Train D1 -> Train D2  \n",
      "Data set: airfoil\n",
      "Getting data for seed with run_id: aalto-ml/sl-fast-updates/d1agchis\n",
      "Downloading artifact\n"
     ]
    },
    {
     "name": "stderr",
     "output_type": "stream",
     "text": [
      "\u001b[34m\u001b[1mwandb\u001b[0m:   1 of 1 files downloaded.  \n",
      "\u001b[34m\u001b[1mwandb\u001b[0m:   1 of 1 files downloaded.  \n"
     ]
    },
    {
     "name": "stdout",
     "output_type": "stream",
     "text": [
      "    dataset     model   seed  num_inducing acc      nlpd ece       mse  \\\n",
      "0   airfoil    NN MAP     42           NaN      6.263195      0.434843   \n",
      "1   airfoil  SFR (GP)     42         128.0      0.567218      1.127642   \n",
      "2   airfoil  SFR (GP)     42         128.0      0.535224      0.268844   \n",
      "3   airfoil    NN MAP     42           NaN      0.082586      0.015205   \n",
      "4   airfoil  SFR (GP)     42         128.0      0.503456      0.016848   \n",
      "5   airfoil    NN MAP     42           NaN      0.137894      0.023671   \n",
      "6   airfoil  SFR (GP)     42         128.0      0.492506      0.024569   \n",
      "7   airfoil    NN MAP     42           NaN      0.134163      0.024534   \n",
      "8   airfoil  SFR (GP)     42         128.0      0.496800      0.021662   \n",
      "9   airfoil    NN MAP    100           NaN      2.163439      0.193873   \n",
      "10  airfoil  SFR (GP)    100         128.0      0.550517      1.541458   \n",
      "11  airfoil  SFR (GP)    100         128.0      0.480724      0.246924   \n",
      "12  airfoil    NN MAP    100           NaN      0.056988      0.015731   \n",
      "13  airfoil  SFR (GP)    100         128.0      0.446370      0.013286   \n",
      "14  airfoil    NN MAP    100           NaN      0.072724      0.018236   \n",
      "15  airfoil  SFR (GP)    100         128.0      0.516079      0.020112   \n",
      "16  airfoil    NN MAP    100           NaN      0.056053      0.018174   \n",
      "17  airfoil  SFR (GP)    100         128.0      0.485486      0.021159   \n",
      "18  airfoil    NN MAP     48           NaN      6.260074      0.590035   \n",
      "19  airfoil  SFR (GP)     48         128.0      0.558328      1.119988   \n",
      "20  airfoil  SFR (GP)     48         128.0      0.515863      0.324633   \n",
      "21  airfoil    NN MAP     48           NaN      0.190722      0.023750   \n",
      "22  airfoil  SFR (GP)     48         128.0      0.513370      0.024821   \n",
      "23  airfoil    NN MAP     48           NaN      0.099854      0.020723   \n",
      "24  airfoil  SFR (GP)     48         128.0      0.496156      0.021831   \n",
      "25  airfoil    NN MAP     48           NaN      0.115757      0.023226   \n",
      "26  airfoil  SFR (GP)     48         128.0      0.487738      0.030974   \n",
      "27  airfoil    NN MAP    412           NaN      3.702635      0.316365   \n",
      "28  airfoil  SFR (GP)    412         128.0      0.587730      1.675800   \n",
      "29  airfoil  SFR (GP)    412         128.0      0.557994      0.254675   \n",
      "30  airfoil    NN MAP    412           NaN      0.130163      0.020918   \n",
      "31  airfoil  SFR (GP)    412         128.0      0.524126      0.021757   \n",
      "32  airfoil    NN MAP    412           NaN      0.016835      0.013257   \n",
      "33  airfoil  SFR (GP)    412         128.0      0.517716      0.017119   \n",
      "34  airfoil    NN MAP    412           NaN      0.091089      0.015214   \n",
      "35  airfoil  SFR (GP)    412         128.0      0.528332      0.020960   \n",
      "36  airfoil    NN MAP  46392           NaN      4.031674      0.695859   \n",
      "37  airfoil  SFR (GP)  46392         128.0      0.577191      1.185044   \n",
      "38  airfoil  SFR (GP)  46392         128.0      0.528013      0.350510   \n",
      "39  airfoil    NN MAP  46392           NaN      0.123058      0.021236   \n",
      "40  airfoil  SFR (GP)  46392         128.0      0.542952      0.021244   \n",
      "41  airfoil    NN MAP  46392           NaN      0.073476      0.017903   \n",
      "42  airfoil  SFR (GP)  46392         128.0      0.522295      0.018702   \n",
      "43  airfoil    NN MAP  46392           NaN      0.054376      0.018438   \n",
      "44  airfoil  SFR (GP)  46392         128.0      0.521319      0.015247   \n",
      "\n",
      "    prior_prec       time                   method  \n",
      "0       0.0001  10.266933                 Train D1  \n",
      "1       0.0001  10.328897                 Train D1  \n",
      "2       0.0001   0.077911    Train D1 -> Update D2  \n",
      "3       0.0001   3.758898  Train D1 -> Train D1+D2  \n",
      "4       0.0001   3.800345  Train D1 -> Train D1+D2  \n",
      "5       0.0001   8.889863              Train D1+D2  \n",
      "6       0.0001   8.928874              Train D1+D2  \n",
      "7       0.0001   8.550606     Train D1 -> Train D2  \n",
      "8       0.0001   8.594139     Train D1 -> Train D2  \n",
      "9       0.0001   9.483366                 Train D1  \n",
      "10      0.0001   9.522565                 Train D1  \n",
      "11      0.0001   0.072940    Train D1 -> Update D2  \n",
      "12      0.0001   2.712893  Train D1 -> Train D1+D2  \n",
      "13      0.0001   2.754908  Train D1 -> Train D1+D2  \n",
      "14      0.0001   8.891698              Train D1+D2  \n",
      "15      0.0001   8.930807              Train D1+D2  \n",
      "16      0.0001   8.335410     Train D1 -> Train D2  \n",
      "17      0.0001   8.378058     Train D1 -> Train D2  \n",
      "18      0.0001   8.583199                 Train D1  \n",
      "19      0.0001   8.623872                 Train D1  \n",
      "20      0.0001   0.075352    Train D1 -> Update D2  \n",
      "21      0.0001   3.524602  Train D1 -> Train D1+D2  \n",
      "22      0.0001   3.564136  Train D1 -> Train D1+D2  \n",
      "23      0.0001   8.828497              Train D1+D2  \n",
      "24      0.0001   8.870192              Train D1+D2  \n",
      "25      0.0001   8.734012     Train D1 -> Train D2  \n",
      "26      0.0001   8.774742     Train D1 -> Train D2  \n",
      "27      0.0001   9.398523                 Train D1  \n",
      "28      0.0001   9.433670                 Train D1  \n",
      "29      0.0001   0.079583    Train D1 -> Update D2  \n",
      "30      0.0001   2.408988  Train D1 -> Train D1+D2  \n",
      "31      0.0001   2.452308  Train D1 -> Train D1+D2  \n",
      "32      0.0001   8.736832              Train D1+D2  \n",
      "33      0.0001   8.781302              Train D1+D2  \n",
      "34      0.0001   9.568901     Train D1 -> Train D2  \n",
      "35      0.0001   9.615839     Train D1 -> Train D2  \n",
      "36      0.0001   7.741302                 Train D1  \n",
      "37      0.0001   7.782125                 Train D1  \n",
      "38      0.0001   0.076790    Train D1 -> Update D2  \n",
      "39      0.0001   5.073983  Train D1 -> Train D1+D2  \n",
      "40      0.0001   5.114586  Train D1 -> Train D1+D2  \n",
      "41      0.0001   9.181273              Train D1+D2  \n",
      "42      0.0001   9.228111              Train D1+D2  \n",
      "43      0.0001   8.191218     Train D1 -> Train D2  \n",
      "44      0.0001   8.234757     Train D1 -> Train D2  \n",
      "Data set: protein\n",
      "Getting data for seed with run_id: aalto-ml/sl-fast-updates/8ad4u90g\n",
      "Downloading artifact\n"
     ]
    },
    {
     "name": "stderr",
     "output_type": "stream",
     "text": [
      "\u001b[34m\u001b[1mwandb\u001b[0m:   1 of 1 files downloaded.  \n",
      "\u001b[34m\u001b[1mwandb\u001b[0m:   1 of 1 files downloaded.  \n"
     ]
    },
    {
     "name": "stdout",
     "output_type": "stream",
     "text": [
      "    dataset     model   seed  num_inducing acc      nlpd ece        mse  \\\n",
      "0   protein    NN MAP     42           NaN      0.132023       0.069541   \n",
      "1   protein  SFR (GP)     42        1024.0      0.435724       4.345885   \n",
      "2   protein  SFR (GP)     42        1024.0      0.159852       0.070752   \n",
      "3   protein    NN MAP     42           NaN      0.130201       0.067723   \n",
      "4   protein  SFR (GP)     42        1024.0      0.149093       0.067108   \n",
      "5   protein    NN MAP     42           NaN      0.130917       0.068583   \n",
      "6   protein  SFR (GP)     42        1024.0      0.140504       0.068205   \n",
      "7   protein    NN MAP     42           NaN      0.126606       0.063312   \n",
      "8   protein  SFR (GP)     42        1024.0      0.139203       0.063483   \n",
      "9   protein    NN MAP    100           NaN      0.130121       0.067470   \n",
      "10  protein  SFR (GP)    100        1024.0      0.425011       5.628676   \n",
      "11  protein  SFR (GP)    100        1024.0      0.151537       0.099048   \n",
      "12  protein    NN MAP    100           NaN      0.129645       0.067058   \n",
      "13  protein  SFR (GP)    100        1024.0      0.143560       0.104179   \n",
      "14  protein    NN MAP    100           NaN      0.127106       0.064103   \n",
      "15  protein  SFR (GP)    100        1024.0      0.132033       7.090164   \n",
      "16  protein    NN MAP    100           NaN      0.124449       0.060818   \n",
      "17  protein  SFR (GP)    100        1024.0      0.136419       0.077720   \n",
      "18  protein    NN MAP     48           NaN      0.131811       0.069438   \n",
      "19  protein  SFR (GP)     48        1024.0      0.466409      29.958307   \n",
      "20  protein  SFR (GP)     48        1024.0      0.170629       0.069235   \n",
      "21  protein    NN MAP     48           NaN      0.126455       0.063311   \n",
      "22  protein  SFR (GP)     48        1024.0      0.141563       0.140003   \n",
      "23  protein    NN MAP     48           NaN      0.125640       0.062353   \n",
      "24  protein  SFR (GP)     48        1024.0      0.138024       0.063191   \n",
      "25  protein    NN MAP     48           NaN      0.125167       0.061508   \n",
      "26  protein  SFR (GP)     48        1024.0      0.140829       0.062528   \n",
      "27  protein    NN MAP    412           NaN      0.134290       0.072316   \n",
      "28  protein  SFR (GP)    412        1024.0      0.454897       0.433478   \n",
      "29  protein  SFR (GP)    412        1024.0      0.153934       0.069674   \n",
      "30  protein    NN MAP    412           NaN      0.126632       0.063532   \n",
      "31  protein  SFR (GP)    412        1024.0      0.134701       0.076394   \n",
      "32  protein    NN MAP    412           NaN      0.126180       0.063009   \n",
      "33  protein  SFR (GP)    412        1024.0      0.131435       0.083831   \n",
      "34  protein    NN MAP    412           NaN      0.127029       0.063899   \n",
      "35  protein  SFR (GP)    412        1024.0      0.143464       0.064670   \n",
      "36  protein    NN MAP  46392           NaN      0.133216       0.070983   \n",
      "37  protein  SFR (GP)  46392        1024.0      0.415690       0.081473   \n",
      "38  protein  SFR (GP)  46392        1024.0      0.155553       0.072102   \n",
      "39  protein    NN MAP  46392           NaN      0.129201       0.066562   \n",
      "40  protein  SFR (GP)  46392        1024.0      0.143142       0.061457   \n",
      "41  protein    NN MAP  46392           NaN      0.131843       0.069691   \n",
      "42  protein  SFR (GP)  46392        1024.0      0.144458       0.078475   \n",
      "43  protein    NN MAP  46392           NaN      0.130759       0.068464   \n",
      "44  protein  SFR (GP)  46392        1024.0      0.147342       0.069074   \n",
      "\n",
      "    prior_prec       time                   method  \n",
      "0     0.000001   7.382040                 Train D1  \n",
      "1     0.000001   8.145706                 Train D1  \n",
      "2     0.000001   0.742190    Train D1 -> Update D2  \n",
      "3     0.000001   5.245198  Train D1 -> Train D1+D2  \n",
      "4     0.000001   6.409246  Train D1 -> Train D1+D2  \n",
      "5     0.000001   8.732575              Train D1+D2  \n",
      "6     0.000001   9.966785              Train D1+D2  \n",
      "7     0.000001   6.466937     Train D1 -> Train D2  \n",
      "8     0.000001   8.171880     Train D1 -> Train D2  \n",
      "9     0.000001   8.971353                 Train D1  \n",
      "10    0.000001   9.684391                 Train D1  \n",
      "11    0.000001   0.758210    Train D1 -> Update D2  \n",
      "12    0.000001   6.653232  Train D1 -> Train D1+D2  \n",
      "13    0.000001   7.831499  Train D1 -> Train D1+D2  \n",
      "14    0.000001  12.392329              Train D1+D2  \n",
      "15    0.000001  14.010265              Train D1+D2  \n",
      "16    0.000001   4.663247     Train D1 -> Train D2  \n",
      "17    0.000001   6.632876     Train D1 -> Train D2  \n",
      "18    0.000001   7.717552                 Train D1  \n",
      "19    0.000001   8.597607                 Train D1  \n",
      "20    0.000001   0.776071    Train D1 -> Update D2  \n",
      "21    0.000001  13.286335  Train D1 -> Train D1+D2  \n",
      "22    0.000001  14.572793  Train D1 -> Train D1+D2  \n",
      "23    0.000001   7.285328              Train D1+D2  \n",
      "24    0.000001   8.728598              Train D1+D2  \n",
      "25    0.000001   3.592083     Train D1 -> Train D2  \n",
      "26    0.000001   5.469334     Train D1 -> Train D2  \n",
      "27    0.000001   7.227739                 Train D1  \n",
      "28    0.000001   7.925556                 Train D1  \n",
      "29    0.000001   1.010110    Train D1 -> Update D2  \n",
      "30    0.000001   7.423604  Train D1 -> Train D1+D2  \n",
      "31    0.000001   8.947147  Train D1 -> Train D1+D2  \n",
      "32    0.000001   8.754752              Train D1+D2  \n",
      "33    0.000001  10.113119              Train D1+D2  \n",
      "34    0.000001   7.352697     Train D1 -> Train D2  \n",
      "35    0.000001   9.093897     Train D1 -> Train D2  \n",
      "36    0.000001  10.269737                 Train D1  \n",
      "37    0.000001  11.153166                 Train D1  \n",
      "38    0.000001   0.766030    Train D1 -> Update D2  \n",
      "39    0.000001   7.418531  Train D1 -> Train D1+D2  \n",
      "40    0.000001   8.999999  Train D1 -> Train D1+D2  \n",
      "41    0.000001  13.808275              Train D1+D2  \n",
      "42    0.000001  14.826275              Train D1+D2  \n",
      "43    0.000001   7.056239     Train D1 -> Train D2  \n",
      "44    0.000001   8.728021     Train D1 -> Train D2  \n",
      "------------------------------\n",
      "    dataset     model   seed  num_inducing acc      nlpd ece       mse  \\\n",
      "0    boston    NN MAP     42           NaN      0.172699      0.058095   \n",
      "1    boston  SFR (GP)     42         128.0      0.213941      0.094116   \n",
      "2    boston  SFR (GP)     42         128.0      0.143940      0.187193   \n",
      "3    boston    NN MAP     42           NaN      0.273552      0.041523   \n",
      "4    boston  SFR (GP)     42         128.0      0.117305      0.059619   \n",
      "..      ...       ...    ...           ...  ..       ...  ..       ...   \n",
      "40  protein  SFR (GP)  46392        1024.0      0.143142      0.061457   \n",
      "41  protein    NN MAP  46392           NaN      0.131843      0.069691   \n",
      "42  protein  SFR (GP)  46392        1024.0      0.144458      0.078475   \n",
      "43  protein    NN MAP  46392           NaN      0.130759      0.068464   \n",
      "44  protein  SFR (GP)  46392        1024.0      0.147342      0.069074   \n",
      "\n",
      "    prior_prec       time                   method  \n",
      "0     0.001000  10.191179                 Train D1  \n",
      "1     0.001000  10.958425                 Train D1  \n",
      "2     0.001000   0.039347    Train D1 -> Update D2  \n",
      "3     0.001000   2.749734  Train D1 -> Train D1+D2  \n",
      "4     0.001000   2.788370  Train D1 -> Train D1+D2  \n",
      "..         ...        ...                      ...  \n",
      "40    0.000001   8.999999  Train D1 -> Train D1+D2  \n",
      "41    0.000001  13.808275              Train D1+D2  \n",
      "42    0.000001  14.826275              Train D1+D2  \n",
      "43    0.000001   7.056239     Train D1 -> Train D2  \n",
      "44    0.000001   8.728021     Train D1 -> Train D2  \n",
      "\n",
      "[135 rows x 11 columns]\n"
     ]
    }
   ],
   "source": [
    "table_name = \"NLPD\"\n",
    "table_name = \"Metrics\"\n",
    "dfs = []\n",
    "for dataset in WANDB_RUNS.keys():\n",
    "    print(\"Data set: {}\".format(dataset))\n",
    "    run_id = WANDB_RUNS[dataset]\n",
    "    print(\"Getting data for seed with run_id: {}\".format(run_id))\n",
    "    table_artifact = run.use_artifact(\n",
    "                run_id.split(\"/\")[0]\n",
    "                + \"/\"\n",
    "                + run_id.split(\"/\")[1]\n",
    "                + \"/run-\"\n",
    "                + run_id.split(\"/\")[2]\n",
    "                + \"-\"\n",
    "                + table_name\n",
    "                + \":latest\",\n",
    "                # + \"-NLPD:latest\",\n",
    "                type=\"run_table\",\n",
    "            )\n",
    "    save_dir = os.path.join(\"old-artifacts\", table_artifact.name)\n",
    "    if not Path(save_dir).exists():\n",
    "        # download and get table from wandb\n",
    "        print(\"Downloading artifact\")\n",
    "        table_artifact.download()\n",
    "        table = table_artifact.get(table_name)\n",
    "        df = pd.DataFrame(data=table.data, columns=table.columns)\n",
    "    else:\n",
    "        # get dataframe from json\n",
    "        print(\"Loading artifact from json\")\n",
    "            \n",
    "        table_path = f\"{save_dir}/{table_name}.table.json\"\n",
    "\n",
    "        with open(table_path) as file:\n",
    "            json_dict = json.load(file)\n",
    "\n",
    "        df = pd.DataFrame(json_dict[\"data\"], columns=json_dict[\"columns\"])\n",
    "    print(df)\n",
    "    dfs.append(df)\n",
    "df = pd.concat(dfs)\n",
    "print(30 * \"-\")\n",
    "print(df)"
   ]
  },
  {
   "cell_type": "code",
   "execution_count": 41,
   "id": "22135e4f",
   "metadata": {},
   "outputs": [
    {
     "name": "stdout",
     "output_type": "stream",
     "text": [
      "    dataset     model   seed  num_inducing acc      nlpd ece        mse  \\\n",
      "1    boston  SFR (GP)     42         128.0      0.213941       0.094116   \n",
      "2    boston  SFR (GP)     42         128.0      0.143940       0.187193   \n",
      "6    boston  SFR (GP)     42         128.0      0.116249       0.056885   \n",
      "10   boston  SFR (GP)    100         128.0      0.218388       0.354791   \n",
      "11   boston  SFR (GP)    100         128.0      0.182122       0.468148   \n",
      "15   boston  SFR (GP)    100         128.0      0.137587       0.038704   \n",
      "19   boston  SFR (GP)     48         128.0      0.249671       0.237561   \n",
      "20   boston  SFR (GP)     48         128.0      0.145947       0.195901   \n",
      "24   boston  SFR (GP)     48         128.0      0.124362       0.137787   \n",
      "28   boston  SFR (GP)    412         128.0      0.258044       2.121921   \n",
      "29   boston  SFR (GP)    412         128.0      0.204698       0.452240   \n",
      "33   boston  SFR (GP)    412         128.0      0.103737       0.034442   \n",
      "37   boston  SFR (GP)  46392         128.0      0.247521       1.189402   \n",
      "38   boston  SFR (GP)  46392         128.0      0.162629       0.383767   \n",
      "42   boston  SFR (GP)  46392         128.0      0.148827       0.095258   \n",
      "1   airfoil  SFR (GP)     42         128.0      0.567218       1.127642   \n",
      "2   airfoil  SFR (GP)     42         128.0      0.535224       0.268844   \n",
      "6   airfoil  SFR (GP)     42         128.0      0.492506       0.024569   \n",
      "10  airfoil  SFR (GP)    100         128.0      0.550517       1.541458   \n",
      "11  airfoil  SFR (GP)    100         128.0      0.480724       0.246924   \n",
      "15  airfoil  SFR (GP)    100         128.0      0.516079       0.020112   \n",
      "19  airfoil  SFR (GP)     48         128.0      0.558328       1.119988   \n",
      "20  airfoil  SFR (GP)     48         128.0      0.515863       0.324633   \n",
      "24  airfoil  SFR (GP)     48         128.0      0.496156       0.021831   \n",
      "28  airfoil  SFR (GP)    412         128.0      0.587730       1.675800   \n",
      "29  airfoil  SFR (GP)    412         128.0      0.557994       0.254675   \n",
      "33  airfoil  SFR (GP)    412         128.0      0.517716       0.017119   \n",
      "37  airfoil  SFR (GP)  46392         128.0      0.577191       1.185044   \n",
      "38  airfoil  SFR (GP)  46392         128.0      0.528013       0.350510   \n",
      "42  airfoil  SFR (GP)  46392         128.0      0.522295       0.018702   \n",
      "1   protein  SFR (GP)     42        1024.0      0.435724       4.345885   \n",
      "2   protein  SFR (GP)     42        1024.0      0.159852       0.070752   \n",
      "6   protein  SFR (GP)     42        1024.0      0.140504       0.068205   \n",
      "10  protein  SFR (GP)    100        1024.0      0.425011       5.628676   \n",
      "11  protein  SFR (GP)    100        1024.0      0.151537       0.099048   \n",
      "15  protein  SFR (GP)    100        1024.0      0.132033       7.090164   \n",
      "19  protein  SFR (GP)     48        1024.0      0.466409      29.958307   \n",
      "20  protein  SFR (GP)     48        1024.0      0.170629       0.069235   \n",
      "24  protein  SFR (GP)     48        1024.0      0.138024       0.063191   \n",
      "28  protein  SFR (GP)    412        1024.0      0.454897       0.433478   \n",
      "29  protein  SFR (GP)    412        1024.0      0.153934       0.069674   \n",
      "33  protein  SFR (GP)    412        1024.0      0.131435       0.083831   \n",
      "37  protein  SFR (GP)  46392        1024.0      0.415690       0.081473   \n",
      "38  protein  SFR (GP)  46392        1024.0      0.155553       0.072102   \n",
      "42  protein  SFR (GP)  46392        1024.0      0.144458       0.078475   \n",
      "\n",
      "    prior_prec       time                 method  \n",
      "1     0.001000  10.958425               Train D1  \n",
      "2     0.001000   0.039347  Train D1 -> Update D2  \n",
      "6     0.001000  10.292894            Train D1+D2  \n",
      "10    0.001000  10.405127               Train D1  \n",
      "11    0.001000   0.038492  Train D1 -> Update D2  \n",
      "15    0.001000  10.261818            Train D1+D2  \n",
      "19    0.001000  10.204709               Train D1  \n",
      "20    0.001000   0.039328  Train D1 -> Update D2  \n",
      "24    0.001000  10.544542            Train D1+D2  \n",
      "28    0.001000  12.698718               Train D1  \n",
      "29    0.001000   0.039315  Train D1 -> Update D2  \n",
      "33    0.001000  10.536964            Train D1+D2  \n",
      "37    0.001000  10.267569               Train D1  \n",
      "38    0.001000   0.038979  Train D1 -> Update D2  \n",
      "42    0.001000   9.854781            Train D1+D2  \n",
      "1     0.000100  10.328897               Train D1  \n",
      "2     0.000100   0.077911  Train D1 -> Update D2  \n",
      "6     0.000100   8.928874            Train D1+D2  \n",
      "10    0.000100   9.522565               Train D1  \n",
      "11    0.000100   0.072940  Train D1 -> Update D2  \n",
      "15    0.000100   8.930807            Train D1+D2  \n",
      "19    0.000100   8.623872               Train D1  \n",
      "20    0.000100   0.075352  Train D1 -> Update D2  \n",
      "24    0.000100   8.870192            Train D1+D2  \n",
      "28    0.000100   9.433670               Train D1  \n",
      "29    0.000100   0.079583  Train D1 -> Update D2  \n",
      "33    0.000100   8.781302            Train D1+D2  \n",
      "37    0.000100   7.782125               Train D1  \n",
      "38    0.000100   0.076790  Train D1 -> Update D2  \n",
      "42    0.000100   9.228111            Train D1+D2  \n",
      "1     0.000001   8.145706               Train D1  \n",
      "2     0.000001   0.742190  Train D1 -> Update D2  \n",
      "6     0.000001   9.966785            Train D1+D2  \n",
      "10    0.000001   9.684391               Train D1  \n",
      "11    0.000001   0.758210  Train D1 -> Update D2  \n",
      "15    0.000001  14.010265            Train D1+D2  \n",
      "19    0.000001   8.597607               Train D1  \n",
      "20    0.000001   0.776071  Train D1 -> Update D2  \n",
      "24    0.000001   8.728598            Train D1+D2  \n",
      "28    0.000001   7.925556               Train D1  \n",
      "29    0.000001   1.010110  Train D1 -> Update D2  \n",
      "33    0.000001  10.113119            Train D1+D2  \n",
      "37    0.000001  11.153166               Train D1  \n",
      "38    0.000001   0.766030  Train D1 -> Update D2  \n",
      "42    0.000001  14.826275            Train D1+D2  \n"
     ]
    }
   ],
   "source": [
    "# Only keeps models we want in table\n",
    "df = df[\n",
    "    df[\"method\"].isin(\n",
    "        [\n",
    "            \"Train D1\",\n",
    "            \"Train D1 -> Update D2\",\n",
    "            \"Train D1+D2\",\n",
    "#             \"Train D1 -> Train D1+D2\",\n",
    "        ]\n",
    "    )\n",
    "]\n",
    "df = df[\n",
    "    df[\"model\"].isin(\n",
    "        [\n",
    "            \"SFR (GP)\",\n",
    "        ]\n",
    "    )\n",
    "]\n",
    "print(df)"
   ]
  },
  {
   "cell_type": "code",
   "execution_count": 42,
   "id": "ea87b361",
   "metadata": {},
   "outputs": [
    {
     "name": "stdout",
     "output_type": "stream",
     "text": [
      "   dataset                 method  nlpd_mean  nlpd_std  time_mean  time_std  \\\n",
      "0  airfoil               Train D1   0.568197  0.014776   9.138226  0.969055   \n",
      "1  airfoil  Train D1 -> Update D2   0.523564  0.028442   0.076515  0.002528   \n",
      "2  airfoil            Train D1+D2   0.508950  0.013600   8.947857  0.168052   \n",
      "3   boston               Train D1   0.237513  0.019943  10.906910  1.044851   \n",
      "4   boston  Train D1 -> Update D2   0.167867  0.025691   0.039092  0.000369   \n",
      "5   boston            Train D1+D2   0.126152  0.017668  10.298200  0.280920   \n",
      "6  protein               Train D1   0.439546  0.020930   9.101285  1.332234   \n",
      "7  protein  Train D1 -> Update D2   0.158301  0.007530   0.810522  0.112258   \n",
      "8  protein            Train D1+D2   0.137291  0.005571  11.529008  2.707221   \n",
      "\n",
      "   time_count  \n",
      "0           5  \n",
      "1           5  \n",
      "2           5  \n",
      "3           5  \n",
      "4           5  \n",
      "5           5  \n",
      "6           5  \n",
      "7           5  \n",
      "8           5  \n"
     ]
    }
   ],
   "source": [
    "df_with_stats = (\n",
    "    df.groupby([\"dataset\", \"method\"])\n",
    "    .agg(\n",
    "        nlpd_mean=(\"nlpd\", \"mean\"),\n",
    "        nlpd_std=(\"nlpd\", \"std\"),\n",
    "        time_mean=(\"time\", \"mean\"),\n",
    "        time_std=(\"time\", \"std\"),\n",
    "        time_count=(\"time\", \"count\"),\n",
    "    )\n",
    "    .reset_index()\n",
    ")\n",
    "print(df_with_stats)"
   ]
  },
  {
   "cell_type": "code",
   "execution_count": 43,
   "id": "ab05d4f4",
   "metadata": {},
   "outputs": [],
   "source": [
    "def bold_if_significant(row):\n",
    "    # print(f\"ROW ROW: {row}\")\n",
    "#     print(f\"Model: {row['model']}\")\n",
    "#     print(f\"tstatistic {row['tstatistic']}\")\n",
    "#     print(f\"pvalue{row['pvalue']}\")\n",
    "#     if row[\"pvalue\"] < 0.05:\n",
    "        # reject the null hypothesis of identical avg NLPDs\n",
    "#         mean = f\"{row['mean']:.2f}\"\n",
    "#         std = f\"{(row['std']):.2f}\"\n",
    "#     else:\n",
    "#         mean = \"\\mathbf{\" + f\"{row['mean']:.2f}\" + \"}\"\n",
    "#         std = \"\\mathbf{\" + f\"{(row['std']):.2f}\" + \"}\"\n",
    "#     if \"NN MAP\" in row[\"model\"]:\n",
    "#         mean = f\"{row['mean']:.2f}\"\n",
    "#         std = f\"{(row['std']):.2f}\"\n",
    "    mean = f\"{row['mean']:.2f}\"\n",
    "    std = f\"{(row['std']):.2f}\"\n",
    "    return \"\\\\val{\" + mean + \"}{\" + std + \"}\"\n",
    "\n",
    "def bold_time(row):\n",
    "    mean = f\"{row['time_mean']:.2f}\"\n",
    "    std = f\"{(row['time_std']):.2f}\"\n",
    "    return \"\\\\val{\" + mean + \"}{\" + std + \"}\"\n",
    "\n",
    "def bold_nlpd(row):\n",
    "    mean = f\"{row['nlpd_mean']:.2f}\"\n",
    "    std = f\"{(row['nlpd_std']):.2f}\"\n",
    "    return \"\\\\val{\" + mean + \"}{\" + std + \"}\""
   ]
  },
  {
   "cell_type": "code",
   "execution_count": 44,
   "id": "78003d31",
   "metadata": {},
   "outputs": [
    {
     "name": "stdout",
     "output_type": "stream",
     "text": [
      "   dataset                 method  nlpd_mean  nlpd_std  time_mean  time_std  \\\n",
      "0  airfoil               Train D1   0.568197  0.014776   9.138226  0.969055   \n",
      "1  airfoil  Train D1 -> Update D2   0.523564  0.028442   0.076515  0.002528   \n",
      "2  airfoil            Train D1+D2   0.508950  0.013600   8.947857  0.168052   \n",
      "3   boston               Train D1   0.237513  0.019943  10.906910  1.044851   \n",
      "4   boston  Train D1 -> Update D2   0.167867  0.025691   0.039092  0.000369   \n",
      "5   boston            Train D1+D2   0.126152  0.017668  10.298200  0.280920   \n",
      "6  protein               Train D1   0.439546  0.020930   9.101285  1.332234   \n",
      "7  protein  Train D1 -> Update D2   0.158301  0.007530   0.810522  0.112258   \n",
      "8  protein            Train D1+D2   0.137291  0.005571  11.529008  2.707221   \n",
      "\n",
      "   time_count  nlpd_mean_pm_std   time_mean_pm_std  \n",
      "0           5  \\val{0.57}{0.01}   \\val{9.14}{0.97}  \n",
      "1           5  \\val{0.52}{0.03}   \\val{0.08}{0.00}  \n",
      "2           5  \\val{0.51}{0.01}   \\val{8.95}{0.17}  \n",
      "3           5  \\val{0.24}{0.02}  \\val{10.91}{1.04}  \n",
      "4           5  \\val{0.17}{0.03}   \\val{0.04}{0.00}  \n",
      "5           5  \\val{0.13}{0.02}  \\val{10.30}{0.28}  \n",
      "6           5  \\val{0.44}{0.02}   \\val{9.10}{1.33}  \n",
      "7           5  \\val{0.16}{0.01}   \\val{0.81}{0.11}  \n",
      "8           5  \\val{0.14}{0.01}  \\val{11.53}{2.71}  \n"
     ]
    }
   ],
   "source": [
    "df_with_stats[\"nlpd_mean_pm_std\"] = df_with_stats.apply(bold_nlpd, axis=1)\n",
    "df_with_stats[\"time_mean_pm_std\"] = df_with_stats.apply(bold_time, axis=1)\n",
    "print(df_with_stats)"
   ]
  },
  {
   "cell_type": "code",
   "execution_count": 45,
   "id": "d412badd",
   "metadata": {},
   "outputs": [],
   "source": [
    "# df_with_stats = df_with_stats.drop(columns=['time_count'])\n",
    "# df_with_stats = df_with_stats.drop(columns=['time_mean', 'time_std', 'nlpd_mean', 'nlpd_std'])\n",
    "# # df_with_stats.rename(columns=[\"\"])\n",
    "# print(df_with_stats)"
   ]
  },
  {
   "cell_type": "code",
   "execution_count": 46,
   "id": "e9dc7315",
   "metadata": {},
   "outputs": [],
   "source": [
    "# df_with_stats.rename(columns={\"nlpd_mean_pm_std\": \"NLPD\", \"time_mean_pm_std\": \"Time\"}, inplace=True)\n",
    "# df_with_stats.rename(index={\"boston\": \"\\sc Boston\", \"Train D1\": \"No updates\", \"Train D1 -> Update D2\": \"Fast updates\", \"Train D1+D2\": \"Retrain\"}, inplace=True)"
   ]
  },
  {
   "cell_type": "code",
   "execution_count": 47,
   "id": "492c9d20",
   "metadata": {},
   "outputs": [
    {
     "name": "stdout",
     "output_type": "stream",
     "text": [
      "RangeIndex(start=0, stop=9, step=1)\n",
      "         nlpd_mean_pm_std                                          \\\n",
      "method           Train D1 Train D1 -> Update D2       Train D1+D2   \n",
      "dataset                                                             \n",
      "airfoil  \\val{0.57}{0.01}      \\val{0.52}{0.03}  \\val{0.51}{0.01}   \n",
      "boston   \\val{0.24}{0.02}      \\val{0.17}{0.03}  \\val{0.13}{0.02}   \n",
      "protein  \\val{0.44}{0.02}      \\val{0.16}{0.01}  \\val{0.14}{0.01}   \n",
      "\n",
      "          time_mean_pm_std                                           \n",
      "method            Train D1 Train D1 -> Update D2        Train D1+D2  \n",
      "dataset                                                              \n",
      "airfoil   \\val{9.14}{0.97}      \\val{0.08}{0.00}   \\val{8.95}{0.17}  \n",
      "boston   \\val{10.91}{1.04}      \\val{0.04}{0.00}  \\val{10.30}{0.28}  \n",
      "protein   \\val{9.10}{1.33}      \\val{0.81}{0.11}  \\val{11.53}{2.71}  \n"
     ]
    }
   ],
   "source": [
    "print(df_with_stats.index)\n",
    "updates_table = df_with_stats.pivot(\n",
    "    index=\"dataset\",\n",
    "    # index=[\"dataset\", \"N\", \"D\", \"C\"],\n",
    "    columns=\"method\",\n",
    "    values=[\"nlpd_mean_pm_std\", \"time_mean_pm_std\"],\n",
    "#     values=\"nlpd_mean_pm_std\",\n",
    ")\n",
    "print(updates_table)"
   ]
  },
  {
   "cell_type": "code",
   "execution_count": 48,
   "id": "27f928d2",
   "metadata": {},
   "outputs": [
    {
     "name": "stdout",
     "output_type": "stream",
     "text": [
      "         nlpd_mean_pm_std                                          \\\n",
      "                 Train D1 Train D1 -> Update D2       Train D1+D2   \n",
      "airfoil  \\val{0.57}{0.01}      \\val{0.52}{0.03}  \\val{0.51}{0.01}   \n",
      "boston   \\val{0.24}{0.02}      \\val{0.17}{0.03}  \\val{0.13}{0.02}   \n",
      "protein  \\val{0.44}{0.02}      \\val{0.16}{0.01}  \\val{0.14}{0.01}   \n",
      "\n",
      "          time_mean_pm_std                                           \n",
      "                  Train D1 Train D1 -> Update D2        Train D1+D2  \n",
      "airfoil   \\val{9.14}{0.97}      \\val{0.08}{0.00}   \\val{8.95}{0.17}  \n",
      "boston   \\val{10.91}{1.04}      \\val{0.04}{0.00}  \\val{10.30}{0.28}  \n",
      "protein   \\val{9.10}{1.33}      \\val{0.81}{0.11}  \\val{11.53}{2.71}  \n"
     ]
    }
   ],
   "source": [
    "updates_table.index.names = [None]\n",
    "updates_table.columns.names = [None, None]\n",
    "print(updates_table)"
   ]
  },
  {
   "cell_type": "code",
   "execution_count": 49,
   "id": "29166b70",
   "metadata": {},
   "outputs": [],
   "source": [
    "updates_table.rename(columns={\"nlpd_mean_pm_std\": \"NLPD\", \n",
    "                              \"time_mean_pm_std\": \"Time (s)\", \n",
    "                              \"Train D1\": \"Train w. $\\mathcal{D}_1$\", \n",
    "                              \"Train D1 -> Update D2\": \"Updates w. $\\mathcal{D}_2$\", \n",
    "                              \"Train D1+D2\": \"Retrain w. $\\mathcal{D}_1 \\cup \\mathcal{D}_2$\",\n",
    "#                               \"Train D1 -> Train D1+D2\": \"Retrain\",\n",
    "                              \"method\": \" \"\n",
    "                              }, inplace=True)\n",
    "updates_table.rename(index={\"boston\": \"\\sc Boston\",\n",
    "                            \"airfoil\": \"\\sc Airfoil\",\n",
    "                            \"protein\": \"\\sc Protein\",\n",
    "                            \"method\": \"\",\n",
    "                           }, inplace=True)"
   ]
  },
  {
   "cell_type": "code",
   "execution_count": 50,
   "id": "cad3ee05",
   "metadata": {},
   "outputs": [
    {
     "name": "stdout",
     "output_type": "stream",
     "text": [
      "MultiIndex([(    'NLPD',                      'Train w. $\\mathcal{D}_1$'),\n",
      "            (    'NLPD',                    'Updates w. $\\mathcal{D}_2$'),\n",
      "            (    'NLPD', 'Retrain w. $\\mathcal{D}_1 \\cup \\mathcal{D}_2$'),\n",
      "            ('Time (s)',                      'Train w. $\\mathcal{D}_1$'),\n",
      "            ('Time (s)',                    'Updates w. $\\mathcal{D}_2$'),\n",
      "            ('Time (s)', 'Retrain w. $\\mathcal{D}_1 \\cup \\mathcal{D}_2$')],\n",
      "           )\n"
     ]
    }
   ],
   "source": [
    "print(updates_table.columns)"
   ]
  },
  {
   "cell_type": "code",
   "execution_count": 51,
   "id": "c335b673",
   "metadata": {},
   "outputs": [
    {
     "name": "stdout",
     "output_type": "stream",
     "text": [
      "\\begin{tabular}{l|c|cc|c|cc}\n",
      "\\toprule\n",
      "{} & \\multicolumn{3}{c|}{NLPD} & \\multicolumn{3}{c|}{Time (s)} \\\\\n",
      "{} & Train w. $\\mathcal{D}_1$ & Updates w. $\\mathcal{D}_2$ & Retrain w. $\\mathcal{D}_1 \\cup \\mathcal{D}_2$ & Train w. $\\mathcal{D}_1$ & Updates w. $\\mathcal{D}_2$ & Retrain w. $\\mathcal{D}_1 \\cup \\mathcal{D}_2$ \\\\\n",
      "\\midrule\n",
      "\\sc Airfoil &         \\val{0.57}{0.01} &           \\val{0.52}{0.03} &                              \\val{0.51}{0.01} &         \\val{9.14}{0.97} &           \\val{0.08}{0.00} &                              \\val{8.95}{0.17} \\\\\n",
      "\\sc Boston  &         \\val{0.24}{0.02} &           \\val{0.17}{0.03} &                              \\val{0.13}{0.02} &        \\val{10.91}{1.04} &           \\val{0.04}{0.00} &                             \\val{10.30}{0.28} \\\\\n",
      "\\sc Protein &         \\val{0.44}{0.02} &           \\val{0.16}{0.01} &                              \\val{0.14}{0.01} &         \\val{9.10}{1.33} &           \\val{0.81}{0.11} &                             \\val{11.53}{2.71} \\\\\n",
      "\\bottomrule\n",
      "\\end{tabular}\n",
      "\n"
     ]
    },
    {
     "name": "stderr",
     "output_type": "stream",
     "text": [
      "/var/folders/m7/4s90cb416f5gppt52n88ddn80000gp/T/ipykernel_64337/3629206241.py:1: FutureWarning: In future versions `DataFrame.to_latex` is expected to utilise the base implementation of `Styler.to_latex` for formatting and rendering. The arguments signature may therefore change. It is recommended instead to use `DataFrame.style.to_latex` which also contains additional functionality.\n",
      "  print(updates_table.to_latex(column_format=\"l|c|cc|c|cc\", escape=False, multicolumn_format=\"c|\"))\n"
     ]
    }
   ],
   "source": [
    "print(updates_table.to_latex(column_format=\"l|c|cc|c|cc\", escape=False, multicolumn_format=\"c|\"))"
   ]
  },
  {
   "cell_type": "code",
   "execution_count": null,
   "id": "f566479e",
   "metadata": {},
   "outputs": [],
   "source": []
  },
  {
   "cell_type": "code",
   "execution_count": null,
   "id": "cd2ca93c",
   "metadata": {},
   "outputs": [],
   "source": []
  },
  {
   "cell_type": "code",
   "execution_count": null,
   "id": "71aada1e",
   "metadata": {},
   "outputs": [],
   "source": []
  }
 ],
 "metadata": {
  "kernelspec": {
   "display_name": "Python 3 (ipykernel)",
   "language": "python",
   "name": "python3"
  },
  "language_info": {
   "codemirror_mode": {
    "name": "ipython",
    "version": 3
   },
   "file_extension": ".py",
   "mimetype": "text/x-python",
   "name": "python",
   "nbconvert_exporter": "python",
   "pygments_lexer": "ipython3",
   "version": "3.9.13"
  }
 },
 "nbformat": 4,
 "nbformat_minor": 5
}
